{
 "cells": [
  {
   "cell_type": "code",
   "execution_count": 36,
   "metadata": {},
   "outputs": [
    {
     "name": "stdout",
     "output_type": "stream",
     "text": [
      "Requirement already satisfied: python-dotenv in /system/conda/miniconda3/envs/cloudspace/lib/python3.10/site-packages (1.0.1)\n",
      "\n",
      "\u001b[1m[\u001b[0m\u001b[34;49mnotice\u001b[0m\u001b[1;39;49m]\u001b[0m\u001b[39;49m A new release of pip is available: \u001b[0m\u001b[31;49m24.1.2\u001b[0m\u001b[39;49m -> \u001b[0m\u001b[32;49m24.2\u001b[0m\n",
      "\u001b[1m[\u001b[0m\u001b[34;49mnotice\u001b[0m\u001b[1;39;49m]\u001b[0m\u001b[39;49m To update, run: \u001b[0m\u001b[32;49mpip install --upgrade pip\u001b[0m\n"
     ]
    },
    {
     "name": "stdout",
     "output_type": "stream",
     "text": [
      "Note: you may need to restart the kernel to use updated packages.\n"
     ]
    }
   ],
   "source": [
    "pip install python-dotenv"
   ]
  },
  {
   "cell_type": "code",
   "execution_count": 37,
   "metadata": {},
   "outputs": [
    {
     "name": "stderr",
     "output_type": "stream",
     "text": [
      "Python-dotenv could not parse statement starting at line 1\n",
      "Python-dotenv could not parse statement starting at line 9\n"
     ]
    }
   ],
   "source": [
    "import dotenv\n",
    "from langchain_openai import ChatOpenAI\n",
    "\n",
    "dotenv.load_dotenv()\n",
    "\n",
    "chat_model = ChatOpenAI(model=\"gpt-3.5-turbo-0125\", temperature=0.5)"
   ]
  },
  {
   "cell_type": "code",
   "execution_count": 38,
   "metadata": {},
   "outputs": [
    {
     "data": {
      "text/plain": [
       "AIMessage(content='Medicaid managed care is a system in which states contract with managed care organizations (MCOs) to provide healthcare services to Medicaid beneficiaries. Under this model, MCOs receive a fixed monthly payment per enrollee from the state in exchange for providing a defined set of services. This approach aims to improve coordination of care, control costs, and improve health outcomes for Medicaid beneficiaries.', response_metadata={'token_usage': {'completion_tokens': 76, 'prompt_tokens': 33, 'total_tokens': 109}, 'model_name': 'gpt-3.5-turbo-0125', 'system_fingerprint': None, 'finish_reason': 'stop', 'logprobs': None}, id='run-c92928cc-ae72-40c9-8398-ecd6738fe203-0', usage_metadata={'input_tokens': 33, 'output_tokens': 76, 'total_tokens': 109})"
      ]
     },
     "execution_count": 38,
     "metadata": {},
     "output_type": "execute_result"
    }
   ],
   "source": [
    "from langchain.schema.messages import HumanMessage, SystemMessage\n",
    "\n",
    "messages = [\n",
    "     SystemMessage(\n",
    "         content=\"\"\"You're an assistant knowledgeable about\n",
    "         healthcare. Only answer healthcare-related questions.\"\"\"\n",
    "     ),\n",
    "     HumanMessage(content=\"What is Medicaid managed care?\"),\n",
    " ]\n",
    "chat_model.invoke(messages)"
   ]
  },
  {
   "cell_type": "code",
   "execution_count": 39,
   "metadata": {},
   "outputs": [
    {
     "data": {
      "text/plain": [
       "AIMessage(content=\"I'm here to help with healthcare-related questions. If you have any health-related inquiries, feel free to ask!\", response_metadata={'token_usage': {'completion_tokens': 23, 'prompt_tokens': 34, 'total_tokens': 57}, 'model_name': 'gpt-3.5-turbo-0125', 'system_fingerprint': None, 'finish_reason': 'stop', 'logprobs': None}, id='run-ffcc6f62-4cb3-40b9-9222-31062c4184c4-0', usage_metadata={'input_tokens': 34, 'output_tokens': 23, 'total_tokens': 57})"
      ]
     },
     "execution_count": 39,
     "metadata": {},
     "output_type": "execute_result"
    }
   ],
   "source": [
    "messages = [\n",
    "    SystemMessage(\n",
    "        content=\"\"\"You're an assistant knowledgeable about\n",
    "         healthcare. Only answer healthcare-related questions.\"\"\"\n",
    "     ),\n",
    "     HumanMessage(content=\"How do I change a tire?\"),\n",
    "]\n",
    "chat_model.invoke(messages)"
   ]
  },
  {
   "cell_type": "code",
   "execution_count": 40,
   "metadata": {},
   "outputs": [
    {
     "data": {
      "text/plain": [
       "AIMessage(content='Blood pressure is the force of blood pushing against the walls of the arteries as the heart pumps blood throughout the body. It is measured in millimeters of mercury (mmHg) and is typically expressed as two numbers, such as 120/80 mmHg. The first number (systolic pressure) represents the pressure in the arteries when the heart beats, while the second number (diastolic pressure) represents the pressure in the arteries when the heart is at rest between beats. High blood pressure, or hypertension, can increase the risk of heart disease, stroke, and other health problems.', response_metadata={'token_usage': {'completion_tokens': 121, 'prompt_tokens': 12, 'total_tokens': 133}, 'model_name': 'gpt-3.5-turbo-0125', 'system_fingerprint': None, 'finish_reason': 'stop', 'logprobs': None}, id='run-c3db74f1-99dc-4278-82f1-4762fb9bf0ec-0', usage_metadata={'input_tokens': 12, 'output_tokens': 121, 'total_tokens': 133})"
      ]
     },
     "execution_count": 40,
     "metadata": {},
     "output_type": "execute_result"
    }
   ],
   "source": [
    "chat_model.invoke(\"What is blood pressure?\")"
   ]
  },
  {
   "cell_type": "markdown",
   "metadata": {},
   "source": [
    " Chat models:\n",
    "\n",
    "• Language models that can engage in back-and-forth conversations\n",
    "• Take a sequence of messages as input and generate a new message as output\n",
    "\n",
    "\n",
    "• System messages:\n",
    "\n",
    "• Provide context or instructions to the chat model\n",
    "• Help set the tone and behavior of the model\n",
    "• For example, telling the model to act as a helpful assistant\n",
    "\n",
    "\n",
    "• Human messages:\n",
    "\n",
    "• The prompts or questions provided by the human user\n",
    "• The chat model processes the sequence of system and human messages\n",
    "• Generates a new message in response, allowing for a conversational flow"
   ]
  },
  {
   "cell_type": "code",
   "execution_count": 41,
   "metadata": {},
   "outputs": [
    {
     "data": {
      "text/plain": [
       "\"Human: Your job is to use patient\\nreviews to answer questions about their experience at a hospital.\\nUse the following context to answer questions. Be as detailed\\nas possible, but don't make up any information that's not\\nfrom the context. If you don't know an answer, say you don't know.\\n\\nThe medical staff at the hospital were incredibly attentive and supportive during my stay. The facilities were top-notch, making my recovery comfortable and smooth.\\n\\nDid anyone have a positive experience?\\n\""
      ]
     },
     "execution_count": 41,
     "metadata": {},
     "output_type": "execute_result"
    }
   ],
   "source": [
    "from langchain.prompts import ChatPromptTemplate\n",
    "\n",
    "review_template_str = \"\"\"Your job is to use patient\n",
    "reviews to answer questions about their experience at a hospital.\n",
    "Use the following context to answer questions. Be as detailed\n",
    "as possible, but don't make up any information that's not\n",
    "from the context. If you don't know an answer, say you don't know.\n",
    "\n",
    "{context}\n",
    "\n",
    "{question}\n",
    "\"\"\"\n",
    "\n",
    "review_template = ChatPromptTemplate.from_template(review_template_str)\n",
    "\n",
    "context = \"The medical staff at the hospital were incredibly attentive and supportive during my stay. The facilities were top-notch, making my recovery comfortable and smooth.\"\n",
    "question = \"Did anyone have a positive experience?\"\n",
    "\n",
    "review_template.format(context=context, question=question)"
   ]
  },
  {
   "cell_type": "code",
   "execution_count": 42,
   "metadata": {},
   "outputs": [
    {
     "data": {
      "text/plain": [
       "[SystemMessage(content=\"Your job is to use patient\\n reviews to answer questions about their experience at a\\n hospital. Use the following context to answer questions.\\n Be as detailed as possible, but don't make up any information\\n that's not from the context. If you don't know an answer, say\\n you don't know.\\n\\n I had a great stay!\\n\"),\n",
       " HumanMessage(content='Did anyone have a positive experience?')]"
      ]
     },
     "execution_count": 42,
     "metadata": {},
     "output_type": "execute_result"
    }
   ],
   "source": [
    "from langchain.prompts import (\n",
    "    PromptTemplate,\n",
    "    SystemMessagePromptTemplate,\n",
    "    HumanMessagePromptTemplate,\n",
    "    ChatPromptTemplate,\n",
    ")\n",
    "\n",
    "review_system_template_str = \"\"\"Your job is to use patient\n",
    " reviews to answer questions about their experience at a\n",
    " hospital. Use the following context to answer questions.\n",
    " Be as detailed as possible, but don't make up any information\n",
    " that's not from the context. If you don't know an answer, say\n",
    " you don't know.\n",
    "\n",
    " {context}\n",
    "\"\"\"\n",
    "\n",
    "review_system_prompt = SystemMessagePromptTemplate(\n",
    "    prompt=PromptTemplate(\n",
    "        input_variables=[\"context\"], template=review_system_template_str\n",
    "     )\n",
    ")\n",
    "\n",
    "review_human_prompt = HumanMessagePromptTemplate(\n",
    "    prompt=PromptTemplate(\n",
    "        input_variables=[\"question\"], template=\"{question}\"\n",
    "     )\n",
    ")\n",
    "\n",
    "messages = [review_system_prompt, review_human_prompt]\n",
    "\n",
    "review_prompt_template = ChatPromptTemplate(\n",
    "    input_variables=[\"context\", \"question\"],\n",
    "    messages=messages,\n",
    ")\n",
    "\n",
    "context = \"I had a great stay!\"\n",
    "\n",
    "question = \"Did anyone have a positive experience?\"\n",
    "\n",
    "review_prompt_template.format_messages(context=context, question=question)"
   ]
  },
  {
   "cell_type": "code",
   "execution_count": 43,
   "metadata": {},
   "outputs": [],
   "source": [
    "review_chain = review_prompt_template | chat_model"
   ]
  },
  {
   "cell_type": "code",
   "execution_count": 44,
   "metadata": {},
   "outputs": [
    {
     "data": {
      "text/plain": [
       "AIMessage(content='Yes, many patients had positive experiences at the hospital. They mentioned that the medical staff were incredibly attentive and supportive during their stay, which contributed to their positive experience.', response_metadata={'token_usage': {'completion_tokens': 33, 'prompt_tokens': 96, 'total_tokens': 129}, 'model_name': 'gpt-3.5-turbo-0125', 'system_fingerprint': None, 'finish_reason': 'stop', 'logprobs': None}, id='run-4667a37d-4b66-482e-80d2-23c1bfdeb559-0', usage_metadata={'input_tokens': 96, 'output_tokens': 33, 'total_tokens': 129})"
      ]
     },
     "execution_count": 44,
     "metadata": {},
     "output_type": "execute_result"
    }
   ],
   "source": [
    "context = \"The medical staff at the hospital were incredibly attentive and supportive during my stay.\"\n",
    "question = \"Did anyone have a positive experience?\"\n",
    "\n",
    "review_chain.invoke({\"context\": context, \"question\": question})"
   ]
  },
  {
   "cell_type": "code",
   "execution_count": 45,
   "metadata": {},
   "outputs": [],
   "source": [
    "from langchain_core.output_parsers import StrOutputParser\n",
    "\n",
    "output_parser = StrOutputParser()\n",
    "\n",
    "review_chain = review_prompt_template | chat_model | output_parser"
   ]
  },
  {
   "cell_type": "code",
   "execution_count": 46,
   "metadata": {},
   "outputs": [
    {
     "data": {
      "text/plain": [
       "'Yes, many patients had positive experiences at the hospital. They mentioned that the medical staff were incredibly attentive and supportive during their stay, which contributed to their overall positive experience.'"
      ]
     },
     "execution_count": 46,
     "metadata": {},
     "output_type": "execute_result"
    }
   ],
   "source": [
    "context = \"The medical staff at the hospital were incredibly attentive and supportive during my stay.\"\n",
    "question = \"Did anyone have a positive experience?\"\n",
    "\n",
    "review_chain.invoke({\"context\": context, \"question\": question})"
   ]
  },
  {
   "cell_type": "code",
   "execution_count": 47,
   "metadata": {},
   "outputs": [
    {
     "name": "stdout",
     "output_type": "stream",
     "text": [
      "Requirement already satisfied: chromadb in /system/conda/miniconda3/envs/cloudspace/lib/python3.10/site-packages (0.5.5)\n",
      "Requirement already satisfied: build>=1.0.3 in /system/conda/miniconda3/envs/cloudspace/lib/python3.10/site-packages (from chromadb) (1.2.1)\n",
      "Requirement already satisfied: pydantic>=1.9 in /system/conda/miniconda3/envs/cloudspace/lib/python3.10/site-packages (from chromadb) (2.8.2)\n",
      "Requirement already satisfied: chroma-hnswlib==0.7.6 in /system/conda/miniconda3/envs/cloudspace/lib/python3.10/site-packages (from chromadb) (0.7.6)\n",
      "Requirement already satisfied: fastapi>=0.95.2 in /system/conda/miniconda3/envs/cloudspace/lib/python3.10/site-packages (from chromadb) (0.111.0)\n",
      "Requirement already satisfied: uvicorn>=0.18.3 in /system/conda/miniconda3/envs/cloudspace/lib/python3.10/site-packages (from uvicorn[standard]>=0.18.3->chromadb) (0.30.1)\n",
      "Requirement already satisfied: numpy<2.0.0,>=1.22.5 in /system/conda/miniconda3/envs/cloudspace/lib/python3.10/site-packages (from chromadb) (1.26.4)\n",
      "Requirement already satisfied: posthog>=2.4.0 in /system/conda/miniconda3/envs/cloudspace/lib/python3.10/site-packages (from chromadb) (3.5.0)\n",
      "Requirement already satisfied: typing-extensions>=4.5.0 in /system/conda/miniconda3/envs/cloudspace/lib/python3.10/site-packages (from chromadb) (4.12.2)\n",
      "Requirement already satisfied: onnxruntime>=1.14.1 in /system/conda/miniconda3/envs/cloudspace/lib/python3.10/site-packages (from chromadb) (1.19.0)\n",
      "Requirement already satisfied: opentelemetry-api>=1.2.0 in /system/conda/miniconda3/envs/cloudspace/lib/python3.10/site-packages (from chromadb) (1.26.0)\n",
      "Requirement already satisfied: opentelemetry-exporter-otlp-proto-grpc>=1.2.0 in /system/conda/miniconda3/envs/cloudspace/lib/python3.10/site-packages (from chromadb) (1.26.0)\n",
      "Requirement already satisfied: opentelemetry-instrumentation-fastapi>=0.41b0 in /system/conda/miniconda3/envs/cloudspace/lib/python3.10/site-packages (from chromadb) (0.47b0)\n",
      "Requirement already satisfied: opentelemetry-sdk>=1.2.0 in /system/conda/miniconda3/envs/cloudspace/lib/python3.10/site-packages (from chromadb) (1.26.0)\n",
      "Requirement already satisfied: tokenizers>=0.13.2 in /system/conda/miniconda3/envs/cloudspace/lib/python3.10/site-packages (from chromadb) (0.20.0)\n",
      "Requirement already satisfied: pypika>=0.48.9 in /system/conda/miniconda3/envs/cloudspace/lib/python3.10/site-packages (from chromadb) (0.48.9)\n",
      "Requirement already satisfied: tqdm>=4.65.0 in /system/conda/miniconda3/envs/cloudspace/lib/python3.10/site-packages (from chromadb) (4.66.4)\n",
      "Requirement already satisfied: overrides>=7.3.1 in /system/conda/miniconda3/envs/cloudspace/lib/python3.10/site-packages (from chromadb) (7.7.0)\n",
      "Requirement already satisfied: importlib-resources in /system/conda/miniconda3/envs/cloudspace/lib/python3.10/site-packages (from chromadb) (6.4.3)\n",
      "Requirement already satisfied: grpcio>=1.58.0 in /system/conda/miniconda3/envs/cloudspace/lib/python3.10/site-packages (from chromadb) (1.64.1)\n",
      "Requirement already satisfied: bcrypt>=4.0.1 in /system/conda/miniconda3/envs/cloudspace/lib/python3.10/site-packages (from chromadb) (4.2.0)\n",
      "Requirement already satisfied: typer>=0.9.0 in /system/conda/miniconda3/envs/cloudspace/lib/python3.10/site-packages (from chromadb) (0.12.3)\n",
      "Requirement already satisfied: kubernetes>=28.1.0 in /system/conda/miniconda3/envs/cloudspace/lib/python3.10/site-packages (from chromadb) (30.1.0)\n",
      "Requirement already satisfied: tenacity>=8.2.3 in /system/conda/miniconda3/envs/cloudspace/lib/python3.10/site-packages (from chromadb) (8.5.0)\n",
      "Requirement already satisfied: PyYAML>=6.0.0 in /system/conda/miniconda3/envs/cloudspace/lib/python3.10/site-packages (from chromadb) (6.0.1)\n",
      "Requirement already satisfied: mmh3>=4.0.1 in /system/conda/miniconda3/envs/cloudspace/lib/python3.10/site-packages (from chromadb) (4.1.0)\n",
      "Requirement already satisfied: orjson>=3.9.12 in /system/conda/miniconda3/envs/cloudspace/lib/python3.10/site-packages (from chromadb) (3.10.6)\n",
      "Requirement already satisfied: httpx>=0.27.0 in /system/conda/miniconda3/envs/cloudspace/lib/python3.10/site-packages (from chromadb) (0.27.0)\n",
      "Requirement already satisfied: packaging>=19.1 in /system/conda/miniconda3/envs/cloudspace/lib/python3.10/site-packages (from build>=1.0.3->chromadb) (23.2)\n",
      "Requirement already satisfied: pyproject_hooks in /system/conda/miniconda3/envs/cloudspace/lib/python3.10/site-packages (from build>=1.0.3->chromadb) (1.1.0)\n",
      "Requirement already satisfied: tomli>=1.1.0 in /system/conda/miniconda3/envs/cloudspace/lib/python3.10/site-packages (from build>=1.0.3->chromadb) (2.0.1)\n",
      "Requirement already satisfied: starlette<0.38.0,>=0.37.2 in /system/conda/miniconda3/envs/cloudspace/lib/python3.10/site-packages (from fastapi>=0.95.2->chromadb) (0.37.2)\n",
      "Requirement already satisfied: fastapi-cli>=0.0.2 in /system/conda/miniconda3/envs/cloudspace/lib/python3.10/site-packages (from fastapi>=0.95.2->chromadb) (0.0.4)\n",
      "Requirement already satisfied: jinja2>=2.11.2 in /system/conda/miniconda3/envs/cloudspace/lib/python3.10/site-packages (from fastapi>=0.95.2->chromadb) (3.1.4)\n",
      "Requirement already satisfied: python-multipart>=0.0.7 in /system/conda/miniconda3/envs/cloudspace/lib/python3.10/site-packages (from fastapi>=0.95.2->chromadb) (0.0.9)\n",
      "Requirement already satisfied: ujson!=4.0.2,!=4.1.0,!=4.2.0,!=4.3.0,!=5.0.0,!=5.1.0,>=4.0.1 in /system/conda/miniconda3/envs/cloudspace/lib/python3.10/site-packages (from fastapi>=0.95.2->chromadb) (5.10.0)\n",
      "Requirement already satisfied: email_validator>=2.0.0 in /system/conda/miniconda3/envs/cloudspace/lib/python3.10/site-packages (from fastapi>=0.95.2->chromadb) (2.2.0)\n",
      "Requirement already satisfied: anyio in /system/conda/miniconda3/envs/cloudspace/lib/python3.10/site-packages (from httpx>=0.27.0->chromadb) (4.4.0)\n",
      "Requirement already satisfied: certifi in /system/conda/miniconda3/envs/cloudspace/lib/python3.10/site-packages (from httpx>=0.27.0->chromadb) (2024.7.4)\n",
      "Requirement already satisfied: httpcore==1.* in /system/conda/miniconda3/envs/cloudspace/lib/python3.10/site-packages (from httpx>=0.27.0->chromadb) (1.0.5)\n",
      "Requirement already satisfied: idna in /system/conda/miniconda3/envs/cloudspace/lib/python3.10/site-packages (from httpx>=0.27.0->chromadb) (3.7)\n",
      "Requirement already satisfied: sniffio in /system/conda/miniconda3/envs/cloudspace/lib/python3.10/site-packages (from httpx>=0.27.0->chromadb) (1.3.1)\n",
      "Requirement already satisfied: h11<0.15,>=0.13 in /system/conda/miniconda3/envs/cloudspace/lib/python3.10/site-packages (from httpcore==1.*->httpx>=0.27.0->chromadb) (0.14.0)\n",
      "Requirement already satisfied: six>=1.9.0 in /system/conda/miniconda3/envs/cloudspace/lib/python3.10/site-packages (from kubernetes>=28.1.0->chromadb) (1.16.0)\n",
      "Requirement already satisfied: python-dateutil>=2.5.3 in /system/conda/miniconda3/envs/cloudspace/lib/python3.10/site-packages (from kubernetes>=28.1.0->chromadb) (2.9.0.post0)\n",
      "Requirement already satisfied: google-auth>=1.0.1 in /system/conda/miniconda3/envs/cloudspace/lib/python3.10/site-packages (from kubernetes>=28.1.0->chromadb) (2.32.0)\n",
      "Requirement already satisfied: websocket-client!=0.40.0,!=0.41.*,!=0.42.*,>=0.32.0 in /system/conda/miniconda3/envs/cloudspace/lib/python3.10/site-packages (from kubernetes>=28.1.0->chromadb) (1.8.0)\n",
      "Requirement already satisfied: requests in /system/conda/miniconda3/envs/cloudspace/lib/python3.10/site-packages (from kubernetes>=28.1.0->chromadb) (2.32.3)\n",
      "Requirement already satisfied: requests-oauthlib in /system/conda/miniconda3/envs/cloudspace/lib/python3.10/site-packages (from kubernetes>=28.1.0->chromadb) (2.0.0)\n",
      "Requirement already satisfied: oauthlib>=3.2.2 in /system/conda/miniconda3/envs/cloudspace/lib/python3.10/site-packages (from kubernetes>=28.1.0->chromadb) (3.2.2)\n",
      "Requirement already satisfied: urllib3>=1.24.2 in /system/conda/miniconda3/envs/cloudspace/lib/python3.10/site-packages (from kubernetes>=28.1.0->chromadb) (2.2.2)\n",
      "Requirement already satisfied: coloredlogs in /system/conda/miniconda3/envs/cloudspace/lib/python3.10/site-packages (from onnxruntime>=1.14.1->chromadb) (15.0.1)\n",
      "Requirement already satisfied: flatbuffers in /system/conda/miniconda3/envs/cloudspace/lib/python3.10/site-packages (from onnxruntime>=1.14.1->chromadb) (24.3.25)\n",
      "Requirement already satisfied: protobuf in /system/conda/miniconda3/envs/cloudspace/lib/python3.10/site-packages (from onnxruntime>=1.14.1->chromadb) (4.23.4)\n",
      "Requirement already satisfied: sympy in /system/conda/miniconda3/envs/cloudspace/lib/python3.10/site-packages (from onnxruntime>=1.14.1->chromadb) (1.13.0)\n",
      "Requirement already satisfied: deprecated>=1.2.6 in /system/conda/miniconda3/envs/cloudspace/lib/python3.10/site-packages (from opentelemetry-api>=1.2.0->chromadb) (1.2.14)\n",
      "Requirement already satisfied: importlib-metadata<=8.0.0,>=6.0 in /system/conda/miniconda3/envs/cloudspace/lib/python3.10/site-packages (from opentelemetry-api>=1.2.0->chromadb) (6.11.0)\n",
      "Requirement already satisfied: googleapis-common-protos~=1.52 in /system/conda/miniconda3/envs/cloudspace/lib/python3.10/site-packages (from opentelemetry-exporter-otlp-proto-grpc>=1.2.0->chromadb) (1.63.2)\n",
      "Requirement already satisfied: opentelemetry-exporter-otlp-proto-common==1.26.0 in /system/conda/miniconda3/envs/cloudspace/lib/python3.10/site-packages (from opentelemetry-exporter-otlp-proto-grpc>=1.2.0->chromadb) (1.26.0)\n",
      "Requirement already satisfied: opentelemetry-proto==1.26.0 in /system/conda/miniconda3/envs/cloudspace/lib/python3.10/site-packages (from opentelemetry-exporter-otlp-proto-grpc>=1.2.0->chromadb) (1.26.0)\n",
      "Requirement already satisfied: opentelemetry-instrumentation-asgi==0.47b0 in /system/conda/miniconda3/envs/cloudspace/lib/python3.10/site-packages (from opentelemetry-instrumentation-fastapi>=0.41b0->chromadb) (0.47b0)\n",
      "Requirement already satisfied: opentelemetry-instrumentation==0.47b0 in /system/conda/miniconda3/envs/cloudspace/lib/python3.10/site-packages (from opentelemetry-instrumentation-fastapi>=0.41b0->chromadb) (0.47b0)\n",
      "Requirement already satisfied: opentelemetry-semantic-conventions==0.47b0 in /system/conda/miniconda3/envs/cloudspace/lib/python3.10/site-packages (from opentelemetry-instrumentation-fastapi>=0.41b0->chromadb) (0.47b0)\n",
      "Requirement already satisfied: opentelemetry-util-http==0.47b0 in /system/conda/miniconda3/envs/cloudspace/lib/python3.10/site-packages (from opentelemetry-instrumentation-fastapi>=0.41b0->chromadb) (0.47b0)\n",
      "Requirement already satisfied: setuptools>=16.0 in /system/conda/miniconda3/envs/cloudspace/lib/python3.10/site-packages (from opentelemetry-instrumentation==0.47b0->opentelemetry-instrumentation-fastapi>=0.41b0->chromadb) (69.5.1)\n",
      "Requirement already satisfied: wrapt<2.0.0,>=1.0.0 in /system/conda/miniconda3/envs/cloudspace/lib/python3.10/site-packages (from opentelemetry-instrumentation==0.47b0->opentelemetry-instrumentation-fastapi>=0.41b0->chromadb) (1.16.0)\n",
      "Requirement already satisfied: asgiref~=3.0 in /system/conda/miniconda3/envs/cloudspace/lib/python3.10/site-packages (from opentelemetry-instrumentation-asgi==0.47b0->opentelemetry-instrumentation-fastapi>=0.41b0->chromadb) (3.8.1)\n",
      "Requirement already satisfied: monotonic>=1.5 in /system/conda/miniconda3/envs/cloudspace/lib/python3.10/site-packages (from posthog>=2.4.0->chromadb) (1.6)\n",
      "Requirement already satisfied: backoff>=1.10.0 in /system/conda/miniconda3/envs/cloudspace/lib/python3.10/site-packages (from posthog>=2.4.0->chromadb) (2.2.1)\n",
      "Requirement already satisfied: annotated-types>=0.4.0 in /system/conda/miniconda3/envs/cloudspace/lib/python3.10/site-packages (from pydantic>=1.9->chromadb) (0.7.0)\n",
      "Requirement already satisfied: pydantic-core==2.20.1 in /system/conda/miniconda3/envs/cloudspace/lib/python3.10/site-packages (from pydantic>=1.9->chromadb) (2.20.1)\n",
      "Requirement already satisfied: huggingface-hub<1.0,>=0.16.4 in /system/conda/miniconda3/envs/cloudspace/lib/python3.10/site-packages (from tokenizers>=0.13.2->chromadb) (0.24.5)\n",
      "Requirement already satisfied: click>=8.0.0 in /system/conda/miniconda3/envs/cloudspace/lib/python3.10/site-packages (from typer>=0.9.0->chromadb) (8.1.7)\n",
      "Requirement already satisfied: shellingham>=1.3.0 in /system/conda/miniconda3/envs/cloudspace/lib/python3.10/site-packages (from typer>=0.9.0->chromadb) (1.5.4)\n",
      "Requirement already satisfied: rich>=10.11.0 in /system/conda/miniconda3/envs/cloudspace/lib/python3.10/site-packages (from typer>=0.9.0->chromadb) (13.7.1)\n",
      "Requirement already satisfied: httptools>=0.5.0 in /system/conda/miniconda3/envs/cloudspace/lib/python3.10/site-packages (from uvicorn[standard]>=0.18.3->chromadb) (0.6.1)\n",
      "Requirement already satisfied: python-dotenv>=0.13 in /system/conda/miniconda3/envs/cloudspace/lib/python3.10/site-packages (from uvicorn[standard]>=0.18.3->chromadb) (1.0.1)\n",
      "Requirement already satisfied: uvloop!=0.15.0,!=0.15.1,>=0.14.0 in /system/conda/miniconda3/envs/cloudspace/lib/python3.10/site-packages (from uvicorn[standard]>=0.18.3->chromadb) (0.19.0)\n",
      "Requirement already satisfied: watchfiles>=0.13 in /system/conda/miniconda3/envs/cloudspace/lib/python3.10/site-packages (from uvicorn[standard]>=0.18.3->chromadb) (0.22.0)\n",
      "Requirement already satisfied: websockets>=10.4 in /system/conda/miniconda3/envs/cloudspace/lib/python3.10/site-packages (from uvicorn[standard]>=0.18.3->chromadb) (12.0)\n",
      "Requirement already satisfied: dnspython>=2.0.0 in /system/conda/miniconda3/envs/cloudspace/lib/python3.10/site-packages (from email_validator>=2.0.0->fastapi>=0.95.2->chromadb) (2.6.1)\n",
      "Requirement already satisfied: cachetools<6.0,>=2.0.0 in /system/conda/miniconda3/envs/cloudspace/lib/python3.10/site-packages (from google-auth>=1.0.1->kubernetes>=28.1.0->chromadb) (5.3.3)\n",
      "Requirement already satisfied: pyasn1-modules>=0.2.1 in /system/conda/miniconda3/envs/cloudspace/lib/python3.10/site-packages (from google-auth>=1.0.1->kubernetes>=28.1.0->chromadb) (0.4.0)\n",
      "Requirement already satisfied: rsa<5,>=3.1.4 in /system/conda/miniconda3/envs/cloudspace/lib/python3.10/site-packages (from google-auth>=1.0.1->kubernetes>=28.1.0->chromadb) (4.9)\n",
      "Requirement already satisfied: filelock in /system/conda/miniconda3/envs/cloudspace/lib/python3.10/site-packages (from huggingface-hub<1.0,>=0.16.4->tokenizers>=0.13.2->chromadb) (3.15.4)\n",
      "Requirement already satisfied: fsspec>=2023.5.0 in /system/conda/miniconda3/envs/cloudspace/lib/python3.10/site-packages (from huggingface-hub<1.0,>=0.16.4->tokenizers>=0.13.2->chromadb) (2024.6.1)\n",
      "Requirement already satisfied: zipp>=0.5 in /system/conda/miniconda3/envs/cloudspace/lib/python3.10/site-packages (from importlib-metadata<=8.0.0,>=6.0->opentelemetry-api>=1.2.0->chromadb) (3.19.2)\n",
      "Requirement already satisfied: MarkupSafe>=2.0 in /system/conda/miniconda3/envs/cloudspace/lib/python3.10/site-packages (from jinja2>=2.11.2->fastapi>=0.95.2->chromadb) (2.1.5)\n",
      "Requirement already satisfied: charset-normalizer<4,>=2 in /system/conda/miniconda3/envs/cloudspace/lib/python3.10/site-packages (from requests->kubernetes>=28.1.0->chromadb) (3.3.2)\n",
      "Requirement already satisfied: markdown-it-py>=2.2.0 in /system/conda/miniconda3/envs/cloudspace/lib/python3.10/site-packages (from rich>=10.11.0->typer>=0.9.0->chromadb) (3.0.0)\n",
      "Requirement already satisfied: pygments<3.0.0,>=2.13.0 in /system/conda/miniconda3/envs/cloudspace/lib/python3.10/site-packages (from rich>=10.11.0->typer>=0.9.0->chromadb) (2.18.0)\n",
      "Requirement already satisfied: exceptiongroup>=1.0.2 in /system/conda/miniconda3/envs/cloudspace/lib/python3.10/site-packages (from anyio->httpx>=0.27.0->chromadb) (1.2.1)\n",
      "Requirement already satisfied: humanfriendly>=9.1 in /system/conda/miniconda3/envs/cloudspace/lib/python3.10/site-packages (from coloredlogs->onnxruntime>=1.14.1->chromadb) (10.0)\n",
      "Requirement already satisfied: mpmath<1.4,>=1.1.0 in /system/conda/miniconda3/envs/cloudspace/lib/python3.10/site-packages (from sympy->onnxruntime>=1.14.1->chromadb) (1.3.0)\n",
      "Requirement already satisfied: mdurl~=0.1 in /system/conda/miniconda3/envs/cloudspace/lib/python3.10/site-packages (from markdown-it-py>=2.2.0->rich>=10.11.0->typer>=0.9.0->chromadb) (0.1.2)\n",
      "Requirement already satisfied: pyasn1<0.7.0,>=0.4.6 in /system/conda/miniconda3/envs/cloudspace/lib/python3.10/site-packages (from pyasn1-modules>=0.2.1->google-auth>=1.0.1->kubernetes>=28.1.0->chromadb) (0.6.0)\n",
      "\n",
      "\u001b[1m[\u001b[0m\u001b[34;49mnotice\u001b[0m\u001b[1;39;49m]\u001b[0m\u001b[39;49m A new release of pip is available: \u001b[0m\u001b[31;49m24.1.2\u001b[0m\u001b[39;49m -> \u001b[0m\u001b[32;49m24.2\u001b[0m\n",
      "\u001b[1m[\u001b[0m\u001b[34;49mnotice\u001b[0m\u001b[1;39;49m]\u001b[0m\u001b[39;49m To update, run: \u001b[0m\u001b[32;49mpip install --upgrade pip\u001b[0m\n",
      "Note: you may need to restart the kernel to use updated packages.\n"
     ]
    }
   ],
   "source": [
    "pip install chromadb"
   ]
  },
  {
   "cell_type": "code",
   "execution_count": 48,
   "metadata": {},
   "outputs": [
    {
     "name": "stderr",
     "output_type": "stream",
     "text": [
      "Python-dotenv could not parse statement starting at line 1\n",
      "Python-dotenv could not parse statement starting at line 9\n",
      "Python-dotenv could not parse statement starting at line 1\n",
      "Python-dotenv could not parse statement starting at line 9\n"
     ]
    }
   ],
   "source": [
    "import dotenv\n",
    "from langchain.document_loaders.csv_loader import CSVLoader\n",
    "from langchain_community.vectorstores import Chroma\n",
    "from langchain_openai import OpenAIEmbeddings\n",
    "\n",
    "REVIEWS_CSV_PATH = \"test_review.csv\"\n",
    "REVIEWS_CHROMA_PATH = \"chroma_data\"\n",
    "\n",
    "dotenv.load_dotenv()\n",
    "\n",
    "loader = CSVLoader(file_path=REVIEWS_CSV_PATH, source_column=\"review\")\n",
    "reviews = loader.load()\n",
    "\n",
    "reviews_vector_db = Chroma.from_documents(\n",
    "    reviews, OpenAIEmbeddings(), persist_directory=REVIEWS_CHROMA_PATH\n",
    ")"
   ]
  },
  {
   "cell_type": "code",
   "execution_count": 49,
   "metadata": {},
   "outputs": [],
   "source": [
    "question = \"\"\"Has anyone complained about\n",
    "            communication with the hospital staff?\"\"\"\n",
    "relevant_docs = reviews_vector_db.similarity_search(question, k=3)"
   ]
  },
  {
   "cell_type": "code",
   "execution_count": 50,
   "metadata": {},
   "outputs": [
    {
     "data": {
      "text/plain": [
       "\"\\ufeffreview_id: 266\\nvisit_id: 5374\\nreview: The hospital's facilities were modern and well-maintained. However, the lack of communication about changes in my treatment plan created unnecessary stress.\\nphysician_name: James Johnson\\nhospital_name: Wallace-Hamilton\\npatient_name: Michele Jones\""
      ]
     },
     "execution_count": 50,
     "metadata": {},
     "output_type": "execute_result"
    }
   ],
   "source": [
    "relevant_docs[2].page_content"
   ]
  },
  {
   "cell_type": "code",
   "execution_count": 51,
   "metadata": {},
   "outputs": [
    {
     "data": {
      "text/plain": [
       "\"\\ufeffreview_id: 266\\nvisit_id: 5374\\nreview: The hospital's facilities were modern and well-maintained. However, the lack of communication about changes in my treatment plan created unnecessary stress.\\nphysician_name: James Johnson\\nhospital_name: Wallace-Hamilton\\npatient_name: Michele Jones\""
      ]
     },
     "execution_count": 51,
     "metadata": {},
     "output_type": "execute_result"
    }
   ],
   "source": [
    "relevant_docs[0].page_content"
   ]
  },
  {
   "cell_type": "code",
   "execution_count": 52,
   "metadata": {},
   "outputs": [
    {
     "name": "stdout",
     "output_type": "stream",
     "text": [
      "Page Content: ﻿review_id: 266\n",
      "visit_id: 5374\n",
      "review: The hospital's facilities were modern and well-maintained. However, the lack of communication about changes in my treatment plan created unnecessary stress.\n",
      "physician_name: James Johnson\n",
      "hospital_name: Wallace-Hamilton\n",
      "patient_name: Michele Jones\n",
      "\n",
      "Metadata: {'row': 21, 'source': \"The hospital's facilities were modern and well-maintained. However, the lack of communication about changes in my treatment plan created unnecessary stress.\"}\n",
      "\n",
      "Page Content: ﻿review_id: 266\n",
      "visit_id: 5374\n",
      "review: The hospital's facilities were modern and well-maintained. However, the lack of communication about changes in my treatment plan created unnecessary stress.\n",
      "physician_name: James Johnson\n",
      "hospital_name: Wallace-Hamilton\n",
      "patient_name: Michele Jones\n",
      "\n",
      "Metadata: {'row': 21, 'source': \"The hospital's facilities were modern and well-maintained. However, the lack of communication about changes in my treatment plan created unnecessary stress.\"}\n",
      "\n",
      "Page Content: ﻿review_id: 266\n",
      "visit_id: 5374\n",
      "review: The hospital's facilities were modern and well-maintained. However, the lack of communication about changes in my treatment plan created unnecessary stress.\n",
      "physician_name: James Johnson\n",
      "hospital_name: Wallace-Hamilton\n",
      "patient_name: Michele Jones\n",
      "\n",
      "Metadata: {'row': 21, 'source': \"The hospital's facilities were modern and well-maintained. However, the lack of communication about changes in my treatment plan created unnecessary stress.\"}\n",
      "\n"
     ]
    }
   ],
   "source": [
    "for doc in relevant_docs:\n",
    "    print(f\"Page Content: {doc.page_content}\\n\")\n",
    "    print(f\"Metadata: {doc.metadata}\\n\")"
   ]
  },
  {
   "cell_type": "code",
   "execution_count": 53,
   "metadata": {},
   "outputs": [],
   "source": [
    "from langchain.schema.runnable import RunnablePassthrough\n",
    "\n",
    "reviews_retriever  = reviews_vector_db.as_retriever(k=10)\n",
    "\n",
    "review_chain = (\n",
    "    {\"context\": reviews_retriever, \"question\": RunnablePassthrough()}\n",
    "    | review_prompt_template\n",
    "    | chat_model\n",
    "    | StrOutputParser()\n",
    ")"
   ]
  },
  {
   "cell_type": "code",
   "execution_count": 54,
   "metadata": {},
   "outputs": [
    {
     "data": {
      "text/plain": [
       "'Yes, two patients have complained about the lack of communication with the hospital staff. One patient mentioned that the lack of communication about changes in their treatment plan created unnecessary stress, while another patient found the lack of communication about their treatment plan frustrating.'"
      ]
     },
     "execution_count": 54,
     "metadata": {},
     "output_type": "execute_result"
    }
   ],
   "source": [
    "question = \"\"\"Has anyone complained about\n",
    "          communication with the hospital staff?\"\"\"\n",
    "review_chain.invoke(question)"
   ]
  },
  {
   "cell_type": "code",
   "execution_count": 55,
   "metadata": {},
   "outputs": [],
   "source": [
    "from langchain.agents import (\n",
    "    create_openai_functions_agent,\n",
    "    Tool,\n",
    "    AgentExecutor,\n",
    ")\n",
    "from langchain import hub\n"
   ]
  },
  {
   "cell_type": "code",
   "execution_count": 56,
   "metadata": {},
   "outputs": [],
   "source": [
    "import random\n",
    "import time\n",
    "\n",
    "\n",
    "def get_current_wait_time(hospital: str) -> int | str:\n",
    "    \"\"\"Dummy function to generate fake wait times\"\"\"\n",
    "\n",
    "    if hospital not in [\"A\", \"B\", \"C\", \"D\"]:\n",
    "        return f\"Hospital {hospital} does not exist\"\n",
    "\n",
    "    # Simulate API call delay\n",
    "    time.sleep(1)\n",
    "\n",
    "    return random.randint(0, 10000)"
   ]
  },
  {
   "cell_type": "code",
   "execution_count": 68,
   "metadata": {},
   "outputs": [],
   "source": [
    "from langchain.agents import (\n",
    "    create_openai_functions_agent,\n",
    "    Tool,\n",
    "    AgentExecutor,\n",
    ")\n",
    "from langchain import hub\n",
    "from pydantic import BaseModel\n",
    "from langchain.tools import StructuredTool\n",
    "\n",
    "# Define a Pydantic model for the input arguments\n",
    "class WaitTimeInput(BaseModel):\n",
    "    hospital: str\n",
    "\n",
    "class ReviewInput(BaseModel):\n",
    "    review: str\n",
    "\n",
    "tools = [\n",
    "    StructuredTool(\n",
    "        name=\"Waits\",\n",
    "        func=get_current_wait_time,\n",
    "        description=\"\"\"Use when asked about current wait times\n",
    "        at a specific hospital. This tool can only get the current\n",
    "        wait time at a hospital and does not have any information about\n",
    "        aggregate or historical wait times. This tool returns wait times in\n",
    "        minutes. Do not pass the word \"hospital\" as input,\n",
    "        only the hospital name itself. For instance, if the question is\n",
    "        \"What is the wait time at hospital A?\", the input should be \"A\".\n",
    "        \"\"\",\n",
    "        args_schema=WaitTimeInput,  # Use the Pydantic model here\n",
    "    ),\n",
    "    Tool(\n",
    "        name=\"Reviews\",\n",
    "        func=review_chain.invoke,\n",
    "        description=\"\"\"Useful when you need to answer questions\n",
    "        about patient reviews or experiences at the hospital.\n",
    "        Not useful for answering questions about specific visit\n",
    "        details such as payer, billing, treatment, diagnosis,\n",
    "        chief complaint, hospital, or physician information.\n",
    "        Pass the entire question as input to the tool. For instance,\n",
    "        if the question is \"What do patients think about the triage system?\",\n",
    "        the input should be \"What do patients think about the triage system?\"\n",
    "        \"\"\",\n",
    "        args_schema=ReviewInput,\n",
    "    ),\n",
    "]\n",
    "\n",
    "\n",
    "hospital_agent_prompt = hub.pull(\"hwchase17/openai-functions-agent\")\n",
    "\n",
    "agent_chat_model = ChatOpenAI(\n",
    "    model=\"gpt-3.5-turbo-1106\",\n",
    "    temperature=0,\n",
    ")\n",
    "\n",
    "hospital_agent = create_openai_functions_agent(\n",
    "    llm=agent_chat_model,\n",
    "    prompt=hospital_agent_prompt,\n",
    "    tools=tools,\n",
    ")\n",
    "\n",
    "hospital_agent_executor = AgentExecutor(\n",
    "    agent=hospital_agent,\n",
    "    tools=tools,\n",
    "    return_intermediate_steps=True,\n",
    "    verbose=True,\n",
    ")"
   ]
  },
  {
   "cell_type": "code",
   "execution_count": 58,
   "metadata": {},
   "outputs": [
    {
     "name": "stdout",
     "output_type": "stream",
     "text": [
      "\n",
      "\n",
      "\u001b[1m> Entering new AgentExecutor chain...\u001b[0m\n"
     ]
    },
    {
     "name": "stdout",
     "output_type": "stream",
     "text": [
      "\u001b[32;1m\u001b[1;3m\n",
      "Invoking: `Waits` with `{'hospital': 'C'}`\n",
      "\n",
      "\n",
      "\u001b[0m\u001b[36;1m\u001b[1;3m4349\u001b[0m\u001b[32;1m\u001b[1;3mThe current wait time at hospital C is 43 minutes and 49 seconds.\u001b[0m\n",
      "\n",
      "\u001b[1m> Finished chain.\u001b[0m\n"
     ]
    },
    {
     "data": {
      "text/plain": [
       "{'input': 'What is the current wait time at hospital C?',\n",
       " 'output': 'The current wait time at hospital C is 43 minutes and 49 seconds.',\n",
       " 'intermediate_steps': [(AgentActionMessageLog(tool='Waits', tool_input={'hospital': 'C'}, log=\"\\nInvoking: `Waits` with `{'hospital': 'C'}`\\n\\n\\n\", message_log=[AIMessageChunk(content='', additional_kwargs={'function_call': {'arguments': '{\"hospital\":\"C\"}', 'name': 'Waits'}}, response_metadata={'finish_reason': 'function_call'}, id='run-6e7af364-a2d0-4bb3-897b-5aa2036297dc')]),\n",
       "   4349)]}"
      ]
     },
     "execution_count": 58,
     "metadata": {},
     "output_type": "execute_result"
    }
   ],
   "source": [
    "hospital_agent_executor.invoke(\n",
    "    {\"input\": \"What is the current wait time at hospital C?\"}\n",
    ")"
   ]
  },
  {
   "cell_type": "code",
   "execution_count": 69,
   "metadata": {},
   "outputs": [
    {
     "name": "stdout",
     "output_type": "stream",
     "text": [
      "\n",
      "\n",
      "\u001b[1m> Entering new AgentExecutor chain...\u001b[0m\n"
     ]
    },
    {
     "name": "stdout",
     "output_type": "stream",
     "text": [
      "\u001b[32;1m\u001b[1;3m\n",
      "Invoking: `Reviews` with `{'review': 'What have patients said about their comfort at the hospital?'}`\n",
      "\n",
      "\n",
      "\u001b[0m\u001b[33;1m\u001b[1;3mPatients have mentioned that their stay at the hospital was comfortable. They have also noted that the facilities were clean and well-maintained, contributing to their overall comfort.\u001b[0m\u001b[32;1m\u001b[1;3mPatients have mentioned that their stay at the hospital was comfortable. They have also noted that the facilities were clean and well-maintained, contributing to their overall comfort.\u001b[0m\n",
      "\n",
      "\u001b[1m> Finished chain.\u001b[0m\n",
      "{'input': 'What have patients said about their comfort at the hospital?', 'output': 'Patients have mentioned that their stay at the hospital was comfortable. They have also noted that the facilities were clean and well-maintained, contributing to their overall comfort.', 'intermediate_steps': [(AgentActionMessageLog(tool='Reviews', tool_input={'review': 'What have patients said about their comfort at the hospital?'}, log=\"\\nInvoking: `Reviews` with `{'review': 'What have patients said about their comfort at the hospital?'}`\\n\\n\\n\", message_log=[AIMessageChunk(content='', additional_kwargs={'function_call': {'arguments': '{\"review\":\"What have patients said about their comfort at the hospital?\"}', 'name': 'Reviews'}}, response_metadata={'finish_reason': 'function_call'}, id='run-7d154b7d-a1ef-4ee1-889e-bf22f861ed0d')]), 'Patients have mentioned that their stay at the hospital was comfortable. They have also noted that the facilities were clean and well-maintained, contributing to their overall comfort.')]}\n"
     ]
    }
   ],
   "source": [
    "result = hospital_agent_executor.invoke({\n",
    "    \"input\": \"What have patients said about their comfort at the hospital?\"\n",
    "})\n",
    "print(result)"
   ]
  },
  {
   "cell_type": "code",
   "execution_count": 59,
   "metadata": {},
   "outputs": [
    {
     "name": "stdout",
     "output_type": "stream",
     "text": [
      "{'input': 'What is the current wait time at hospital A?', 'output': 'The current wait time at hospital A is 90 minutes.'}\n"
     ]
    }
   ],
   "source": [
    "from langchain.agents import create_tool_calling_agent\n",
    "from langchain.agents import AgentExecutor\n",
    "from langchain_core.tools import tool\n",
    "\n",
    "# Define the tool\n",
    "@tool\n",
    "def get_current_wait_time(hospital: str) -> int | str:\n",
    "    \"\"\"Dummy function to generate fake wait times\"\"\"\n",
    "    if hospital not in [\"A\", \"B\", \"C\", \"D\"]:\n",
    "        return f\"Hospital {hospital} does not exist\"\n",
    "    time.sleep(1)  # Simulate API call delay\n",
    "    return random.randint(0, 10000)\n",
    "\n",
    "# Create the agent\n",
    "tools = [get_current_wait_time]\n",
    "hospital_agent = create_openai_functions_agent(\n",
    "    llm=agent_chat_model,\n",
    "    prompt=hospital_agent_prompt,\n",
    "    tools=tools,\n",
    ")\n",
    "\n",
    "# Instantiate the AgentExecutor\n",
    "agent_executor = AgentExecutor(agent=hospital_agent, tools=tools)\n",
    "\n",
    "# Example usage\n",
    "result = agent_executor.invoke({\"input\": \"What is the current wait time at hospital A?\"})\n",
    "print(result)"
   ]
  },
  {
   "cell_type": "code",
   "execution_count": 5,
   "metadata": {},
   "outputs": [],
   "source": [
    "from langchain.vectorstores.neo4j_vector import Neo4jVector\n",
    "from langchain_community.graphs import Neo4jGraph\n",
    "import streamlit as st\n",
    "\n",
    "\n",
    "graph = Neo4jGraph(\n",
    "    url=st.secrets[\"NEO4J_URI\"],\n",
    "    username=st.secrets[\"NEO4J_USERNAME\"],\n",
    "    password=st.secrets[\"NEO4J_PASSWORD\"],\n",
    ")"
   ]
  },
  {
   "cell_type": "code",
   "execution_count": 6,
   "metadata": {},
   "outputs": [],
   "source": [
    "import streamlit as st\n",
    "\n",
    "openai_api_key = st.secrets['OPENAI_API_KEY']\n",
    "openai_model = st.secrets['OPENAI_MODEL']"
   ]
  },
  {
   "cell_type": "code",
   "execution_count": 7,
   "metadata": {},
   "outputs": [],
   "source": [
    "from langchain_openai import ChatOpenAI\n",
    "\n",
    "llm = ChatOpenAI(\n",
    "    openai_api_key=st.secrets[\"OPENAI_API_KEY\"],\n",
    "    model=st.secrets[\"OPENAI_MODEL\"],\n",
    ")"
   ]
  },
  {
   "cell_type": "code",
   "execution_count": 8,
   "metadata": {},
   "outputs": [],
   "source": [
    "from langchain_openai import OpenAIEmbeddings\n",
    "\n",
    "embeddings = OpenAIEmbeddings(\n",
    "    openai_api_key=st.secrets[\"OPENAI_API_KEY\"]\n",
    ")"
   ]
  },
  {
   "cell_type": "code",
   "execution_count": 9,
   "metadata": {},
   "outputs": [],
   "source": [
    "url=st.secrets[\"NEO4J_URI\"]\n",
    "username=st.secrets[\"NEO4J_USERNAME\"]\n",
    "password=st.secrets[\"NEO4J_PASSWORD\"]"
   ]
  },
  {
   "cell_type": "code",
   "execution_count": 10,
   "metadata": {},
   "outputs": [
    {
     "name": "stderr",
     "output_type": "stream",
     "text": [
      "Received notification from DBMS server: {severity: WARNING} {code: Neo.ClientNotification.Statement.FeatureDeprecationWarning} {category: DEPRECATION} {title: This feature is deprecated and will be removed in future versions.} {description: The query used a deprecated procedure. ('db.create.setVectorProperty' has been replaced by 'db.create.setNodeVectorProperty')} {position: line: 1, column: 68, offset: 67} for query: \"UNWIND $data AS row MATCH (n:`review`) WHERE elementId(n) = row.id CALL db.create.setVectorProperty(n, 'embedding', row.embedding) YIELD node RETURN count(*)\"\n"
     ]
    }
   ],
   "source": [
    "db = Neo4jVector.from_existing_graph(\n",
    "    embedding=embeddings,\n",
    "    url=url,\n",
    "    username=username,\n",
    "    password=password,\n",
    "    index_name=\"review_index\",\n",
    "    node_label=\"review\",\n",
    "    text_node_properties=[\"Review\"],\n",
    "    embedding_node_property=\"embedding\",\n",
    ")\n"
   ]
  },
  {
   "cell_type": "code",
   "execution_count": 11,
   "metadata": {},
   "outputs": [],
   "source": [
    "graph.refresh_schema()"
   ]
  },
  {
   "cell_type": "code",
   "execution_count": 12,
   "metadata": {},
   "outputs": [
    {
     "name": "stdout",
     "output_type": "stream",
     "text": [
      "Node properties:\n",
      "hospital {Hospital_ID: INTEGER, State: STRING, Hospital_Contact: STRING, Hospital_Name: STRING, Specialisation_Offered: STRING}\n",
      "checkup {Hospital_ID: INTEGER, Checkup_ID: INTEGER, Admission_Type: STRING, Checkup_Status: STRING, Admission_Date: STRING, Discharge_Date: STRING, Discharge_Condition: STRING, Length_of_Stay (LOS): INTEGER, Diagnosis: STRING, Diagnosis_Condition: STRING, Test_Results: STRING, Treatment: STRING, Medication: STRING, Dosage: STRING, Dosage_Time: STRING, Specialisation: STRING, Physician_ID: INTEGER, Patient_ID: INTEGER, Room_Number: STRING}\n",
      "physician {Hospital_ID: INTEGER, Physician_ID: INTEGER, Specialization: STRING, License_Number: INTEGER, Physician_Name: STRING, Physician_Contact: STRING}\n",
      "review {Hospital_ID: INTEGER, Checkup_ID: INTEGER, Patient_ID: INTEGER, Review_ID: INTEGER, Review: STRING, embedding: LIST}\n",
      "patient {Patient_ID: INTEGER, Name: STRING, Identity_number: STRING, Age: INTEGER, Emergency_number: STRING, Allergy: STRING, Chronic_condition: STRING, Gender: STRING, Patient_Contact: STRING, Blood_Type: STRING}\n",
      "Session {id: STRING}\n",
      "Message {type: STRING, content: STRING}\n",
      "Relationship properties:\n",
      "\n",
      "The relationships:\n",
      "(:hospital)-[:recruit]->(:physician)\n",
      "(:checkup)-[:at]->(:hospital)\n",
      "(:physician)-[:attend]->(:checkup)\n",
      "(:review)-[:for]->(:hospital)\n",
      "(:patient)-[:has]->(:checkup)\n",
      "(:patient)-[:submit]->(:review)\n",
      "(:Session)-[:LAST_MESSAGE]->(:Message)\n",
      "(:Message)-[:NEXT]->(:Message)\n"
     ]
    }
   ],
   "source": [
    "print(graph.schema)\n"
   ]
  },
  {
   "cell_type": "code",
   "execution_count": 13,
   "metadata": {},
   "outputs": [],
   "source": [
    "from llm import llm\n",
    "from graph import graph\n",
    "from langchain_core.prompts import ChatPromptTemplate\n",
    "from langchain_core.prompts import PromptTemplate\n",
    "from langchain.schema import StrOutputParser\n",
    "from langchain.tools import Tool\n",
    "from langchain_community.chat_message_histories import Neo4jChatMessageHistory\n",
    "from langchain.agents import AgentExecutor, create_react_agent\n",
    "from langchain_core.runnables.history import RunnableWithMessageHistory\n",
    "from langchain import hub\n",
    "from utils import get_session_id\n",
    "from tools.review import get_review\n",
    "\n",
    "chat_prompt = ChatPromptTemplate.from_messages(\n",
    "    [\n",
    "        (\"system\", \"Please don't use this tools when asking every question about reviews.\"),\n",
    "        (\"human\", \"{input}\"),\n",
    "    ]\n",
    ")\n",
    "\n",
    "nurse_chat = chat_prompt | llm | StrOutputParser()\n",
    "\n",
    "tools = [\n",
    "    Tool.from_function(\n",
    "        name=\"General Chat\",\n",
    "        description=\"For general hospital chat not covered by other tools\",\n",
    "        func=nurse_chat.invoke,\n",
    "    ),\n",
    "    Tool.from_function(\n",
    "        name=\"Reviews Search\",  \n",
    "        description=\"For when you need to find information about reviews for hospital, nursing care, or checkup and etc.\",\n",
    "        func=get_review, \n",
    "    )\n",
    "]\n",
    "\n",
    "def get_memory(session_id):\n",
    "    return Neo4jChatMessageHistory(session_id=session_id, graph=graph)\n",
    "\n",
    "agent_prompt = PromptTemplate.from_template(\"\"\"\n",
    "You are a nursing expert providing information about nursing care.\n",
    "Be as helpful as possible and return as much information as possible.\n",
    "Do not answer any questions that do not relate to checkup, hospital or patients.\n",
    "\n",
    "Do not answer any questions using your pre-trained knowledge, only use the information provided in the context.\n",
    "\n",
    "TOOLS:\n",
    "------\n",
    "\n",
    "You have access to the following tools:\n",
    "\n",
    "{tools}\n",
    "\n",
    "To use a tool, please use the following format:\n",
    "\n",
    "```\n",
    "Thought: Do I need to use a tool? Yes\n",
    "Action: the action to take, should be one of [{tool_names}]\n",
    "Action Input: the input to the action\n",
    "Observation: the result of the action\n",
    "```\n",
    "\n",
    "When you have a response to say to the Human, or if you do not need to use a tool, you MUST use the format:\n",
    "\n",
    "```\n",
    "Thought: Do I need to use a tool? No\n",
    "Final Answer: [your response here]\n",
    "```\n",
    "\n",
    "Begin!\n",
    "\n",
    "Previous conversation history:\n",
    "{chat_history}\n",
    "\n",
    "New input: {input}\n",
    "{agent_scratchpad}\n",
    "\"\"\")\n",
    "\n",
    "agent = create_react_agent(llm, tools, agent_prompt)"
   ]
  },
  {
   "cell_type": "code",
   "execution_count": 3,
   "metadata": {},
   "outputs": [],
   "source": [
    "agent_executor = AgentExecutor(\n",
    "    agent=agent,\n",
    "    tools=tools,\n",
    "    verbose=True\n",
    "    )"
   ]
  },
  {
   "cell_type": "code",
   "execution_count": 4,
   "metadata": {},
   "outputs": [],
   "source": [
    "chat_agent = RunnableWithMessageHistory(\n",
    "    agent_executor,\n",
    "    get_memory,\n",
    "    input_messages_key=\"input\",\n",
    "    history_messages_key=\"chat_history\",\n",
    ")"
   ]
  },
  {
   "cell_type": "code",
   "execution_count": 14,
   "metadata": {},
   "outputs": [
    {
     "name": "stdout",
     "output_type": "stream",
     "text": [
      "\n",
      "\n",
      "\u001b[1m> Entering new AgentExecutor chain...\u001b[0m\n",
      "\u001b[32;1m\u001b[1;3mThought: Do I need to use a tool? Yes\n",
      "Action: Reviews Search\n",
      "Action Input: emotional support from nurse\u001b[0m\u001b[33;1m\u001b[1;3m{'input': 'emotional support from nurse', 'context': [Document(metadata={'Hospital_ID': 7, 'Patient_ID': 270, 'Checkup_ID': 592, 'Review_ID': 385}, page_content='I respected that the nurse involved my family, strengthening our emotional support network.'), Document(metadata={'Hospital_ID': 9, 'Patient_ID': 581, 'Checkup_ID': 573, 'Review_ID': 389}, page_content='Using familiar phrases that acknowledged my cultural background, the nurse offered meaningful emotional comfort.'), Document(metadata={'Hospital_ID': 14, 'Patient_ID': 106, 'Checkup_ID': 506, 'Review_ID': 369}, page_content='Offering a gentle handhold when I cried, the nurse conveyed genuine empathy and kindness.'), Document(metadata={'Hospital_ID': 19, 'Patient_ID': 492, 'Checkup_ID': 692, 'Review_ID': 482}, page_content='Observing an overall positive attitude among nurses, I felt supported rather than just processed as a patient.')], 'answer': 'The emotional support I received from the nurse was very meaningful and comforting. They involved my family, offered familiar phrases that resonated with my cultural background, and showed genuine empathy and kindness, like offering a gentle handhold when I cried. Overall, the positive attitude among the nurses made me feel supported rather than just processed as a patient.'}\u001b[0m\u001b[32;1m\u001b[1;3mFinal Answer: The emotional support received from the nurses in the reviews was very meaningful and comforting. They involved the patients' families, offered familiar phrases that acknowledged cultural backgrounds, and showed genuine empathy and kindness. Overall, the positive attitude among the nurses made the patients feel supported rather than just processed as patients.\u001b[0m\n",
      "\n",
      "\u001b[1m> Finished chain.\u001b[0m\n",
      "The emotional support received from the nurses in the reviews was very meaningful and comforting. They involved the patients' families, offered familiar phrases that acknowledged cultural backgrounds, and showed genuine empathy and kindness. Overall, the positive attitude among the nurses made the patients feel supported rather than just processed as patients.\n"
     ]
    }
   ],
   "source": [
    "config = {\"configurable\": {\"session_id\": \"test-session\"}}\n",
    "print(\n",
    "    chat_agent.invoke(\n",
    "        {\"input\": \"What are the reviews for emotional support from nurse?\"}, config\n",
    "    )[\"output\"]\n",
    ")"
   ]
  },
  {
   "cell_type": "code",
   "execution_count": 16,
   "metadata": {},
   "outputs": [],
   "source": [
    "from langchain_community.vectorstores.neo4j_vector import Neo4jVector\n",
    "\n",
    "neo4jvector = Neo4jVector.from_existing_index(\n",
    "    embeddings,                               # (1) Embedding function or model\n",
    "    graph=graph,                              # (2) Neo4j graph connection\n",
    "    index_name=\"review_index\",                # (3) Name of the index for reviews\n",
    "    node_label=\"review\",                      # (4) Node label for reviews\n",
    "    text_node_property=\"Review\",              # (5) Property to retrieve for text (singular)\n",
    "    embedding_node_property=\"embedding\"       # (6) Property for storing embeddings\n",
    ")\n"
   ]
  },
  {
   "cell_type": "code",
   "execution_count": 17,
   "metadata": {},
   "outputs": [],
   "source": [
    "retriever = neo4jvector.as_retriever()"
   ]
  },
  {
   "cell_type": "code",
   "execution_count": 18,
   "metadata": {},
   "outputs": [],
   "source": [
    "user_query = \"What are the reviews for emotional support from nurse?\"\n",
    "results = retriever.invoke(user_query, search_kwargs={\"k\": 5})  # Retrieve top 5 results\n",
    "\n"
   ]
  },
  {
   "cell_type": "code",
   "execution_count": 19,
   "metadata": {},
   "outputs": [
    {
     "name": "stdout",
     "output_type": "stream",
     "text": [
      "Page Content: Playing soft music and asking if it helped me relax, the nurse personalized emotional support to my preferences.\n",
      "Metadata: {'Hospital_ID': 10, 'Patient_ID': 517, 'Checkup_ID': 532, 'Review_ID': 380}\n",
      "--------------------------------------------------------------------------------\n",
      "Page Content: Offering a gentle handhold when I cried, the nurse conveyed genuine empathy and kindness.\n",
      "Metadata: {'Hospital_ID': 14, 'Patient_ID': 106, 'Checkup_ID': 506, 'Review_ID': 369}\n",
      "--------------------------------------------------------------------------------\n",
      "Page Content: Whispering kind words, the nurse eased my stress and made me feel understood and not alone.\n",
      "Metadata: {'Hospital_ID': 19, 'Patient_ID': 525, 'Checkup_ID': 45, 'Review_ID': 372}\n",
      "--------------------------------------------------------------------------------\n",
      "Page Content: Using familiar phrases that acknowledged my cultural background, the nurse offered meaningful emotional comfort.\n",
      "Metadata: {'Hospital_ID': 9, 'Patient_ID': 581, 'Checkup_ID': 573, 'Review_ID': 389}\n",
      "--------------------------------------------------------------------------------\n"
     ]
    }
   ],
   "source": [
    "# Perform the similarity search\n",
    "results = retriever.invoke(user_query)\n",
    "\n",
    "# Display the results\n",
    "for result in results:\n",
    "    print(\"Page Content:\", result.page_content)  # Display the text content of the review\n",
    "    print(\"Metadata:\", result.metadata)            # Display the associated metadata\n",
    "    print(\"-\" * 80)    \n",
    "\n"
   ]
  },
  {
   "cell_type": "code",
   "execution_count": 20,
   "metadata": {},
   "outputs": [],
   "source": [
    "from langchain.chains.combine_documents import create_stuff_documents_chain\n",
    "from langchain.chains import create_retrieval_chain\n",
    "from langchain_core.prompts import ChatPromptTemplate\n",
    "\n",
    "instructions = (\n",
    "    \"Use the given context to answer the question when human ask about reviews.\"\n",
    "    \"If you don't know the answer, say you don't know.\"\n",
    "    \"Context: {context}\"\n",
    ")\n",
    "\n",
    "prompt = ChatPromptTemplate.from_messages(\n",
    "    [\n",
    "        (\"system\", instructions),\n",
    "        (\"human\", \"{input}\"),\n",
    "    ]\n",
    ")\n",
    "# end::prompt[]\n",
    "\n",
    "# tag::chain[]\n",
    "question_answer_chain = create_stuff_documents_chain(llm, prompt)\n",
    "review_retriever = create_retrieval_chain(\n",
    "    retriever, \n",
    "    question_answer_chain\n",
    ")\n",
    "# end::chain[]\n",
    "\n",
    "\n",
    "def get_review(input):\n",
    "    return review_retriever.invoke({\"input\": input})"
   ]
  },
  {
   "cell_type": "code",
   "execution_count": 21,
   "metadata": {},
   "outputs": [
    {
     "name": "stdout",
     "output_type": "stream",
     "text": [
      "Review Result: {'input': 'What are the reviews for emotional support from nurse and describe them in details?', 'context': [Document(metadata={'Hospital_ID': 10, 'Patient_ID': 517, 'Checkup_ID': 532, 'Review_ID': 380}, page_content='Playing soft music and asking if it helped me relax, the nurse personalized emotional support to my preferences.'), Document(metadata={'Hospital_ID': 7, 'Patient_ID': 270, 'Checkup_ID': 592, 'Review_ID': 385}, page_content='I respected that the nurse involved my family, strengthening our emotional support network.'), Document(metadata={'Hospital_ID': 9, 'Patient_ID': 581, 'Checkup_ID': 573, 'Review_ID': 389}, page_content='Using familiar phrases that acknowledged my cultural background, the nurse offered meaningful emotional comfort.'), Document(metadata={'Hospital_ID': 2, 'Patient_ID': 233, 'Checkup_ID': 654, 'Review_ID': 283}, page_content='I admired how the nurse calmly listened to my emotional fears, acknowledging them without hurrying to dismiss.')], 'answer': \"The reviews for the emotional support provided by the nurse are very positive. Patients appreciate the personalized approach taken by the nurse, such as playing soft music to help them relax and involving their family members to strengthen their emotional support network. The nurse also demonstrates cultural sensitivity by using familiar phrases that acknowledge the patient's background, which offers meaningful emotional comfort. Additionally, patients admire the nurse's ability to calmly listen to their fears without rushing to dismiss them. Overall, the reviews highlight the nurse's compassionate and empathetic approach to providing emotional support.\"}\n"
     ]
    }
   ],
   "source": [
    "# Example input question\n",
    "input_question = \"What are the reviews for emotional support from nurse and describe them in details?\"\n",
    "\n",
    "# Get the review result\n",
    "result = get_review(input_question)\n",
    "\n",
    "# Display the result\n",
    "print(\"Review Result:\", result)"
   ]
  }
 ],
 "metadata": {
  "language_info": {
   "name": "python"
  }
 },
 "nbformat": 4,
 "nbformat_minor": 2
}
