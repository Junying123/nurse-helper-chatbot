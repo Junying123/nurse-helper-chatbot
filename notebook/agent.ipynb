{
 "cells": [
  {
   "cell_type": "code",
   "execution_count": 1,
   "metadata": {},
   "outputs": [],
   "source": [
    "%%capture --no-stderr\n",
    "%pip install -U langgraph langchain langchain-openai"
   ]
  },
  {
   "cell_type": "code",
   "execution_count": 2,
   "metadata": {},
   "outputs": [],
   "source": [
    "import os\n",
    "import sys\n",
    "\n",
    "\n",
    "os.chdir(\"/teamspace/studios/this_studio/nurse-helper-chatbot\")\n",
    "\n",
    "\n",
    "sys.path.append(os.getcwd())"
   ]
  },
  {
   "cell_type": "code",
   "execution_count": 3,
   "metadata": {},
   "outputs": [],
   "source": [
    "from llm import llm\n",
    "from graph import graph\n",
    "from langgraph.prebuilt import create_react_agent\n",
    "from langgraph.prebuilt.chat_agent_executor import AgentState\n",
    "from langchain_core.prompts import PromptTemplate\n",
    "from langchain_community.chat_message_histories import Neo4jChatMessageHistory\n",
    "from langchain_core.runnables.history import RunnableWithMessageHistory\n",
    "from utils import get_session_id\n",
    "from tools.hospital import hospital_cypher_qa\n",
    "from tools.patient import patient_cypher_qa\n",
    "from tools.physician import physician_cypher_qa\n",
    "from langchain_core.tools import tool\n",
    "\n",
    "@tool\n",
    "def explore_hospital(question: str) -> str:\n",
    "    \"\"\"Provide information about patient questions using Cypher and context from GraphCypherQAChain\"\"\"\n",
    "    return hospital_cypher_qa.invoke(question)\n",
    "\n",
    "@tool\n",
    "def explore_patient(question: str) -> str:\n",
    "    \"\"\"Provide information about patient questions using Cypher and context from GraphCypherQAChain.\"\"\"\n",
    "    return patient_cypher_qa.invoke(question)\n",
    "\n",
    "\n",
    "tools = [explore_hospital, explore_patient]\n",
    "\n",
    " "
   ]
  },
  {
   "cell_type": "code",
   "execution_count": 134,
   "metadata": {},
   "outputs": [],
   "source": [
    "from langchain_core.prompts import ChatPromptTemplate, MessagesPlaceholder\n",
    "\n",
    "# Define the agent prompt using ChatPromptTemplate\n",
    "agent_prompt = ChatPromptTemplate.from_messages(\n",
    "    [\n",
    "        (\"system\", \"\"\"\n",
    "                        You are a nursing expert providing information about nursing care.\n",
    "                        Be as helpful as possible and return as much information as possible.\n",
    "                        Only answer questions related to checkups, hospitals, or patients.\n",
    "\n",
    "                        You must rely solely on the information provided in the context and the tools available to you. \n",
    "                        Do not use any pre-trained knowledge.\n",
    "\n",
    "                        You **must** use the tools provided for every relevant question. \n",
    "                        Do not decline to use a tool, as it is essential for generating accurate responses.\n",
    "\n",
    "                        When generating responses:\n",
    "                        Always follow the required format strictly.\n",
    "                        Use the actual Cypher examples from the `GraphCypherQAChain` to construct accurate queries.\n",
    "                        Validate the information retrieved from the tools before providing a final answer.\n",
    "                        If the information is insufficient, indicate that further clarification is needed.\n",
    "\n",
    "                        Use the following format to provide a response:\n",
    "                        Final Answer: [your response here]\n",
    "        \"\"\"),\n",
    "        (\"user\", \"{input}\"),  # Placeholder for new input\n",
    "        (\"placeholder\", \"{messages}\"),  # Use MessagesPlaceholder for chat history\n",
    "    ]\n",
    ")"
   ]
  },
  {
   "cell_type": "code",
   "execution_count": 4,
   "metadata": {},
   "outputs": [],
   "source": [
    "from langchain_core.messages import SystemMessage\n",
    "\n",
    "system_message = SystemMessage(content=\"\"\"\n",
    "You are a nursing expert providing information about nursing care.\n",
    "Be as helpful as possible and return as much information as possible.\n",
    "Only answer questions related to checkups, hospitals, or patients.\n",
    "\n",
    "You must rely solely on the information provided in the context and the tools available to you. \n",
    "Do not use any pre-trained knowledge.\n",
    "\n",
    "You **must** use the tools provided for every relevant question. \n",
    "Do not decline to use a tool, as it is essential for generating accurate responses.\n",
    "\n",
    "When generating responses:\n",
    "Always follow the required format strictly.\n",
    "Use the actual Cypher examples from the `GraphCypherQAChain` to construct accurate queries.\n",
    "Validate the information retrieved from the tools before providing a final answer.\n",
    "If the information is insufficient, indicate that further clarification is needed.\n",
    "\n",
    "Use the following format to provide a response:\n",
    "```\n",
    "[**Thought**]\n",
    "[**Tool_used**:e.g. explore_patient]\n",
    "[**Response**]\n",
    "```\n",
    "\n",
    "Begin!\n",
    "\n",
    "Previous conversation history:\n",
    "{{chat_history}}\n",
    "\n",
    "New input: {{input}}\n",
    "\"\"\")"
   ]
  },
  {
   "cell_type": "code",
   "execution_count": 118,
   "metadata": {},
   "outputs": [],
   "source": [
    "def _modify_state_messages(state: AgentState):\n",
    "    # Extract chat history and new input from the state\n",
    "    chat_history = state[\"messages\"]  # Assuming this is a list of messages\n",
    "    new_input = state.get(\"input\", \"\")  # Get the new input, default to empty string if not present\n",
    "\n",
    "    # Invoke the prompt with the extracted information\n",
    "    return agent_prompt.invoke({\n",
    "        \"input\": new_input,            # Pass the new input\n",
    "        \"messages\": chat_history,      # Pass the chat history\n",
    "        \"tools\": state.get(\"tools\", \"\"),  # Pass the tools if available\n",
    "        \"tool_names\": state.get(\"tool_names\", \"\"),  # Pass the tool names if available\n",
    "    }).to_messages()\n",
    "    \n",
    "\n"
   ]
  },
  {
   "cell_type": "code",
   "execution_count": 5,
   "metadata": {},
   "outputs": [],
   "source": [
    "langgraph_agent_executor = create_react_agent(llm, tools, state_modifier=system_message)"
   ]
  },
  {
   "cell_type": "code",
   "execution_count": 7,
   "metadata": {},
   "outputs": [],
   "source": [
    "# List the physicians specializing in Pulmonology at Penang General Hospital.\n",
    "# do Lam Wah Ee Hospital exist in the database? May I know its contact number\n",
    "query = \"can u find a patient information and its checkup with which physician attends the checkup for id 123?\""
   ]
  },
  {
   "cell_type": "code",
   "execution_count": 46,
   "metadata": {},
   "outputs": [
    {
     "name": "stdout",
     "output_type": "stream",
     "text": [
      "{'agent': {'messages': [AIMessage(content='', additional_kwargs={'tool_calls': [{'id': 'call_gKZoBdOUxFV0PIVRoEYdvhcg', 'function': {'arguments': '{\"question\": \"What is the information for patient with ID 123?\"}', 'name': 'explore_patient'}, 'type': 'function'}, {'id': 'call_Gi039IUuIlcLUi9wyQnj7LWi', 'function': {'arguments': '{\"question\": \"Which physician attended the checkup for patient ID 123?\"}', 'name': 'explore_hospital'}, 'type': 'function'}], 'refusal': None}, response_metadata={'token_usage': {'completion_tokens': 69, 'prompt_tokens': 306, 'total_tokens': 375, 'completion_tokens_details': {'accepted_prediction_tokens': 0, 'audio_tokens': 0, 'reasoning_tokens': 0, 'rejected_prediction_tokens': 0}, 'prompt_tokens_details': {'audio_tokens': 0, 'cached_tokens': 0}}, 'model_name': 'gpt-4o-mini-2024-07-18', 'system_fingerprint': 'fp_0aa8d3e20b', 'finish_reason': 'tool_calls', 'logprobs': None}, id='run-7a4bb4c4-2203-4aac-a0c9-ee2021bc3bcd-0', tool_calls=[{'name': 'explore_patient', 'args': {'question': 'What is the information for patient with ID 123?'}, 'id': 'call_gKZoBdOUxFV0PIVRoEYdvhcg', 'type': 'tool_call'}, {'name': 'explore_hospital', 'args': {'question': 'Which physician attended the checkup for patient ID 123?'}, 'id': 'call_Gi039IUuIlcLUi9wyQnj7LWi', 'type': 'tool_call'}], usage_metadata={'input_tokens': 306, 'output_tokens': 69, 'total_tokens': 375, 'input_token_details': {'audio': 0, 'cache_read': 0}, 'output_token_details': {'audio': 0, 'reasoning': 0}})]}}\n",
      "\n",
      "\n",
      "\u001b[1m> Entering new GraphCypherQAChain chain...\u001b[0m\n",
      "\n",
      "\n",
      "\u001b[1m> Entering new GraphCypherQAChain chain...\u001b[0m\n",
      "Generated Cypher:\n",
      "\u001b[32;1m\u001b[1;3m\n",
      "MATCH (p:patient {Patient_ID: 123})\n",
      "RETURN properties(p) AS PatientProperties; \n",
      "\u001b[0m\n",
      "Full Context:\n",
      "\u001b[32;1m\u001b[1;3m[{'PatientProperties': {'Name': 'Yusof Abdullah', 'Identity_number': '830823-10-5510', 'Age': 41, 'Allergy': 'Peanuts', 'Patient_Contact': '013-8450245', 'Emergency_number': '013-6550048', 'Gender': 'Male', 'Patient_ID': 123, 'Blood_Type': 'B-', 'Chronic_condition': 'Stroke'}}]\u001b[0m\n",
      "Generated Cypher:\n",
      "\u001b[32;1m\u001b[1;3m\n",
      "MATCH (p:patient {Patient_ID: 123})-[:has]->(c:checkup)<-[:attend]-(phy:physician)\n",
      "RETURN phy.Physician_Name AS PhysicianName, \n",
      "       phy.License_Number AS LicenseNumber, \n",
      "       phy.Physician_Contact AS PhysicianContactNumber;\n",
      "\u001b[0m\n",
      "Full Context:\n",
      "\u001b[32;1m\u001b[1;3m[{'PhysicianName': 'Dr. Gan Li Tee', 'LicenseNumber': 55202, 'PhysicianContactNumber': '03-6386655'}, {'PhysicianName': 'Dr. Tan Siew Ling', 'LicenseNumber': 69654, 'PhysicianContactNumber': '03-8970054'}]\u001b[0m\n",
      "\n",
      "\u001b[1m> Finished chain.\u001b[0m\n",
      "\n",
      "\u001b[1m> Finished chain.\u001b[0m\n",
      "{'tools': {'messages': [ToolMessage(content='{\"query\": \"What is the information for patient with ID 123?\", \"result\": \"The information for the patient with ID 123 is as follows: Name is Yusof Abdullah, Age is 41, Gender is Male, Blood Type is B-, Allergy is Peanuts, and the chronic condition is Stroke. The patient\\'s contact number is 013-8450245, and the emergency number is 013-6550048.\", \"intermediate_steps\": [{\"query\": \"\\\\nMATCH (p:patient {Patient_ID: 123})\\\\nRETURN properties(p) AS PatientProperties; \\\\n\"}, {\"context\": [{\"PatientProperties\": {\"Name\": \"Yusof Abdullah\", \"Identity_number\": \"830823-10-5510\", \"Age\": 41, \"Allergy\": \"Peanuts\", \"Patient_Contact\": \"013-8450245\", \"Emergency_number\": \"013-6550048\", \"Gender\": \"Male\", \"Patient_ID\": 123, \"Blood_Type\": \"B-\", \"Chronic_condition\": \"Stroke\"}}]}]}', name='explore_patient', id='a7958633-743e-456f-bdad-6005a48450e4', tool_call_id='call_gKZoBdOUxFV0PIVRoEYdvhcg'), ToolMessage(content='{\"query\": \"Which physician attended the checkup for patient ID 123?\", \"result\": \"I don\\'t know the answer.\", \"intermediate_steps\": [{\"query\": \"\\\\nMATCH (p:patient {Patient_ID: 123})-[:has]->(c:checkup)<-[:attend]-(phy:physician)\\\\nRETURN phy.Physician_Name AS PhysicianName, \\\\n       phy.License_Number AS LicenseNumber, \\\\n       phy.Physician_Contact AS PhysicianContactNumber;\\\\n\"}, {\"context\": [{\"PhysicianName\": \"Dr. Gan Li Tee\", \"LicenseNumber\": 55202, \"PhysicianContactNumber\": \"03-6386655\"}, {\"PhysicianName\": \"Dr. Tan Siew Ling\", \"LicenseNumber\": 69654, \"PhysicianContactNumber\": \"03-8970054\"}]}]}', name='explore_hospital', id='e1b623f8-7b29-436e-91ae-ec24a8fc1964', tool_call_id='call_Gi039IUuIlcLUi9wyQnj7LWi')]}}\n",
      "{'agent': {'messages': [AIMessage(content=\"```\\n[thought]\\nI retrieved the patient's information and the physicians who attended the checkup for patient ID 123. However, it appears there are two physicians involved in the checkup.\\n[tool_used:multi_tool_use.parallel]\\n[response]\\nThe information for the patient with ID 123 is as follows:\\n- Name: Yusof Abdullah\\n- Age: 41\\n- Gender: Male\\n- Blood Type: B-\\n- Allergy: Peanuts\\n- Chronic Condition: Stroke\\n- Contact Number: 013-8450245\\n- Emergency Number: 013-6550048\\n\\nThe physicians who attended the checkup for this patient are:\\n1. Dr. Gan Li Tee\\n   - License Number: 55202\\n   - Contact Number: 03-6386655\\n2. Dr. Tan Siew Ling\\n   - License Number: 69654\\n   - Contact Number: 03-8970054\\n```\", additional_kwargs={'refusal': None}, response_metadata={'token_usage': {'completion_tokens': 196, 'prompt_tokens': 785, 'total_tokens': 981, 'completion_tokens_details': {'accepted_prediction_tokens': 0, 'audio_tokens': 0, 'reasoning_tokens': 0, 'rejected_prediction_tokens': 0}, 'prompt_tokens_details': {'audio_tokens': 0, 'cached_tokens': 0}}, 'model_name': 'gpt-4o-mini-2024-07-18', 'system_fingerprint': 'fp_0aa8d3e20b', 'finish_reason': 'stop', 'logprobs': None}, id='run-01bcad67-401c-4acc-8f18-73223e462953-0', usage_metadata={'input_tokens': 785, 'output_tokens': 196, 'total_tokens': 981, 'input_token_details': {'audio': 0, 'cache_read': 0}, 'output_token_details': {'audio': 0, 'reasoning': 0}})]}}\n"
     ]
    }
   ],
   "source": [
    "for step in langgraph_agent_executor.stream(\n",
    "    {\"messages\": [(\"human\", query)]}, stream_mode=\"updates\"\n",
    "):\n",
    "    print(step)"
   ]
  },
  {
   "cell_type": "code",
   "execution_count": 47,
   "metadata": {},
   "outputs": [
    {
     "name": "stdout",
     "output_type": "stream",
     "text": [
      "\n",
      "\n",
      "\u001b[1m> Entering new GraphCypherQAChain chain...\u001b[0m\n",
      "\n",
      "\n",
      "\u001b[1m> Entering new GraphCypherQAChain chain...\u001b[0m\n",
      "Generated Cypher:\n",
      "\u001b[32;1m\u001b[1;3m\n",
      "MATCH (p:patient {Patient_ID: 123})-[:has]->(c:checkup)<-[:attend]-(phy:physician)\n",
      "RETURN phy.Physician_Name AS PhysicianName, \n",
      "       phy.License_Number AS LicenseNumber, \n",
      "       phy.Physician_Contact AS PhysicianContactNumber;\n",
      "\u001b[0m\n",
      "Full Context:\n",
      "\u001b[32;1m\u001b[1;3m[{'PhysicianName': 'Dr. Gan Li Tee', 'LicenseNumber': 55202, 'PhysicianContactNumber': '03-6386655'}, {'PhysicianName': 'Dr. Tan Siew Ling', 'LicenseNumber': 69654, 'PhysicianContactNumber': '03-8970054'}]\u001b[0m\n",
      "Generated Cypher:\n",
      "\u001b[32;1m\u001b[1;3m\n",
      "MATCH (p:patient {Patient_ID: 123})\n",
      "RETURN properties(p) AS PatientProperties; \n",
      "\u001b[0m\n",
      "\n",
      "\u001b[1m> Finished chain.\u001b[0m\n",
      "Full Context:\n",
      "\u001b[32;1m\u001b[1;3m[{'PatientProperties': {'Name': 'Yusof Abdullah', 'Identity_number': '830823-10-5510', 'Age': 41, 'Allergy': 'Peanuts', 'Patient_Contact': '013-8450245', 'Emergency_number': '013-6550048', 'Gender': 'Male', 'Patient_ID': 123, 'Blood_Type': 'B-', 'Chronic_condition': 'Stroke'}}]\u001b[0m\n",
      "\n",
      "\u001b[1m> Finished chain.\u001b[0m\n"
     ]
    },
    {
     "data": {
      "text/plain": [
       "{'messages': [HumanMessage(content='can u find a patient information and its checkup with which physician attends the checkup for id 123?', additional_kwargs={}, response_metadata={}, id='441c7e1b-3890-4eb5-a6c9-3c497c2681cb'),\n",
       "  AIMessage(content='', additional_kwargs={'tool_calls': [{'id': 'call_7npVN0eY6g9KUQiD7lh2bCzN', 'function': {'arguments': '{\"question\": \"Find patient information for ID 123.\"}', 'name': 'explore_patient'}, 'type': 'function'}, {'id': 'call_rdyseTiMnmdDgzge453OUP8O', 'function': {'arguments': '{\"question\": \"Which physician attends the checkup for patient ID 123?\"}', 'name': 'explore_hospital'}, 'type': 'function'}], 'refusal': None}, response_metadata={'token_usage': {'completion_tokens': 66, 'prompt_tokens': 306, 'total_tokens': 372, 'completion_tokens_details': {'accepted_prediction_tokens': 0, 'audio_tokens': 0, 'reasoning_tokens': 0, 'rejected_prediction_tokens': 0}, 'prompt_tokens_details': {'audio_tokens': 0, 'cached_tokens': 0}}, 'model_name': 'gpt-4o-mini-2024-07-18', 'system_fingerprint': 'fp_0aa8d3e20b', 'finish_reason': 'tool_calls', 'logprobs': None}, id='run-ad46f1cd-7a24-4509-aa8a-0b77945a371e-0', tool_calls=[{'name': 'explore_patient', 'args': {'question': 'Find patient information for ID 123.'}, 'id': 'call_7npVN0eY6g9KUQiD7lh2bCzN', 'type': 'tool_call'}, {'name': 'explore_hospital', 'args': {'question': 'Which physician attends the checkup for patient ID 123?'}, 'id': 'call_rdyseTiMnmdDgzge453OUP8O', 'type': 'tool_call'}], usage_metadata={'input_tokens': 306, 'output_tokens': 66, 'total_tokens': 372, 'input_token_details': {'audio': 0, 'cache_read': 0}, 'output_token_details': {'audio': 0, 'reasoning': 0}}),\n",
       "  ToolMessage(content='{\"query\": \"Find patient information for ID 123.\", \"result\": \"The patient information for ID 123 is as follows: Name: Yusof Abdullah, Age: 41, Gender: Male, Blood Type: B-, Allergy: Peanuts, Chronic Condition: Stroke. You can contact him at 013-8450245, and in case of an emergency, the contact number is 013-6550048. His identity number is 830823-10-5510.\", \"intermediate_steps\": [{\"query\": \"\\\\nMATCH (p:patient {Patient_ID: 123})\\\\nRETURN properties(p) AS PatientProperties; \\\\n\"}, {\"context\": [{\"PatientProperties\": {\"Name\": \"Yusof Abdullah\", \"Identity_number\": \"830823-10-5510\", \"Age\": 41, \"Allergy\": \"Peanuts\", \"Patient_Contact\": \"013-8450245\", \"Emergency_number\": \"013-6550048\", \"Gender\": \"Male\", \"Patient_ID\": 123, \"Blood_Type\": \"B-\", \"Chronic_condition\": \"Stroke\"}}]}]}', name='explore_patient', id='dfb0901e-810c-47cb-afaa-e1f0f16d689d', tool_call_id='call_7npVN0eY6g9KUQiD7lh2bCzN'),\n",
       "  ToolMessage(content='{\"query\": \"Which physician attends the checkup for patient ID 123?\", \"result\": \"I don\\'t know the answer.\", \"intermediate_steps\": [{\"query\": \"\\\\nMATCH (p:patient {Patient_ID: 123})-[:has]->(c:checkup)<-[:attend]-(phy:physician)\\\\nRETURN phy.Physician_Name AS PhysicianName, \\\\n       phy.License_Number AS LicenseNumber, \\\\n       phy.Physician_Contact AS PhysicianContactNumber;\\\\n\"}, {\"context\": [{\"PhysicianName\": \"Dr. Gan Li Tee\", \"LicenseNumber\": 55202, \"PhysicianContactNumber\": \"03-6386655\"}, {\"PhysicianName\": \"Dr. Tan Siew Ling\", \"LicenseNumber\": 69654, \"PhysicianContactNumber\": \"03-8970054\"}]}]}', name='explore_hospital', id='be3c120a-cf2f-41c1-949c-c4a650ab39c2', tool_call_id='call_rdyseTiMnmdDgzge453OUP8O'),\n",
       "  AIMessage(content=\"```\\n[thought]\\nI retrieved the patient information for ID 123 successfully, but there is a discrepancy regarding the physician attending the checkup as the query didn't yield a clear answer.\\n[tool_used:multi_tool_use.parallel]\\n[response]\\nPatient Information:\\n- Name: Yusof Abdullah\\n- Age: 41\\n- Gender: Male\\n- Blood Type: B-\\n- Allergy: Peanuts\\n- Chronic Condition: Stroke\\n- Contact Number: 013-8450245\\n- Emergency Contact Number: 013-6550048\\n- Identity Number: 830823-10-5510\\n\\nPhysicians attending the checkup for this patient are:\\n1. Dr. Gan Li Tee\\n   - License Number: 55202\\n   - Contact Number: 03-6386655\\n2. Dr. Tan Siew Ling\\n   - License Number: 69654\\n   - Contact Number: 03-8970054\\n```\", additional_kwargs={'refusal': None}, response_metadata={'token_usage': {'completion_tokens': 198, 'prompt_tokens': 794, 'total_tokens': 992, 'completion_tokens_details': {'accepted_prediction_tokens': 0, 'audio_tokens': 0, 'reasoning_tokens': 0, 'rejected_prediction_tokens': 0}, 'prompt_tokens_details': {'audio_tokens': 0, 'cached_tokens': 0}}, 'model_name': 'gpt-4o-mini-2024-07-18', 'system_fingerprint': 'fp_0aa8d3e20b', 'finish_reason': 'stop', 'logprobs': None}, id='run-9fd892bf-3952-4a95-bafa-768099bce39a-0', usage_metadata={'input_tokens': 794, 'output_tokens': 198, 'total_tokens': 992, 'input_token_details': {'audio': 0, 'cache_read': 0}, 'output_token_details': {'audio': 0, 'reasoning': 0}})]}"
      ]
     },
     "execution_count": 47,
     "metadata": {},
     "output_type": "execute_result"
    }
   ],
   "source": [
    "messages = langgraph_agent_executor.invoke({\"messages\": [(\"human\", query)]})\n",
    "\n",
    "messages"
   ]
  },
  {
   "cell_type": "code",
   "execution_count": 25,
   "metadata": {},
   "outputs": [
    {
     "name": "stdout",
     "output_type": "stream",
     "text": [
      "content='can u find a patient information and its checkup with which physician attends the checkup for id 123?' additional_kwargs={} response_metadata={} id='3c8d3737-e562-42d7-8895-21b0c2380a63'\n"
     ]
    },
    {
     "name": "stdout",
     "output_type": "stream",
     "text": [
      "content='' additional_kwargs={'tool_calls': [{'id': 'call_TxxYQvzbQePnhGsMETJobUEm', 'function': {'arguments': '{\"question\": \"Find patient information for patient ID 123.\"}', 'name': 'explore_patient'}, 'type': 'function'}, {'id': 'call_gqNvykjlyc0xqdlfUxCogGCw', 'function': {'arguments': '{\"question\": \"Find checkup details and physician information for patient ID 123.\"}', 'name': 'explore_hospital'}, 'type': 'function'}], 'refusal': None} response_metadata={'token_usage': {'completion_tokens': 68, 'prompt_tokens': 373, 'total_tokens': 441, 'completion_tokens_details': {'accepted_prediction_tokens': 0, 'audio_tokens': 0, 'reasoning_tokens': 0, 'rejected_prediction_tokens': 0}, 'prompt_tokens_details': {'audio_tokens': 0, 'cached_tokens': 0}}, 'model_name': 'gpt-4o-mini-2024-07-18', 'system_fingerprint': 'fp_d02d531b47', 'finish_reason': 'tool_calls', 'logprobs': None} id='run-014330c2-afae-4463-ab44-dc0485a342c1-0' tool_calls=[{'name': 'explore_patient', 'args': {'question': 'Find patient information for patient ID 123.'}, 'id': 'call_TxxYQvzbQePnhGsMETJobUEm', 'type': 'tool_call'}, {'name': 'explore_hospital', 'args': {'question': 'Find checkup details and physician information for patient ID 123.'}, 'id': 'call_gqNvykjlyc0xqdlfUxCogGCw', 'type': 'tool_call'}] usage_metadata={'input_tokens': 373, 'output_tokens': 68, 'total_tokens': 441, 'input_token_details': {'audio': 0, 'cache_read': 0}, 'output_token_details': {'audio': 0, 'reasoning': 0}}\n",
      "\n",
      "\n",
      "\u001b[1m> Entering new GraphCypherQAChain chain...\u001b[0m\n",
      "Generated Cypher:\n",
      "\u001b[32;1m\u001b[1;3m\n",
      "MATCH (p:patient {Patient_ID: 123})-[:has]->(c:checkup)-[:at]->(h:hospital)-[:recruit]->(phy:physician)\n",
      "RETURN c.Checkup_ID, c.Admission_Type, c.Checkup_Status, c.Admission_Date, c.Discharge_Date, \n",
      "       c.Discharge_Condition, c.Length_of_Stay, c.Diagnosis, c.Treatment, \n",
      "       phy.Physician_Name AS PhysicianName, phy.License_Number AS LicenseNumber, \n",
      "       phy.Physician_Contact AS PhysicianContactNumber;\n",
      "\u001b[0m\n"
     ]
    },
    {
     "name": "stderr",
     "output_type": "stream",
     "text": [
      "Received notification from DBMS server: {severity: WARNING} {code: Neo.ClientNotification.Statement.UnknownPropertyKeyWarning} {category: UNRECOGNIZED} {title: The provided property key is not in the database} {description: One of the property names in your query is not available in the database, make sure you didn't misspell it or that the label is available when you run this statement in your application (the missing property name is: Length_of_Stay)} {position: line: 4, column: 33, offset: 231} for query: '\\nMATCH (p:patient {Patient_ID: 123})-[:has]->(c:checkup)-[:at]->(h:hospital)-[:recruit]->(phy:physician)\\nRETURN c.Checkup_ID, c.Admission_Type, c.Checkup_Status, c.Admission_Date, c.Discharge_Date, \\n       c.Discharge_Condition, c.Length_of_Stay, c.Diagnosis, c.Treatment, \\n       phy.Physician_Name AS PhysicianName, phy.License_Number AS LicenseNumber, \\n       phy.Physician_Contact AS PhysicianContactNumber;\\n'\n"
     ]
    },
    {
     "name": "stdout",
     "output_type": "stream",
     "text": [
      "Full Context:\n",
      "\u001b[32;1m\u001b[1;3m[{'c.Checkup_ID': 252, 'c.Admission_Type': 'Urgent', 'c.Checkup_Status': 'Discharged', 'c.Admission_Date': '5/27/2024', 'c.Discharge_Date': '6/1/2024', 'c.Discharge_Condition': None, 'c.Length_of_Stay': None, 'c.Diagnosis': 'Fractured bone', 'c.Treatment': 'Pain management', 'PhysicianName': 'Dr. Norazlina binti Mohd Ali', 'LicenseNumber': 34655, 'PhysicianContactNumber': '03-8221950'}, {'c.Checkup_ID': 252, 'c.Admission_Type': 'Urgent', 'c.Checkup_Status': 'Discharged', 'c.Admission_Date': '5/27/2024', 'c.Discharge_Date': '6/1/2024', 'c.Discharge_Condition': None, 'c.Length_of_Stay': None, 'c.Diagnosis': 'Fractured bone', 'c.Treatment': 'Pain management', 'PhysicianName': 'Dr. Choong Po Keat', 'LicenseNumber': 35958, 'PhysicianContactNumber': '03-4601885'}, {'c.Checkup_ID': 252, 'c.Admission_Type': 'Urgent', 'c.Checkup_Status': 'Discharged', 'c.Admission_Date': '5/27/2024', 'c.Discharge_Date': '6/1/2024', 'c.Discharge_Condition': None, 'c.Length_of_Stay': None, 'c.Diagnosis': 'Fractured bone', 'c.Treatment': 'Pain management', 'PhysicianName': 'Dr. Gan Li Tee', 'LicenseNumber': 55202, 'PhysicianContactNumber': '03-6386655'}, {'c.Checkup_ID': 252, 'c.Admission_Type': 'Urgent', 'c.Checkup_Status': 'Discharged', 'c.Admission_Date': '5/27/2024', 'c.Discharge_Date': '6/1/2024', 'c.Discharge_Condition': None, 'c.Length_of_Stay': None, 'c.Diagnosis': 'Fractured bone', 'c.Treatment': 'Pain management', 'PhysicianName': 'Dr. Jeyakumar Ratnasingam', 'LicenseNumber': 86127, 'PhysicianContactNumber': '03-4219396'}, {'c.Checkup_ID': 252, 'c.Admission_Type': 'Urgent', 'c.Checkup_Status': 'Discharged', 'c.Admission_Date': '5/27/2024', 'c.Discharge_Date': '6/1/2024', 'c.Discharge_Condition': None, 'c.Length_of_Stay': None, 'c.Diagnosis': 'Fractured bone', 'c.Treatment': 'Pain management', 'PhysicianName': 'Dr. Ramlah binti Abdul Hamid', 'LicenseNumber': 53834, 'PhysicianContactNumber': '03-2255663'}, {'c.Checkup_ID': 252, 'c.Admission_Type': 'Urgent', 'c.Checkup_Status': 'Discharged', 'c.Admission_Date': '5/27/2024', 'c.Discharge_Date': '6/1/2024', 'c.Discharge_Condition': None, 'c.Length_of_Stay': None, 'c.Diagnosis': 'Fractured bone', 'c.Treatment': 'Pain management', 'PhysicianName': 'Dr. Chew Pei Ying', 'LicenseNumber': 39488, 'PhysicianContactNumber': '03-2461365'}, {'c.Checkup_ID': 252, 'c.Admission_Type': 'Urgent', 'c.Checkup_Status': 'Discharged', 'c.Admission_Date': '5/27/2024', 'c.Discharge_Date': '6/1/2024', 'c.Discharge_Condition': None, 'c.Length_of_Stay': None, 'c.Diagnosis': 'Fractured bone', 'c.Treatment': 'Pain management', 'PhysicianName': 'Dr. Ainul Mardhiah', 'LicenseNumber': 39457, 'PhysicianContactNumber': '03-7607792'}, {'c.Checkup_ID': 252, 'c.Admission_Type': 'Urgent', 'c.Checkup_Status': 'Discharged', 'c.Admission_Date': '5/27/2024', 'c.Discharge_Date': '6/1/2024', 'c.Discharge_Condition': None, 'c.Length_of_Stay': None, 'c.Diagnosis': 'Fractured bone', 'c.Treatment': 'Pain management', 'PhysicianName': 'Dr. Rizwan Abdullah', 'LicenseNumber': 76582, 'PhysicianContactNumber': '03-9671087'}, {'c.Checkup_ID': 252, 'c.Admission_Type': 'Urgent', 'c.Checkup_Status': 'Discharged', 'c.Admission_Date': '5/27/2024', 'c.Discharge_Date': '6/1/2024', 'c.Discharge_Condition': None, 'c.Length_of_Stay': None, 'c.Diagnosis': 'Fractured bone', 'c.Treatment': 'Pain management', 'PhysicianName': 'Dr. Loo Jin Xuan', 'LicenseNumber': 73330, 'PhysicianContactNumber': '03-6478874'}, {'c.Checkup_ID': 252, 'c.Admission_Type': 'Urgent', 'c.Checkup_Status': 'Discharged', 'c.Admission_Date': '5/27/2024', 'c.Discharge_Date': '6/1/2024', 'c.Discharge_Condition': None, 'c.Length_of_Stay': None, 'c.Diagnosis': 'Fractured bone', 'c.Treatment': 'Pain management', 'PhysicianName': 'Dr. Lim Siew Eng', 'LicenseNumber': 14184, 'PhysicianContactNumber': '03-8974434'}]\u001b[0m\n",
      "\n",
      "\u001b[1m> Finished chain.\u001b[0m\n",
      "content='{\"query\": \"Find checkup details and physician information for patient ID 123.\", \"result\": \"I don\\'t know the answer.\", \"intermediate_steps\": [{\"query\": \"\\\\nMATCH (p:patient {Patient_ID: 123})-[:has]->(c:checkup)-[:at]->(h:hospital)-[:recruit]->(phy:physician)\\\\nRETURN c.Checkup_ID, c.Admission_Type, c.Checkup_Status, c.Admission_Date, c.Discharge_Date, \\\\n       c.Discharge_Condition, c.Length_of_Stay, c.Diagnosis, c.Treatment, \\\\n       phy.Physician_Name AS PhysicianName, phy.License_Number AS LicenseNumber, \\\\n       phy.Physician_Contact AS PhysicianContactNumber;\\\\n\"}, {\"context\": [{\"c.Checkup_ID\": 252, \"c.Admission_Type\": \"Urgent\", \"c.Checkup_Status\": \"Discharged\", \"c.Admission_Date\": \"5/27/2024\", \"c.Discharge_Date\": \"6/1/2024\", \"c.Discharge_Condition\": null, \"c.Length_of_Stay\": null, \"c.Diagnosis\": \"Fractured bone\", \"c.Treatment\": \"Pain management\", \"PhysicianName\": \"Dr. Norazlina binti Mohd Ali\", \"LicenseNumber\": 34655, \"PhysicianContactNumber\": \"03-8221950\"}, {\"c.Checkup_ID\": 252, \"c.Admission_Type\": \"Urgent\", \"c.Checkup_Status\": \"Discharged\", \"c.Admission_Date\": \"5/27/2024\", \"c.Discharge_Date\": \"6/1/2024\", \"c.Discharge_Condition\": null, \"c.Length_of_Stay\": null, \"c.Diagnosis\": \"Fractured bone\", \"c.Treatment\": \"Pain management\", \"PhysicianName\": \"Dr. Choong Po Keat\", \"LicenseNumber\": 35958, \"PhysicianContactNumber\": \"03-4601885\"}, {\"c.Checkup_ID\": 252, \"c.Admission_Type\": \"Urgent\", \"c.Checkup_Status\": \"Discharged\", \"c.Admission_Date\": \"5/27/2024\", \"c.Discharge_Date\": \"6/1/2024\", \"c.Discharge_Condition\": null, \"c.Length_of_Stay\": null, \"c.Diagnosis\": \"Fractured bone\", \"c.Treatment\": \"Pain management\", \"PhysicianName\": \"Dr. Gan Li Tee\", \"LicenseNumber\": 55202, \"PhysicianContactNumber\": \"03-6386655\"}, {\"c.Checkup_ID\": 252, \"c.Admission_Type\": \"Urgent\", \"c.Checkup_Status\": \"Discharged\", \"c.Admission_Date\": \"5/27/2024\", \"c.Discharge_Date\": \"6/1/2024\", \"c.Discharge_Condition\": null, \"c.Length_of_Stay\": null, \"c.Diagnosis\": \"Fractured bone\", \"c.Treatment\": \"Pain management\", \"PhysicianName\": \"Dr. Jeyakumar Ratnasingam\", \"LicenseNumber\": 86127, \"PhysicianContactNumber\": \"03-4219396\"}, {\"c.Checkup_ID\": 252, \"c.Admission_Type\": \"Urgent\", \"c.Checkup_Status\": \"Discharged\", \"c.Admission_Date\": \"5/27/2024\", \"c.Discharge_Date\": \"6/1/2024\", \"c.Discharge_Condition\": null, \"c.Length_of_Stay\": null, \"c.Diagnosis\": \"Fractured bone\", \"c.Treatment\": \"Pain management\", \"PhysicianName\": \"Dr. Ramlah binti Abdul Hamid\", \"LicenseNumber\": 53834, \"PhysicianContactNumber\": \"03-2255663\"}, {\"c.Checkup_ID\": 252, \"c.Admission_Type\": \"Urgent\", \"c.Checkup_Status\": \"Discharged\", \"c.Admission_Date\": \"5/27/2024\", \"c.Discharge_Date\": \"6/1/2024\", \"c.Discharge_Condition\": null, \"c.Length_of_Stay\": null, \"c.Diagnosis\": \"Fractured bone\", \"c.Treatment\": \"Pain management\", \"PhysicianName\": \"Dr. Chew Pei Ying\", \"LicenseNumber\": 39488, \"PhysicianContactNumber\": \"03-2461365\"}, {\"c.Checkup_ID\": 252, \"c.Admission_Type\": \"Urgent\", \"c.Checkup_Status\": \"Discharged\", \"c.Admission_Date\": \"5/27/2024\", \"c.Discharge_Date\": \"6/1/2024\", \"c.Discharge_Condition\": null, \"c.Length_of_Stay\": null, \"c.Diagnosis\": \"Fractured bone\", \"c.Treatment\": \"Pain management\", \"PhysicianName\": \"Dr. Ainul Mardhiah\", \"LicenseNumber\": 39457, \"PhysicianContactNumber\": \"03-7607792\"}, {\"c.Checkup_ID\": 252, \"c.Admission_Type\": \"Urgent\", \"c.Checkup_Status\": \"Discharged\", \"c.Admission_Date\": \"5/27/2024\", \"c.Discharge_Date\": \"6/1/2024\", \"c.Discharge_Condition\": null, \"c.Length_of_Stay\": null, \"c.Diagnosis\": \"Fractured bone\", \"c.Treatment\": \"Pain management\", \"PhysicianName\": \"Dr. Rizwan Abdullah\", \"LicenseNumber\": 76582, \"PhysicianContactNumber\": \"03-9671087\"}, {\"c.Checkup_ID\": 252, \"c.Admission_Type\": \"Urgent\", \"c.Checkup_Status\": \"Discharged\", \"c.Admission_Date\": \"5/27/2024\", \"c.Discharge_Date\": \"6/1/2024\", \"c.Discharge_Condition\": null, \"c.Length_of_Stay\": null, \"c.Diagnosis\": \"Fractured bone\", \"c.Treatment\": \"Pain management\", \"PhysicianName\": \"Dr. Loo Jin Xuan\", \"LicenseNumber\": 73330, \"PhysicianContactNumber\": \"03-6478874\"}, {\"c.Checkup_ID\": 252, \"c.Admission_Type\": \"Urgent\", \"c.Checkup_Status\": \"Discharged\", \"c.Admission_Date\": \"5/27/2024\", \"c.Discharge_Date\": \"6/1/2024\", \"c.Discharge_Condition\": null, \"c.Length_of_Stay\": null, \"c.Diagnosis\": \"Fractured bone\", \"c.Treatment\": \"Pain management\", \"PhysicianName\": \"Dr. Lim Siew Eng\", \"LicenseNumber\": 14184, \"PhysicianContactNumber\": \"03-8974434\"}]}]}' name='explore_hospital' id='e3f66f15-aeae-41ab-a72e-10ee88ba6209' tool_call_id='call_gqNvykjlyc0xqdlfUxCogGCw'\n",
      "content='```\\nThought: I need to retrieve patient information and checkup details for patient ID 123, including the physician who attended the checkup.\\nTool Used: multi_tool_use.parallel\\nResponse: \\n\\nPatient ID 123 has undergone a checkup with the following details:\\n\\n- **Checkup ID**: 252\\n- **Admission Type**: Urgent\\n- **Checkup Status**: Discharged\\n- **Admission Date**: 5/27/2024\\n- **Discharge Date**: 6/1/2024\\n- **Diagnosis**: Fractured bone\\n- **Treatment**: Pain management\\n\\nThe following physicians attended the checkup:\\n\\n1. **Dr. Norazlina binti Mohd Ali**\\n   - License Number: 34655\\n   - Contact: 03-8221950\\n\\n2. **Dr. Choong Po Keat**\\n   - License Number: 35958\\n   - Contact: 03-4601885\\n\\n3. **Dr. Gan Li Tee**\\n   - License Number: 55202\\n   - Contact: 03-6386655\\n\\n4. **Dr. Jeyakumar Ratnasingam**\\n   - License Number: 86127\\n   - Contact: 03-4219396\\n\\n5. **Dr. Ramlah binti Abdul Hamid**\\n   - License Number: 53834\\n   - Contact: 03-2255663\\n\\n6. **Dr. Chew Pei Ying**\\n   - License Number: 39488\\n   - Contact: 03-2461365\\n\\n7. **Dr. Ainul Mardhiah**\\n   - License Number: 39457\\n   - Contact: 03-7607792\\n\\n8. **Dr. Rizwan Abdullah**\\n   - License Number: 76582\\n   - Contact: 03-9671087\\n\\n9. **Dr. Loo Jin Xuan**\\n   - License Number: 73330\\n   - Contact: 03-6478874\\n\\n10. **Dr. Lim Siew Eng**\\n    - License Number: 14184\\n    - Contact: 03-8974434\\n\\nPlease let me know if you need more specific information.\\n```' additional_kwargs={'refusal': None} response_metadata={'token_usage': {'completion_tokens': 467, 'prompt_tokens': 1962, 'total_tokens': 2429, 'completion_tokens_details': {'accepted_prediction_tokens': 0, 'audio_tokens': 0, 'reasoning_tokens': 0, 'rejected_prediction_tokens': 0}, 'prompt_tokens_details': {'audio_tokens': 0, 'cached_tokens': 1792}}, 'model_name': 'gpt-4o-mini-2024-07-18', 'system_fingerprint': 'fp_d02d531b47', 'finish_reason': 'stop', 'logprobs': None} id='run-4fa9f037-550e-446e-ad3c-5170a6fe2c20-0' usage_metadata={'input_tokens': 1962, 'output_tokens': 467, 'total_tokens': 2429, 'input_token_details': {'audio': 0, 'cache_read': 1792}, 'output_token_details': {'audio': 0, 'reasoning': 0}}\n"
     ]
    }
   ],
   "source": [
    "RECURSION_LIMIT = 6\n",
    "\n",
    "try:\n",
    "    for chunk in langgraph_agent_executor.stream(\n",
    "        {\"messages\": [(\"human\", query)]},\n",
    "        {\"recursion_limit\": RECURSION_LIMIT},\n",
    "        stream_mode=\"values\",\n",
    "    ):\n",
    "        print(chunk[\"messages\"][-1])\n",
    "except GraphRecursionError:\n",
    "    print({\"input\": query, \"output\": \"Agent stopped due to max iterations.\"})"
   ]
  },
  {
   "cell_type": "code",
   "execution_count": 48,
   "metadata": {},
   "outputs": [
    {
     "name": "stdout",
     "output_type": "stream",
     "text": [
      "\n",
      "\n",
      "\u001b[1m> Entering new GraphCypherQAChain chain...\u001b[0m\n",
      "\n",
      "\n",
      "\u001b[1m> Entering new GraphCypherQAChain chain...\u001b[0m\n",
      "Generated Cypher:\n",
      "\u001b[32;1m\u001b[1;3m\n",
      "MATCH (p:patient {Patient_ID: 123})-[:has]->(c:checkup)-[:at]->(h:hospital)-[:recruit]->(phy:physician)\n",
      "RETURN c.Checkup_ID AS CheckupID, \n",
      "       c.Admission_Date AS AdmissionDate, \n",
      "       c.Discharge_Date AS DischargeDate, \n",
      "       phy.Physician_Name AS PhysicianName, \n",
      "       phy.License_Number AS LicenseNumber;\n",
      "\u001b[0m\n",
      "Generated Cypher:\n",
      "\u001b[32;1m\u001b[1;3m\n",
      "MATCH (p:patient {Patient_ID: 123})\n",
      "RETURN properties(p) AS PatientProperties; \n",
      "\u001b[0m\n",
      "Full Context:\n",
      "\u001b[32;1m\u001b[1;3m[{'CheckupID': 252, 'AdmissionDate': '5/27/2024', 'DischargeDate': '6/1/2024', 'PhysicianName': 'Dr. Norazlina binti Mohd Ali', 'LicenseNumber': 34655}, {'CheckupID': 252, 'AdmissionDate': '5/27/2024', 'DischargeDate': '6/1/2024', 'PhysicianName': 'Dr. Choong Po Keat', 'LicenseNumber': 35958}, {'CheckupID': 252, 'AdmissionDate': '5/27/2024', 'DischargeDate': '6/1/2024', 'PhysicianName': 'Dr. Gan Li Tee', 'LicenseNumber': 55202}, {'CheckupID': 252, 'AdmissionDate': '5/27/2024', 'DischargeDate': '6/1/2024', 'PhysicianName': 'Dr. Jeyakumar Ratnasingam', 'LicenseNumber': 86127}, {'CheckupID': 252, 'AdmissionDate': '5/27/2024', 'DischargeDate': '6/1/2024', 'PhysicianName': 'Dr. Ramlah binti Abdul Hamid', 'LicenseNumber': 53834}, {'CheckupID': 252, 'AdmissionDate': '5/27/2024', 'DischargeDate': '6/1/2024', 'PhysicianName': 'Dr. Chew Pei Ying', 'LicenseNumber': 39488}, {'CheckupID': 252, 'AdmissionDate': '5/27/2024', 'DischargeDate': '6/1/2024', 'PhysicianName': 'Dr. Ainul Mardhiah', 'LicenseNumber': 39457}, {'CheckupID': 252, 'AdmissionDate': '5/27/2024', 'DischargeDate': '6/1/2024', 'PhysicianName': 'Dr. Rizwan Abdullah', 'LicenseNumber': 76582}, {'CheckupID': 252, 'AdmissionDate': '5/27/2024', 'DischargeDate': '6/1/2024', 'PhysicianName': 'Dr. Loo Jin Xuan', 'LicenseNumber': 73330}, {'CheckupID': 252, 'AdmissionDate': '5/27/2024', 'DischargeDate': '6/1/2024', 'PhysicianName': 'Dr. Lim Siew Eng', 'LicenseNumber': 14184}]\u001b[0m\n",
      "\n",
      "\u001b[1m> Finished chain.\u001b[0m\n",
      "Full Context:\n",
      "\u001b[32;1m\u001b[1;3m[{'PatientProperties': {'Name': 'Yusof Abdullah', 'Identity_number': '830823-10-5510', 'Age': 41, 'Allergy': 'Peanuts', 'Patient_Contact': '013-8450245', 'Emergency_number': '013-6550048', 'Gender': 'Male', 'Patient_ID': 123, 'Blood_Type': 'B-', 'Chronic_condition': 'Stroke'}}]\u001b[0m\n",
      "\n",
      "\u001b[1m> Finished chain.\u001b[0m\n",
      "{'input': 'can u find a patient information and its checkup with which physician attends the checkup for id 123?', 'output': '```\\n[thought]\\nI have retrieved the patient information for ID 123, as well as details about the checkup. However, multiple physicians attended the checkup, and their details are listed. \\n[tool_used:multi_tool_use.parallel]\\n[response]\\nPatient Information:\\n- Name: Yusof Abdullah\\n- Age: 41\\n- Gender: Male\\n- Blood Type: B-\\n- Allergy: Peanuts\\n- Chronic Condition: Stroke\\n- Patient Contact: 013-8450245\\n- Emergency Number: 013-6550048\\n\\nCheckup Details:\\n- Checkup ID: 252\\n- Admission Date: 5/27/2024\\n- Discharge Date: 6/1/2024\\n\\nPhysicians who attended the checkup:\\n1. Dr. Norazlina binti Mohd Ali (License Number: 34655)\\n2. Dr. Choong Po Keat (License Number: 35958)\\n3. Dr. Gan Li Tee (License Number: 55202)\\n4. Dr. Jeyakumar Ratnasingam (License Number: 86127)\\n5. Dr. Ramlah binti Abdul Hamid (License Number: 53834)\\n6. Dr. Chew Pei Ying (License Number: 39488)\\n7. Dr. Ainul Mardhiah (License Number: 39457)\\n8. Dr. Rizwan Abdullah (License Number: 76582)\\n9. Dr. Loo Jin Xuan (License Number: 73330)\\n10. Dr. Lim Siew Eng (License Number: 14184)\\n```'}\n"
     ]
    }
   ],
   "source": [
    "messages = langgraph_agent_executor.invoke({\"messages\": [(\"human\", query)]})\n",
    "print(\n",
    "    {\n",
    "        \"input\": query,\n",
    "        \"output\": messages[\"messages\"][-1].content,\n",
    "    }\n",
    ")\n",
    "\n"
   ]
  },
  {
   "cell_type": "code",
   "execution_count": 6,
   "metadata": {},
   "outputs": [],
   "source": [
    "\n",
    "# Define the memory function\n",
    "def get_memory(session_id):\n",
    "    return Neo4jChatMessageHistory(session_id=session_id, graph=graph)\n",
    "\n",
    "# Create the agent executor\n",
    "agent_executor = RunnableWithMessageHistory(\n",
    "    langgraph_agent_executor,\n",
    "    get_memory,\n",
    "    input_messages_key=\"input\",\n",
    "    history_messages_key=\"chat_history\",\n",
    ")\n",
    "\n",
    "from langchain_core.messages import HumanMessage, AIMessage\n",
    "\n",
    "\n",
    "\n",
    "def generate_response(user_input):\n",
    "    \"\"\"\n",
    "    Create a handler that calls the Conversational agent\n",
    "    and streams responses to be printed in the console.\n",
    "    Returns the final output content from the last AIMessage after streaming.\n",
    "    \"\"\"\n",
    "    # Define the messages structure using HumanMessage\n",
    "    messages = [HumanMessage(content=user_input)]\n",
    "    \n",
    "    # Define the configuration with session ID\n",
    "    config = {\"configurable\": {\"session_id\": get_session_id()}} \n",
    "\n",
    "    # Initialize a variable to hold the final output content\n",
    "    final_output_content = \"\"\n",
    "\n",
    "    \n",
    "    # Stream the responses from the agent\n",
    "    for chunk in agent_executor.stream({\"messages\": messages}, config=config):\n",
    "        print(chunk)  # Print each chunk as it is received\n",
    "        print(\"----\")  # Separator for readability\n",
    "            \n",
    "        # Collect messages from the chunk if they exist\n",
    "        if 'agent' in chunk and 'messages' in chunk['agent']:\n",
    "            for message in chunk['agent']['messages']:\n",
    "                if isinstance(message, AIMessage):\n",
    "                        # Print the content of the AIMessage\n",
    "                        # print(f\"AIMessage: {message.content}\")\n",
    "                        # Update the final output content\n",
    "                    final_output_content = message.content  # Store the latest AIMessage content\n",
    "\n",
    " \n",
    "\n",
    "    # Return the final output content\n",
    "    return final_output_content"
   ]
  },
  {
   "cell_type": "code",
   "execution_count": 8,
   "metadata": {},
   "outputs": [
    {
     "name": "stderr",
     "output_type": "stream",
     "text": [
      "2025-01-01 06:34:15.119 Thread 'MainThread': missing ScriptRunContext! This warning can be ignored when running in bare mode.\n",
      "2025-01-01 06:34:15.120 Session state does not function when running a script without `streamlit run`\n",
      "2025-01-01 06:34:15.121 Thread 'MainThread': missing ScriptRunContext! This warning can be ignored when running in bare mode.\n",
      "2025-01-01 06:34:15.122 Thread 'MainThread': missing ScriptRunContext! This warning can be ignored when running in bare mode.\n",
      "2025-01-01 06:34:15.124 Thread 'MainThread': missing ScriptRunContext! This warning can be ignored when running in bare mode.\n"
     ]
    },
    {
     "name": "stdout",
     "output_type": "stream",
     "text": [
      "{'agent': {'messages': [AIMessage(content='', additional_kwargs={'tool_calls': [{'id': 'call_psYQkyzXtX5dzxDYz69qfIc9', 'function': {'arguments': '{\"question\": \"Find patient information and checkup details for patient ID 123.\"}', 'name': 'explore_patient'}, 'type': 'function'}, {'id': 'call_djcRFwal6wClzaoBds8VKGlD', 'function': {'arguments': '{\"question\": \"Find which physician attended the checkup for patient ID 123.\"}', 'name': 'explore_hospital'}, 'type': 'function'}], 'refusal': None}, response_metadata={'token_usage': {'completion_tokens': 72, 'prompt_tokens': 313, 'total_tokens': 385, 'completion_tokens_details': {'accepted_prediction_tokens': 0, 'audio_tokens': 0, 'reasoning_tokens': 0, 'rejected_prediction_tokens': 0}, 'prompt_tokens_details': {'audio_tokens': 0, 'cached_tokens': 0}}, 'model_name': 'gpt-4o-mini-2024-07-18', 'system_fingerprint': 'fp_0aa8d3e20b', 'finish_reason': 'tool_calls', 'logprobs': None}, id='run-9d93df1c-8941-40a9-a0e7-8ad0191c65da-0', tool_calls=[{'name': 'explore_patient', 'args': {'question': 'Find patient information and checkup details for patient ID 123.'}, 'id': 'call_psYQkyzXtX5dzxDYz69qfIc9', 'type': 'tool_call'}, {'name': 'explore_hospital', 'args': {'question': 'Find which physician attended the checkup for patient ID 123.'}, 'id': 'call_djcRFwal6wClzaoBds8VKGlD', 'type': 'tool_call'}], usage_metadata={'input_tokens': 313, 'output_tokens': 72, 'total_tokens': 385, 'input_token_details': {'audio': 0, 'cache_read': 0}, 'output_token_details': {'audio': 0, 'reasoning': 0}})]}}\n",
      "----\n",
      "\n",
      "\n",
      "\u001b[1m> Entering new GraphCypherQAChain chain...\u001b[0m\n",
      "\n",
      "\n",
      "\u001b[1m> Entering new GraphCypherQAChain chain...\u001b[0m\n",
      "Generated Cypher:\n",
      "\u001b[32;1m\u001b[1;3m\n",
      "MATCH (p:patient {Patient_ID: 123})-[:has]->(c:checkup)<-[:attend]-(phy:physician)\n",
      "RETURN phy.Physician_Name AS PhysicianName, \n",
      "       phy.License_Number AS LicenseNumber, \n",
      "       phy.Physician_Contact AS PhysicianContactNumber;\n",
      "\u001b[0m\n",
      "Full Context:\n",
      "\u001b[32;1m\u001b[1;3m[{'PhysicianName': 'Dr. Gan Li Tee', 'LicenseNumber': 55202, 'PhysicianContactNumber': '03-6386655'}, {'PhysicianName': 'Dr. Tan Siew Ling', 'LicenseNumber': 69654, 'PhysicianContactNumber': '03-8970054'}]\u001b[0m\n",
      "\n",
      "\u001b[1m> Finished chain.\u001b[0m\n",
      "Generated Cypher:\n",
      "\u001b[32;1m\u001b[1;3m\n",
      "MATCH (p:patient {Patient_ID: 123})-[:has]->(c:checkup)\n",
      "RETURN \n",
      "    p.Name AS PatientName,\n",
      "    c.Checkup_ID AS CheckupID, \n",
      "    c.Patient_ID AS PatientID, \n",
      "    c.Diagnosis AS Diagnosis, \n",
      "    c.Diagnosis_Condition AS DiagnosisCondition, \n",
      "    c.Treatment AS Treatment, \n",
      "    c.Medication AS Medication, \n",
      "    c.Dosage AS Dosage, \n",
      "    c.`Length_of_Stay (LOS)` AS Length_of_Stay, \n",
      "    c.Admission_Date AS AdmissionDate, \n",
      "    c.Discharge_Date AS DischargeDate,\n",
      "    c.Discharge_Condition AS DischargeCondition,\n",
      "    c.Room_Number AS RoomNumber;\n",
      "\u001b[0m\n",
      "Full Context:\n",
      "\u001b[32;1m\u001b[1;3m[{'PatientName': 'Yusof Abdullah', 'CheckupID': 252, 'PatientID': 123, 'Diagnosis': 'Fractured bone', 'DiagnosisCondition': 'Moderate', 'Treatment': 'Pain management', 'Medication': 'Paracetamol', 'Dosage': '50mg', 'Length_of_Stay': 5, 'AdmissionDate': '5/27/2024', 'DischargeDate': '6/1/2024', 'DischargeCondition': None, 'RoomNumber': 'D346'}, {'PatientName': 'Yusof Abdullah', 'CheckupID': 301, 'PatientID': 123, 'Diagnosis': 'Fractured bone', 'DiagnosisCondition': 'Moderate', 'Treatment': 'IV fluids', 'Medication': 'Citalopram', 'Dosage': '400mg', 'Length_of_Stay': None, 'AdmissionDate': '1/6/2024', 'DischargeDate': None, 'DischargeCondition': None, 'RoomNumber': 'C223'}]\u001b[0m\n",
      "\n",
      "\u001b[1m> Finished chain.\u001b[0m\n",
      "{'tools': {'messages': [ToolMessage(content='{\"query\": \"Find patient information and checkup details for patient ID 123.\", \"result\": \"The patient information for ID 123 is as follows: \\\\n\\\\n1. **Checkup ID**: 252\\\\n   - **Patient Name**: Yusof Abdullah\\\\n   - **Diagnosis**: Fractured bone\\\\n   - **Diagnosis Condition**: Moderate\\\\n   - **Treatment**: Pain management\\\\n   - **Medication**: Paracetamol\\\\n   - **Dosage**: 50mg\\\\n   - **Length of Stay**: 5 days\\\\n   - **Admission Date**: 5/27/2024\\\\n   - **Discharge Date**: 6/1/2024\\\\n   - **Room Number**: D346\\\\n\\\\n2. **Checkup ID**: 301\\\\n   - **Patient Name**: Yusof Abdullah\\\\n   - **Diagnosis**: Fractured bone\\\\n   - **Diagnosis Condition**: Moderate\\\\n   - **Treatment**: IV fluids\\\\n   - **Medication**: Citalopram\\\\n   - **Dosage**: 400mg\\\\n   - **Length of Stay**: Not specified\\\\n   - **Admission Date**: 1/6/2024\\\\n   - **Discharge Date**: Not specified\\\\n   - **Room Number**: C223\", \"intermediate_steps\": [{\"query\": \"\\\\nMATCH (p:patient {Patient_ID: 123})-[:has]->(c:checkup)\\\\nRETURN \\\\n    p.Name AS PatientName,\\\\n    c.Checkup_ID AS CheckupID, \\\\n    c.Patient_ID AS PatientID, \\\\n    c.Diagnosis AS Diagnosis, \\\\n    c.Diagnosis_Condition AS DiagnosisCondition, \\\\n    c.Treatment AS Treatment, \\\\n    c.Medication AS Medication, \\\\n    c.Dosage AS Dosage, \\\\n    c.`Length_of_Stay (LOS)` AS Length_of_Stay, \\\\n    c.Admission_Date AS AdmissionDate, \\\\n    c.Discharge_Date AS DischargeDate,\\\\n    c.Discharge_Condition AS DischargeCondition,\\\\n    c.Room_Number AS RoomNumber;\\\\n\"}, {\"context\": [{\"PatientName\": \"Yusof Abdullah\", \"CheckupID\": 252, \"PatientID\": 123, \"Diagnosis\": \"Fractured bone\", \"DiagnosisCondition\": \"Moderate\", \"Treatment\": \"Pain management\", \"Medication\": \"Paracetamol\", \"Dosage\": \"50mg\", \"Length_of_Stay\": 5, \"AdmissionDate\": \"5/27/2024\", \"DischargeDate\": \"6/1/2024\", \"DischargeCondition\": null, \"RoomNumber\": \"D346\"}, {\"PatientName\": \"Yusof Abdullah\", \"CheckupID\": 301, \"PatientID\": 123, \"Diagnosis\": \"Fractured bone\", \"DiagnosisCondition\": \"Moderate\", \"Treatment\": \"IV fluids\", \"Medication\": \"Citalopram\", \"Dosage\": \"400mg\", \"Length_of_Stay\": null, \"AdmissionDate\": \"1/6/2024\", \"DischargeDate\": null, \"DischargeCondition\": null, \"RoomNumber\": \"C223\"}]}]}', name='explore_patient', id='4c02a86a-cad4-44a4-938c-3b9945b1ec00', tool_call_id='call_psYQkyzXtX5dzxDYz69qfIc9'), ToolMessage(content='{\"query\": \"Find which physician attended the checkup for patient ID 123.\", \"result\": \"I don\\'t know the answer.\", \"intermediate_steps\": [{\"query\": \"\\\\nMATCH (p:patient {Patient_ID: 123})-[:has]->(c:checkup)<-[:attend]-(phy:physician)\\\\nRETURN phy.Physician_Name AS PhysicianName, \\\\n       phy.License_Number AS LicenseNumber, \\\\n       phy.Physician_Contact AS PhysicianContactNumber;\\\\n\"}, {\"context\": [{\"PhysicianName\": \"Dr. Gan Li Tee\", \"LicenseNumber\": 55202, \"PhysicianContactNumber\": \"03-6386655\"}, {\"PhysicianName\": \"Dr. Tan Siew Ling\", \"LicenseNumber\": 69654, \"PhysicianContactNumber\": \"03-8970054\"}]}]}', name='explore_hospital', id='cb791e9e-02c8-4249-a565-3adc809a0e18', tool_call_id='call_djcRFwal6wClzaoBds8VKGlD')]}}\n",
      "----\n"
     ]
    },
    {
     "name": "stderr",
     "output_type": "stream",
     "text": [
      "Error in RootListenersTracer.on_chain_end callback: KeyError('input')\n"
     ]
    },
    {
     "name": "stdout",
     "output_type": "stream",
     "text": [
      "{'agent': {'messages': [AIMessage(content='```\\n[**Thought**]\\nI have retrieved the patient information and checkup details for patient ID 123, as well as information about the physicians who attended the checkups.\\n[**Tool_used**:functions.explore_patient]\\n[**Response**]\\nThe patient information for ID 123 is as follows:\\n\\n1. **Checkup ID**: 252\\n   - **Patient Name**: Yusof Abdullah\\n   - **Diagnosis**: Fractured bone\\n   - **Diagnosis Condition**: Moderate\\n   - **Treatment**: Pain management\\n   - **Medication**: Paracetamol\\n   - **Dosage**: 50mg\\n   - **Length of Stay**: 5 days\\n   - **Admission Date**: 5/27/2024\\n   - **Discharge Date**: 6/1/2024\\n   - **Room Number**: D346\\n\\n2. **Checkup ID**: 301\\n   - **Patient Name**: Yusof Abdullah\\n   - **Diagnosis**: Fractured bone\\n   - **Diagnosis Condition**: Moderate\\n   - **Treatment**: IV fluids\\n   - **Medication**: Citalopram\\n   - **Dosage**: 400mg\\n   - **Length of Stay**: Not specified\\n   - **Admission Date**: 1/6/2024\\n   - **Discharge Date**: Not specified\\n   - **Room Number**: C223\\n\\nThe physicians who attended the checkups for patient ID 123 are:\\n- **Dr. Gan Li Tee**\\n  - License Number: 55202\\n  - Contact Number: 03-6386655\\n\\n- **Dr. Tan Siew Ling**\\n  - License Number: 69654\\n  - Contact Number: 03-8970054\\n```', additional_kwargs={'refusal': None}, response_metadata={'token_usage': {'completion_tokens': 386, 'prompt_tokens': 1267, 'total_tokens': 1653, 'completion_tokens_details': {'accepted_prediction_tokens': 0, 'audio_tokens': 0, 'reasoning_tokens': 0, 'rejected_prediction_tokens': 0}, 'prompt_tokens_details': {'audio_tokens': 0, 'cached_tokens': 0}}, 'model_name': 'gpt-4o-mini-2024-07-18', 'system_fingerprint': 'fp_0aa8d3e20b', 'finish_reason': 'stop', 'logprobs': None}, id='run-a62d1a29-ec31-4319-9dbf-c640abbc758e-0', usage_metadata={'input_tokens': 1267, 'output_tokens': 386, 'total_tokens': 1653, 'input_token_details': {'audio': 0, 'cache_read': 0}, 'output_token_details': {'audio': 0, 'reasoning': 0}})]}}\n",
      "----\n"
     ]
    },
    {
     "data": {
      "text/plain": [
       "'```\\n[**Thought**]\\nI have retrieved the patient information and checkup details for patient ID 123, as well as information about the physicians who attended the checkups.\\n[**Tool_used**:functions.explore_patient]\\n[**Response**]\\nThe patient information for ID 123 is as follows:\\n\\n1. **Checkup ID**: 252\\n   - **Patient Name**: Yusof Abdullah\\n   - **Diagnosis**: Fractured bone\\n   - **Diagnosis Condition**: Moderate\\n   - **Treatment**: Pain management\\n   - **Medication**: Paracetamol\\n   - **Dosage**: 50mg\\n   - **Length of Stay**: 5 days\\n   - **Admission Date**: 5/27/2024\\n   - **Discharge Date**: 6/1/2024\\n   - **Room Number**: D346\\n\\n2. **Checkup ID**: 301\\n   - **Patient Name**: Yusof Abdullah\\n   - **Diagnosis**: Fractured bone\\n   - **Diagnosis Condition**: Moderate\\n   - **Treatment**: IV fluids\\n   - **Medication**: Citalopram\\n   - **Dosage**: 400mg\\n   - **Length of Stay**: Not specified\\n   - **Admission Date**: 1/6/2024\\n   - **Discharge Date**: Not specified\\n   - **Room Number**: C223\\n\\nThe physicians who attended the checkups for patient ID 123 are:\\n- **Dr. Gan Li Tee**\\n  - License Number: 55202\\n  - Contact Number: 03-6386655\\n\\n- **Dr. Tan Siew Ling**\\n  - License Number: 69654\\n  - Contact Number: 03-8970054\\n```'"
      ]
     },
     "execution_count": 8,
     "metadata": {},
     "output_type": "execute_result"
    }
   ],
   "source": [
    "# user_input = \"which hospital offer specialisation in Neurology, Pediatrics and General Surgery?\"\n",
    "\n",
    "response_content = generate_response(query)\n",
    "\n",
    "# Print the final output\n",
    "response_content"
   ]
  }
 ],
 "metadata": {
  "language_info": {
   "name": "python"
  }
 },
 "nbformat": 4,
 "nbformat_minor": 2
}
