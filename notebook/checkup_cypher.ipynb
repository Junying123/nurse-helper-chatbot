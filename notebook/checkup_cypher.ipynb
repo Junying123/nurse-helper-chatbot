{
 "cells": [
  {
   "cell_type": "code",
   "execution_count": 1,
   "metadata": {},
   "outputs": [],
   "source": [
    "import os\n",
    "import sys\n",
    "\n",
    "\n",
    "os.chdir(\"/teamspace/studios/this_studio/nurse-helper-chatbot\")\n",
    "\n",
    "\n",
    "sys.path.append(os.getcwd())"
   ]
  },
  {
   "cell_type": "code",
   "execution_count": 2,
   "metadata": {},
   "outputs": [
    {
     "name": "stderr",
     "output_type": "stream",
     "text": [
      "/teamspace/studios/this_studio/nurse-helper-chatbot/graph.py:7: LangChainDeprecationWarning: The class `Neo4jGraph` was deprecated in LangChain 0.3.8 and will be removed in 1.0. An updated version of the class exists in the :class:`~langchain-neo4j package and should be used instead. To use it run `pip install -U :class:`~langchain-neo4j` and import as `from :class:`~langchain_neo4j import Neo4jGraph``.\n",
      "  graph = Neo4jGraph(\n"
     ]
    }
   ],
   "source": [
    "from llm import llm\n",
    "from graph import graph\n",
    "from langchain.chains import GraphCypherQAChain\n",
    "from langchain.prompts.prompt import PromptTemplate\n",
    "\n",
    "\n",
    "CYPHER_GENERATION_TEMPLATE = \"\"\"Task: Generate a Cypher statement to query a graph database.\n",
    "Instructions:\n",
    "- Use only the provided relationship types and properties in the schema.\n",
    "- Do not use any other relationship types or properties that are not provided.\n",
    "- Ensure that the generated Cypher statements are syntactically correct and relevant to the question.\n",
    "- Do not include any explanations or apologies in your responses.\n",
    "- Do not respond to any questions that might ask anything else than for you to construct a Cypher statement.\n",
    "- Do not include any text except the generated Cypher statement.\n",
    "\n",
    "Do not return entire nodes or embedding properties.\n",
    "\n",
    "Fine Tuning:\n",
    "\n",
    "Example Cypher Statements:\n",
    "\n",
    "1. To find checkup details for a patient Using Patient ID, Name, or Identity Number\n",
    "```\n",
    "MATCH (c:checkup)<-[:has]-(p:patient)\n",
    "WHERE p.Patient_ID = $patientId \n",
    "   OR p.Name = $patientName\n",
    "   OR p.Identity_number = $identityNumber\n",
    "RETURN c.Checkup_ID AS CheckupID, \n",
    "       c.Checkup_Status AS CheckupStatus, \n",
    "       c.Admission_Date AS AdmissionDate, \n",
    "       c.Discharge_Date AS DischargeDate,\n",
    "       c.`Length_of_Stay (LOS)` AS LengthofStay,\n",
    "       c.Discharge_Condition AS DischargeCondition, \n",
    "       c.Diagnosis AS Diagnosis, \n",
    "       c.Medication AS Medication, \n",
    "       c.Room_Number AS RoomNumber;\n",
    "```\n",
    "\n",
    "2. To find all checkups attended by a specific physician and which patient they belong to\n",
    "```\n",
    "MATCH (p:patient)-[:has]->(c:checkup)<-[:attend]-(ph:physician)\n",
    "WHERE ph.Physician_ID = $physicianId OR ph.Physician_Name = $physicianName\n",
    "RETURN c.Checkup_ID AS CheckupID, \n",
    "       c.Admission_Type AS AdmissionType, \n",
    "       c.Checkup_Status AS CheckupStatus, \n",
    "       c.Diagnosis AS Diagnosis, \n",
    "       c.Treatment AS Treatment, \n",
    "       c.Specialisation AS Specialisation, \n",
    "       c.Patient_ID AS PatientID, \n",
    "       c.Room_Number AS RoomNumber,\n",
    "       p.Name AS PatientName, \n",
    "       ph.Specialization AS PhysicianSpecialisation;\n",
    "```\n",
    "\n",
    "3. To find checkups conducted in a specific room with checkup and patient details\n",
    "```\n",
    "MATCH (p:patient)-[:has]->(c:checkup)\n",
    "WHERE c.Room_Number = \"A314\"\n",
    "RETURN c.Checkup_ID AS CheckupID, \n",
    "       c.Admission_Type AS AdmissionType, \n",
    "       c.Checkup_Status AS CheckupStatus, \n",
    "       c.Diagnosis AS Diagnosis, \n",
    "       c.Medication AS Medication,  \n",
    "       p.Identity_number AS IdentityNumber, \n",
    "       p.Name AS PatientName;\n",
    "```\n",
    "\n",
    "4. To find checkups for a specific physician based on valid test results or admission types with patient details\n",
    "```\n",
    "MATCH (p:patient)-[:has]->(c:checkup)<-[:attend]-(ph:physician)\n",
    "WHERE (c.Admission_Type IN [\"Emergency\", \"Urgent\", \"Elective\"] AND c.Admission_Type = $admissionType)\n",
    "   OR (c.Test_Results IN [\"Abnormal\", \"Normal\", \"Inconclusive\"] AND c.Test_Results = $testResults)\n",
    "   AND ph.Physician_Name = $physicianName\n",
    "RETURN c.Checkup_ID AS CheckupID, \n",
    "       c.Diagnosis AS Diagnosis, \n",
    "       c.Treatment AS Treatment, \n",
    "       c.Test_Results AS TestResults, \n",
    "       c.Admission_Type AS AdmissionType, \n",
    "       c.Medication AS Medication, \n",
    "       p.Name AS PatientName,  \n",
    "       ph.Physician_Name AS PhysicianName, \n",
    "       ph.Specialization AS Specialisation;\n",
    "\n",
    "\n",
    "Schema:\n",
    "{schema}\n",
    "\n",
    "Question:\n",
    "{question}\n",
    "\n",
    "Cypher Query:\n",
    "\"\"\"\n",
    "\n",
    "\n",
    "checkup_cypher_prompt = PromptTemplate.from_template(CYPHER_GENERATION_TEMPLATE)\n",
    "\n",
    "checkup_cypher_qa = GraphCypherQAChain.from_llm(\n",
    "    llm,\n",
    "    graph=graph,\n",
    "    return_intermediate_steps=True,\n",
    "    verbose=True,\n",
    "    allow_dangerous_requests=True,\n",
    "    validate_cypher=True,\n",
    "    function_response_system=\"Response based on the Cypher Query and context\",\n",
    "    cypher_prompt=checkup_cypher_prompt\n",
    ")"
   ]
  },
  {
   "cell_type": "code",
   "execution_count": 8,
   "metadata": {},
   "outputs": [
    {
     "name": "stdout",
     "output_type": "stream",
     "text": [
      "\n",
      "\n",
      "\u001b[1m> Entering new GraphCypherQAChain chain...\u001b[0m\n"
     ]
    },
    {
     "name": "stdout",
     "output_type": "stream",
     "text": [
      "Generated Cypher:\n",
      "\u001b[32;1m\u001b[1;3m\n",
      "MATCH (p:patient)-[:has]->(c:checkup)<-[:attend]-(ph:physician)\n",
      "WHERE ph.Physician_Name = \"Dr. Aisyah binti Kamaruddin\"\n",
      "RETURN c.Checkup_ID AS CheckupID, \n",
      "       c.Admission_Type AS AdmissionType, \n",
      "       c.Checkup_Status AS CheckupStatus, \n",
      "       c.Diagnosis AS Diagnosis, \n",
      "       c.Treatment AS Treatment, \n",
      "       c.Specialisation AS Specialisation, \n",
      "       p.Patient_ID AS PatientID, \n",
      "       p.Name AS PatientName;\n",
      "\u001b[0m\n",
      "Full Context:\n",
      "\u001b[32;1m\u001b[1;3m[{'CheckupID': 619, 'AdmissionType': 'Urgent', 'CheckupStatus': 'Open', 'Diagnosis': 'Cancer', 'Treatment': 'Antibiotic course', 'Specialisation': 'Oncology', 'PatientID': 386, 'PatientName': 'Lee Hwa Yan'}]\u001b[0m\n",
      "\n",
      "\u001b[1m> Finished chain.\u001b[0m\n"
     ]
    },
    {
     "data": {
      "text/plain": [
       "{'query': 'What checkups attended by Dr. Aisyah binti Kamaruddin include patient details?',\n",
       " 'result': \"I don't know the answer.\",\n",
       " 'intermediate_steps': [{'query': '\\nMATCH (p:patient)-[:has]->(c:checkup)<-[:attend]-(ph:physician)\\nWHERE ph.Physician_Name = \"Dr. Aisyah binti Kamaruddin\"\\nRETURN c.Checkup_ID AS CheckupID, \\n       c.Admission_Type AS AdmissionType, \\n       c.Checkup_Status AS CheckupStatus, \\n       c.Diagnosis AS Diagnosis, \\n       c.Treatment AS Treatment, \\n       c.Specialisation AS Specialisation, \\n       p.Patient_ID AS PatientID, \\n       p.Name AS PatientName;\\n'},\n",
       "  {'context': [{'CheckupID': 619,\n",
       "     'AdmissionType': 'Urgent',\n",
       "     'CheckupStatus': 'Open',\n",
       "     'Diagnosis': 'Cancer',\n",
       "     'Treatment': 'Antibiotic course',\n",
       "     'Specialisation': 'Oncology',\n",
       "     'PatientID': 386,\n",
       "     'PatientName': 'Lee Hwa Yan'}]}]}"
      ]
     },
     "execution_count": 8,
     "metadata": {},
     "output_type": "execute_result"
    }
   ],
   "source": [
    "# Example query to invoke the chain\n",
    "## What are the details of checkups conducted in room A314?, Show me the checkups performed in room A314 along with patient details.\n",
    "## What checkups attended by Dr. Aisyah binti Kamaruddin include patient details?, Show all checkups attended by the physician with ID 261.\n",
    "## What checkups has the patient with ID 321 undergone?, Show the checkups for the patient named Cheryl Lee.\n",
    "## Retrieve checkups for Dr. Ng Yee Siang that involve emergencies or abnormal test results., (not work sometime) What emergency checkups has Dr. Ng Yee Siang attended?, List abnormal test result checkups handled by Dr. Ng Yee Siang., \n",
    "\n",
    "query = \"What checkups attended by Dr. Aisyah binti Kamaruddin include patient details?\"\n",
    "\n",
    "# Invoke the chain with the complete input data\n",
    "response = checkup_cypher_qa.invoke(query)\n",
    "\n",
    "response"
   ]
  },
  {
   "cell_type": "code",
   "execution_count": 6,
   "metadata": {},
   "outputs": [
    {
     "name": "stdout",
     "output_type": "stream",
     "text": [
      "\n",
      "\n",
      "\u001b[1m> Entering new GraphCypherQAChain chain...\u001b[0m\n"
     ]
    },
    {
     "name": "stdout",
     "output_type": "stream",
     "text": [
      "Generated Cypher:\n",
      "\u001b[32;1m\u001b[1;3m\n",
      "MATCH (p:patient)-[:has]->(c:checkup)<-[:attend]-(ph:physician)\n",
      "WHERE (c.Admission_Type = \"Emergency\" OR c.Test_Results = \"Abnormal\")\n",
      "   AND ph.Physician_Name = \"Dr. Ng Yee Siang\"\n",
      "RETURN c.Checkup_ID AS CheckupID, \n",
      "       c.Admission_Type AS AdmissionType, \n",
      "       c.Checkup_Status AS CheckupStatus, \n",
      "       c.Diagnosis AS Diagnosis, \n",
      "       c.Treatment AS Treatment, \n",
      "       c.Test_Results AS TestResults, \n",
      "       c.Medication AS Medication, \n",
      "       p.Name AS PatientName,  \n",
      "       ph.Physician_Name AS PhysicianName, \n",
      "       ph.Specialization AS Specialisation;\n",
      "\u001b[0m\n",
      "Full Context:\n",
      "\u001b[32;1m\u001b[1;3m[{'CheckupID': 190, 'AdmissionType': 'Emergency', 'CheckupStatus': 'Open', 'Diagnosis': 'Arthritis', 'Treatment': 'IV fluids', 'TestResults': 'Inconclusive', 'Medication': 'Prednisone', 'PatientName': 'Faris Alif', 'PhysicianName': 'Dr. Ng Yee Siang', 'Specialisation': 'Orthopedics'}, {'CheckupID': 246, 'AdmissionType': 'Emergency', 'CheckupStatus': 'Open', 'Diagnosis': 'Back pain', 'Treatment': 'Blood pressure management', 'TestResults': 'Abnormal', 'Medication': 'Ceftriaxone', 'PatientName': 'Azizul Rahim', 'PhysicianName': 'Dr. Ng Yee Siang', 'Specialisation': 'Orthopedics'}, {'CheckupID': 399, 'AdmissionType': 'Emergency', 'CheckupStatus': 'Open', 'Diagnosis': 'Arthritis', 'Treatment': 'Surgery', 'TestResults': 'Normal', 'Medication': 'Methotrexate', 'PatientName': 'Mohd Isa', 'PhysicianName': 'Dr. Ng Yee Siang', 'Specialisation': 'Orthopedics'}]\u001b[0m\n",
      "\n",
      "\u001b[1m> Finished chain.\u001b[0m\n"
     ]
    },
    {
     "data": {
      "text/plain": [
       "{'query': 'Retrieve checkups for Dr. Ng Yee Siang that involve emergencies or abnormal test results.',\n",
       " 'result': 'CheckupID: 190, 246 for Dr. Ng Yee Siang involve emergencies or abnormal test results.',\n",
       " 'intermediate_steps': [{'query': '\\nMATCH (p:patient)-[:has]->(c:checkup)<-[:attend]-(ph:physician)\\nWHERE (c.Admission_Type = \"Emergency\" OR c.Test_Results = \"Abnormal\")\\n   AND ph.Physician_Name = \"Dr. Ng Yee Siang\"\\nRETURN c.Checkup_ID AS CheckupID, \\n       c.Admission_Type AS AdmissionType, \\n       c.Checkup_Status AS CheckupStatus, \\n       c.Diagnosis AS Diagnosis, \\n       c.Treatment AS Treatment, \\n       c.Test_Results AS TestResults, \\n       c.Medication AS Medication, \\n       p.Name AS PatientName,  \\n       ph.Physician_Name AS PhysicianName, \\n       ph.Specialization AS Specialisation;\\n'},\n",
       "  {'context': [{'CheckupID': 190,\n",
       "     'AdmissionType': 'Emergency',\n",
       "     'CheckupStatus': 'Open',\n",
       "     'Diagnosis': 'Arthritis',\n",
       "     'Treatment': 'IV fluids',\n",
       "     'TestResults': 'Inconclusive',\n",
       "     'Medication': 'Prednisone',\n",
       "     'PatientName': 'Faris Alif',\n",
       "     'PhysicianName': 'Dr. Ng Yee Siang',\n",
       "     'Specialisation': 'Orthopedics'},\n",
       "    {'CheckupID': 246,\n",
       "     'AdmissionType': 'Emergency',\n",
       "     'CheckupStatus': 'Open',\n",
       "     'Diagnosis': 'Back pain',\n",
       "     'Treatment': 'Blood pressure management',\n",
       "     'TestResults': 'Abnormal',\n",
       "     'Medication': 'Ceftriaxone',\n",
       "     'PatientName': 'Azizul Rahim',\n",
       "     'PhysicianName': 'Dr. Ng Yee Siang',\n",
       "     'Specialisation': 'Orthopedics'},\n",
       "    {'CheckupID': 399,\n",
       "     'AdmissionType': 'Emergency',\n",
       "     'CheckupStatus': 'Open',\n",
       "     'Diagnosis': 'Arthritis',\n",
       "     'Treatment': 'Surgery',\n",
       "     'TestResults': 'Normal',\n",
       "     'Medication': 'Methotrexate',\n",
       "     'PatientName': 'Mohd Isa',\n",
       "     'PhysicianName': 'Dr. Ng Yee Siang',\n",
       "     'Specialisation': 'Orthopedics'}]}]}"
      ]
     },
     "execution_count": 6,
     "metadata": {},
     "output_type": "execute_result"
    }
   ],
   "source": [
    "response = hospital_cypher_qa.invoke({\"query\": \"Retrieve checkups for Dr. Ng Yee Siang that involve emergencies or abnormal test results.\"})\n",
    "response"
   ]
  },
  {
   "cell_type": "code",
   "execution_count": 10,
   "metadata": {},
   "outputs": [
    {
     "name": "stdout",
     "output_type": "stream",
     "text": [
      "\n",
      "\n",
      "\u001b[1m> Entering new GraphCypherQAChain chain...\u001b[0m\n"
     ]
    },
    {
     "name": "stdout",
     "output_type": "stream",
     "text": [
      "Generated Cypher:\n",
      "\u001b[32;1m\u001b[1;3m\n",
      "MATCH (p:patient)-[:has]->(c:checkup)<-[:attend]-(ph:physician)\n",
      "WHERE (c.Admission_Type = \"Emergency\" OR c.Test_Results = \"Abnormal\")\n",
      "AND ph.Physician_Name = \"Dr. Ng Yee Siang\"\n",
      "RETURN c.Checkup_ID AS CheckupID, \n",
      "       c.Diagnosis AS Diagnosis, \n",
      "       c.Treatment AS Treatment, \n",
      "       c.Test_Results AS TestResults, \n",
      "       c.Admission_Type AS AdmissionType, \n",
      "       c.Medication AS Medication, \n",
      "       p.Name AS PatientName,  \n",
      "       ph.Physician_Name AS PhysicianName, \n",
      "       ph.Specialization AS Specialisation;\n",
      "\u001b[0m\n",
      "Full Context:\n",
      "\u001b[32;1m\u001b[1;3m[{'CheckupID': 190, 'Diagnosis': 'Arthritis', 'Treatment': 'IV fluids', 'TestResults': 'Inconclusive', 'AdmissionType': 'Emergency', 'Medication': 'Prednisone', 'PatientName': 'Faris Alif', 'PhysicianName': 'Dr. Ng Yee Siang', 'Specialisation': 'Orthopedics'}, {'CheckupID': 246, 'Diagnosis': 'Back pain', 'Treatment': 'Blood pressure management', 'TestResults': 'Abnormal', 'AdmissionType': 'Emergency', 'Medication': 'Ceftriaxone', 'PatientName': 'Azizul Rahim', 'PhysicianName': 'Dr. Ng Yee Siang', 'Specialisation': 'Orthopedics'}, {'CheckupID': 399, 'Diagnosis': 'Arthritis', 'Treatment': 'Surgery', 'TestResults': 'Normal', 'AdmissionType': 'Emergency', 'Medication': 'Methotrexate', 'PatientName': 'Mohd Isa', 'PhysicianName': 'Dr. Ng Yee Siang', 'Specialisation': 'Orthopedics'}]\u001b[0m\n",
      "\n",
      "\u001b[1m> Finished chain.\u001b[0m\n",
      "{'query': 'Retrieve checkups for Dr. Ng Yee Siang that involve emergencies or abnormal test results.', 'result': 'CheckupID: 190, CheckupID: 246, CheckupID: 399 for Dr. Ng Yee Siang involve emergencies or abnormal test results.', 'intermediate_steps': [{'query': '\\nMATCH (p:patient)-[:has]->(c:checkup)<-[:attend]-(ph:physician)\\nWHERE (c.Admission_Type = \"Emergency\" OR c.Test_Results = \"Abnormal\")\\nAND ph.Physician_Name = \"Dr. Ng Yee Siang\"\\nRETURN c.Checkup_ID AS CheckupID, \\n       c.Diagnosis AS Diagnosis, \\n       c.Treatment AS Treatment, \\n       c.Test_Results AS TestResults, \\n       c.Admission_Type AS AdmissionType, \\n       c.Medication AS Medication, \\n       p.Name AS PatientName,  \\n       ph.Physician_Name AS PhysicianName, \\n       ph.Specialization AS Specialisation;\\n'}, {'context': [{'CheckupID': 190, 'Diagnosis': 'Arthritis', 'Treatment': 'IV fluids', 'TestResults': 'Inconclusive', 'AdmissionType': 'Emergency', 'Medication': 'Prednisone', 'PatientName': 'Faris Alif', 'PhysicianName': 'Dr. Ng Yee Siang', 'Specialisation': 'Orthopedics'}, {'CheckupID': 246, 'Diagnosis': 'Back pain', 'Treatment': 'Blood pressure management', 'TestResults': 'Abnormal', 'AdmissionType': 'Emergency', 'Medication': 'Ceftriaxone', 'PatientName': 'Azizul Rahim', 'PhysicianName': 'Dr. Ng Yee Siang', 'Specialisation': 'Orthopedics'}, {'CheckupID': 399, 'Diagnosis': 'Arthritis', 'Treatment': 'Surgery', 'TestResults': 'Normal', 'AdmissionType': 'Emergency', 'Medication': 'Methotrexate', 'PatientName': 'Mohd Isa', 'PhysicianName': 'Dr. Ng Yee Siang', 'Specialisation': 'Orthopedics'}]}]}\n"
     ]
    }
   ],
   "source": [
    "from langchain.chains import SequentialChain\n",
    "from langchain_core.output_parsers import StrOutputParser\n",
    "# Initialize the output parser\n",
    "output_parser = StrOutputParser()\n",
    "\n",
    "query = \"Retrieve checkups for Dr. Ng Yee Siang that involve emergencies or abnormal test results.\"\n",
    "cypher_response = hospital_cypher_qa.invoke({\"query\": query})\n",
    "\n",
    "# Parse the output\n",
    "parsed_response = output_parser.parse(cypher_response)\n",
    "\n",
    "# Print the final response\n",
    "print(parsed_response)"
   ]
  },
  {
   "cell_type": "code",
   "execution_count": 11,
   "metadata": {},
   "outputs": [],
   "source": [
    "def format_cypher_output(response):\n",
    "    # Extracting the result and intermediate steps\n",
    "    result = response.get('result', 'No result found.')\n",
    "    intermediate_steps = response.get('intermediate_steps', [])\n",
    "\n",
    "    # Start building the output string\n",
    "    output_string = f\"Query: {response['query']}\\n\"\n",
    "    output_string += f\"Result: {result}\\n\\n\"\n",
    "    output_string += \"Details of Checkups:\\n\"\n",
    "\n",
    "    # Loop through the intermediate steps to extract context\n",
    "    for step in intermediate_steps:\n",
    "        context = step.get('context', [])\n",
    "        for checkup in context:\n",
    "            output_string += (\n",
    "                f\"Checkup ID: {checkup['CheckupID']}, \"\n",
    "                f\"Patient: {checkup['PatientName']}, \"\n",
    "                f\"Diagnosis: {checkup['Diagnosis']}, \"\n",
    "                f\"Treatment: {checkup['Treatment']}, \"\n",
    "                f\"Test Results: {checkup['TestResults']}, \"\n",
    "                f\"Admission Type: {checkup['AdmissionType']}, \"\n",
    "                f\"Medication: {checkup['Medication']}, \"\n",
    "                f\"Physician: {checkup['PhysicianName']}, \"\n",
    "                f\"Specialization: {checkup['Specialisation']}\\n\"\n",
    "            )\n",
    "\n",
    "    return output_string\n"
   ]
  },
  {
   "cell_type": "code",
   "execution_count": 12,
   "metadata": {},
   "outputs": [
    {
     "name": "stdout",
     "output_type": "stream",
     "text": [
      "Query: Retrieve checkups for Dr. Ng Yee Siang that involve emergencies or abnormal test results.\n",
      "Result: CheckupID: 190, 246 for Dr. Ng Yee Siang involve emergencies or abnormal test results.\n",
      "\n",
      "Details of Checkups:\n",
      "Checkup ID: 190, Patient: Faris Alif, Diagnosis: Arthritis, Treatment: IV fluids, Test Results: Inconclusive, Admission Type: Emergency, Medication: Prednisone, Physician: Dr. Ng Yee Siang, Specialization: Orthopedics\n",
      "Checkup ID: 246, Patient: Azizul Rahim, Diagnosis: Back pain, Treatment: Blood pressure management, Test Results: Abnormal, Admission Type: Emergency, Medication: Ceftriaxone, Physician: Dr. Ng Yee Siang, Specialization: Orthopedics\n",
      "Checkup ID: 399, Patient: Mohd Isa, Diagnosis: Arthritis, Treatment: Surgery, Test Results: Normal, Admission Type: Emergency, Medication: Methotrexate, Physician: Dr. Ng Yee Siang, Specialization: Orthopedics\n",
      "\n"
     ]
    }
   ],
   "source": [
    "# Assuming 'response' is the output you provided\n",
    "formatted_output = format_cypher_output(response)\n",
    "print(formatted_output)\n"
   ]
  }
 ],
 "metadata": {
  "language_info": {
   "name": "python"
  }
 },
 "nbformat": 4,
 "nbformat_minor": 2
}
