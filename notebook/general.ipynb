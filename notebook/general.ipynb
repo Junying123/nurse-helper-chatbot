{
 "cells": [
  {
   "cell_type": "code",
   "execution_count": 1,
   "metadata": {},
   "outputs": [],
   "source": [
    "import os\n",
    "import sys\n",
    "\n",
    "os.chdir(\"/teamspace/studios/this_studio/nurse-helper-chatbot\")\n",
    "\n",
    "sys.path.append(os.getcwd())"
   ]
  },
  {
   "cell_type": "code",
   "execution_count": 2,
   "metadata": {},
   "outputs": [
    {
     "name": "stderr",
     "output_type": "stream",
     "text": [
      "Python-dotenv could not parse statement starting at line 1\n",
      "Python-dotenv could not parse statement starting at line 10\n"
     ]
    }
   ],
   "source": [
    "# search.py\n",
    "import os\n",
    "from dotenv import load_dotenv\n",
    "from langchain_community.tools.tavily_search import TavilySearchResults\n",
    "\n",
    "# Load environment variables from .env file\n",
    "load_dotenv()\n",
    "\n",
    "def perform_tavily_search(query):\n",
    "    \"\"\"Perform a search using Tavily and return formatted results.\"\"\"\n",
    "    \n",
    "    # Get the API key from environment variables\n",
    "    tavily_api_key = os.getenv(\"TAVILY_API_KEY\")\n",
    "    \n",
    "    if not tavily_api_key:\n",
    "        raise ValueError(\"API key not found. Please set the TAVILY_API_KEY environment variable.\")\n",
    "    \n",
    "    try:\n",
    "        # Initialize the Tavily Search Tool\n",
    "        tavily_tool = TavilySearchResults(\n",
    "            api_key=tavily_api_key,\n",
    "            max_results=4,\n",
    "            search_depth=\"advanced\",\n",
    "            include_answer=True,\n",
    "            include_raw_content=True\n",
    "        )\n",
    "        \n",
    "        # Invoke the search tool with the query\n",
    "        response = tavily_tool.invoke({\"query\": query})\n",
    "        \n",
    "        # Prepare search output\n",
    "        if 'results' in response:\n",
    "            formatted_results = []\n",
    "            for result in response['results']:\n",
    "                formatted_results.append({\n",
    "                    'url': result.get('url', 'No URL available'),\n",
    "                    'content': result.get('content', 'No content available')\n",
    "                })\n",
    "            return formatted_results\n",
    "        else:\n",
    "            return []\n",
    "    \n",
    "    except Exception as e:\n",
    "        print(f\"An error occurred while performing the search: {e}\")\n",
    "        return []\n"
   ]
  },
  {
   "cell_type": "code",
   "execution_count": null,
   "metadata": {},
   "outputs": [],
   "source": [
    "    tavily_api_key = os.getenv(\"TAVILY_API_KEY\")\n",
    "    \n",
    "    if not tavily_api_key:\n",
    "        raise ValueError(\"API key not found. Please set the TAVILY_API_KEY environment variable.\")\n",
    "    \n",
    "    # Initialize the Tavily Search Tool\n",
    "    tavily_tool = TavilySearchResults(\n",
    "        api_key=tavily_api_key,\n",
    "        search_depth=\"advanced\",\n",
    "        include_answer=True,\n",
    "        include_raw_content=True\n",
    "    )\n",
    "    "
   ]
  },
  {
   "cell_type": "code",
   "execution_count": null,
   "metadata": {},
   "outputs": [],
   "source": [
    "    # Invoke the search tool with the query\n",
    "    response = tavily_tool.invoke({\"query\": \"What are the common side effects of opioids, and how can they be managed in patients?\"})"
   ]
  },
  {
   "cell_type": "code",
   "execution_count": null,
   "metadata": {},
   "outputs": [],
   "source": [
    "response"
   ]
  },
  {
   "cell_type": "code",
   "execution_count": 2,
   "metadata": {},
   "outputs": [],
   "source": [
    "from langchain_core.prompts import ChatPromptTemplate\n",
    "from langchain_core.output_parsers import StrOutputParser\n",
    "from llm import llm  \n",
    "import os\n",
    "from dotenv import load_dotenv\n",
    "from langchain_community.tools.tavily_search import TavilySearchResults\n",
    "# Get the API key from environment variables\n",
    "\n",
    "tavily_api_key = os.getenv(\"TAVILY_API_KEY\")\n",
    "    \n",
    "if not tavily_api_key:\n",
    "        raise ValueError(\"API key not found. Please set the TAVILY_API_KEY environment variable.\")\n",
    "    \n",
    "    \n",
    "# Initialize the Tavily Search Tool\n",
    "tavily_tool = TavilySearchResults(\n",
    "            max_results=4,\n",
    "            search_depth=\"advanced\",\n",
    "            include_answer=True,\n",
    "            include_images=True,\n",
    "            include_raw_content=True\n",
    "    )\n",
    "\n",
    "response = tavily_tool.invoke({\"query\": \"What are the common side effects of opioids, and how can they be managed in patients?\"})\n"
   ]
  },
  {
   "cell_type": "code",
   "execution_count": 3,
   "metadata": {},
   "outputs": [],
   "source": [
    "    response = tavily_tool.invoke({\"query\": \"What are the common side effects of opioids, and how can they be managed in patients?\"})"
   ]
  },
  {
   "cell_type": "code",
   "execution_count": 4,
   "metadata": {},
   "outputs": [
    {
     "data": {
      "text/plain": [
       "[{'url': 'https://fpm.ac.uk/opioids-aware-clinical-use-opioids/side-effects-opioids',\n",
       "  'content': 'Most common side effects are predictable consequences of opioid pharmacological actions and include nausea, vomiting, constipation, pruritus, dizziness, dry'},\n",
       " {'url': 'https://my.clevelandclinic.org/health/drugs/21127-opioids',\n",
       "  'content': 'Common side effects of opioids include:\\nUncommon side effects of opioids include:\\nWhat are the long-term effects of opioids?\\nLong-term side effects from chronic opioid use include:\\nWhat’s known about opioids and overdose?\\n If you misuse opioids and stop or cut back on these drugs after heavy use for a few weeks or more, you’ll likely have withdrawal symptoms, including:\\nThe severity of withdrawal symptoms varies from person to person and based on how long you’ve been taking the opioid and the type of opioid.\\n If you take any of the following prescribed opioids (or any other opioid), talk to your provider about switching to a safer medication:\\nHow long do opioids stay in your system?\\n Overview\\nWhat are opioids?\\nOpioids (sometimes called narcotics) are a class of drugs that are chemicals — natural or synthetic — that interact with nerve cells that have the potential to reduce pain. Helpful tips include:\\nIf you feel that you’re dependent on opioids or your prescribed dosage isn’t helping you manage your symptoms, do not take more than your recommended dosage and talk with your healthcare provider immediately.\\n'},\n",
       " {'url': 'https://www.aafp.org/pubs/afp/issues/2006/1015/p1347.html',\n",
       "  'content': 'One concept to reduce the adverse effects of opioids is the use of very small doses of opioid antagonists.25–28 The rationale is that agents such as naloxone (Narcan) have a biphasic effect whereby very low doses reduce the incidence of opioid adverse effects and may augment the analgesic effect.25,28 Much of the data are limited to the inpatient setting with intravenous administration of the opioid antagonist.25–27 Concomitant administration of intravenous naloxone with morphine infusions has been studied, but the results have been mixed.25–27 More research is needed before this treatment is implemented as part of routine practice.\\n Sex, race, and increasing age are all factors shown to influence the development of adverse effects.4 Reductions in renal function associated with aging may lead to accumulation of opioids and their metabolites.5 To reduce the risk of developing adverse effects, downward dose adjustments or prolonging the opioid interval should be anticipated for persons older than 70 years.1,5 Nausea and vomiting are less likely to occur in men than in women and are less likely in whites than in blacks.4,6 patients.3 A recent Cochrane review evaluated the use of medications for treating terminally ill patients with delirium.32 Only one study of terminal patients with acquired immunodeficiency syndrome met the criteria for the Cochrane review.33 Haloperidol and chlorpromazine (Thorazine) were found to be effective in treating delirium in this population.32,33 Low doses of haloperidol often are used first because of its effectiveness and low incidence of cardiovascular and anticholinergic effects.3,10,31\\nBenzodiazepines have been used with antipsychotics when severe agitation is present.3 Addition of nonopioid analgesics, use of adjuvant agents (e.g., tricyclic antidepressants), or treatments directed toward the source of pain are all options for providing a synergistic approach to pain management.3\\nOpioids have subtle differences in binding to the mu, kappa, and sigma receptors; the clinical effects can vary from one agent to another.7,8 Opioid rotation is a concept in which one opioid is exchanged for another to improve pain control or manage certain adverse effects. The EAPC working group identified four general approaches to consider when encountering adverse effects caused by opioids: dose reduction of systemic opioid, symptomatic management of the adverse effect, opioid rotation, and switching the route of systemic administration.3\\nIf pain is well controlled, small reductions in the dose of opioid may help resolve the adverse effect while maintaining pain control.3'},\n",
       " {'url': 'https://www.psychiatry.org/patients-families/opioid-use-disorder',\n",
       "  'content': 'Opioids reduce the perception of pain, and can also cause drowsiness, confusion, euphoria, nausea and constipation. At high doses they can slow breathing which'}]"
      ]
     },
     "execution_count": 4,
     "metadata": {},
     "output_type": "execute_result"
    }
   ],
   "source": [
    "response"
   ]
  },
  {
   "cell_type": "code",
   "execution_count": null,
   "metadata": {},
   "outputs": [],
   "source": [
    "# general.py\n",
    "\n",
    "from langchain_core.prompts import ChatPromptTemplate\n",
    "from langchain_core.output_parsers import StrOutputParser\n",
    "from llm import llm  \n",
    "import os\n",
    "from dotenv import load_dotenv\n",
    "from langchain_community.tools.tavily_search import TavilySearchResults\n",
    "\n",
    "\n",
    "chat_prompt = ChatPromptTemplate.from_messages(\n",
    "    [\n",
    "        (\n",
    "            \"system\",\n",
    "            \"You are an expert nursing assistant specializing in providing comprehensive knowledge and guidance to support nurses in their daily responsibilities. Your expertise covers various essential domains of nursing practice, including:\"\n",
    "            \"\\n\\n- **Medication Management:**\"\n",
    "            \"\\n  - Provide insights into pharmacology, including mechanisms of action, side effects, and drug interactions.\"\n",
    "            \"\\n  - Offer guidance on safe administration protocols, including correct routes (oral, intravenous, subcutaneous, etc.) and dosage adjustments.\"\n",
    "            \"\\n  - Share best practices for medication safety, emphasizing adherence to the '5 Rights' of medication administration (right patient, right medication, right dose, right route, and right time).\"\n",
    "            \"\\n  - Explain processes for effectively managing prescriptions.\"\n",
    "            \n",
    "            \"\\n\\n- **Nutrition:**\"\n",
    "            \"\\n  - Offer guidance on nutritional practices to enhance patient health and recovery.\"\n",
    "            \"\\n  - Provide dietary advice for managing chronic conditions (e.g., diabetes, heart disease) and promoting wound healing after surgery.\"\n",
    "            \"\\n  - Suggest practical strategies for educating patients on adopting and maintaining healthy eating habits.\"\n",
    "            \n",
    "            \"\\n\\n- **Administrative Tasks:**\"\n",
    "            \"\\n  - Assist with documentation best practices and understanding regulatory compliance.\"\n",
    "            \"\\n  - Emphasize the importance of maintaining accurate patient records.\"\n",
    "            \n",
    "            \"\\n\\n- **Technology and Devices:**\"\n",
    "            \"\\n  - Guide the use of medical equipment and electronic health records (EHR) to improve efficiency and patient care.\"\n",
    "            \n",
    "            \"\\n\\n- **Communication Skills:**\"\n",
    "            \"\\n  - Enhance interdisciplinary collaboration by providing clear, empathetic, and effective communication strategies.\"\n",
    "            \n",
    "            \"\\n\\n- **Emergency Response Knowledge:**\"\n",
    "            \"\\n  - Support crisis management by outlining protocols for recognizing patient deterioration and initiating appropriate interventions.\"\n",
    "            \n",
    "            \"\\n\\n**Response Guidelines:**\"\n",
    "            \"\\n- Ensure that responses are accurate, evidence-based, and practical.\"\n",
    "            \"\\n- Maintain clarity and professionalism in all communications.\"\n",
    "            \"\\n- Avoid offering medical diagnoses or treatment plans; focus instead on empowering users with educational and actionable insights related to nursing and its interdisciplinary subfields.\"\n",
    "        ),\n",
    "        (\"human\", \"{input}\"),\n",
    "    ]\n",
    ")\n",
    "\n",
    "# Combine chat prompt with LLM\n",
    "nurse_chat = chat_prompt | llm | StrOutputParser()\n",
    "\n",
    "    \n",
    "# Get the API key from environment variables\n",
    "tavily_api_key = os.getenv(\"TAVILY_API_KEY\")\n",
    "    \n",
    "if not tavily_api_key:\n",
    "        raise ValueError(\"API key not found. Please set the TAVILY_API_KEY environment variable.\")\n",
    "    \n",
    "    \n",
    "# Initialize the Tavily Search Tool\n",
    "tavily_tool = TavilySearchResults(\n",
    "            max_results=4,\n",
    "            search_depth=\"advanced\",\n",
    "            include_answer=True,\n",
    "            include_images=True,\n",
    "            include_raw_content=True\n",
    "    )\n",
    "         \n",
    "# Function to format search results\n",
    "def format_search_results(results):\n",
    "    formatted_output = \"\\n\"\n",
    "    for i, result in enumerate(results):\n",
    "        formatted_output += f\"{i + 1}. **URL:** {result['url']}\\n\"\n",
    "        formatted_output += f\"   **Content:** {result['content']}\\n\\n\"  # Print full content\n",
    "    return formatted_output\n",
    "\n",
    "\n",
    "\n",
    "def prompt_response(user_input):\n",
    "    \"\"\"Invoke both nurse chat model and Tavily Search tool, returning a combined response.\"\"\"\n",
    "    \n",
    "    try:\n",
    "        \n",
    "        nurse_response = nurse_chat.invoke({\"input\": user_input})\n",
    "\n",
    "        search_results = tavily_tool.invoke({\"query\": user_input})\n",
    "        \n",
    "        print(\"Response:\", nurse_response)\n",
    "\n",
    "        formatted_results = format_search_results(search_results)\n",
    "        print(\"\\nSearch_result:\", formatted_results)\n",
    "        \n",
    "    \n",
    "    except Exception as e:\n",
    "        return f\"An error occurred while processing your request: {e}\"\n"
   ]
  },
  {
   "cell_type": "code",
   "execution_count": null,
   "metadata": {},
   "outputs": [],
   "source": [
    "# What nutritional advice should I give to patients recovering from surgery to promote healing?\n",
    "# What are the common side effects of opioids, and how can they be managed in patients?\n",
    "user_input = \"What nutritional advice should I give to patients recovering from surgery to promote healing?\"\n",
    "response = prompt_response(user_input)\n",
    "\n",
    "print(response)"
   ]
  }
 ],
 "metadata": {
  "language_info": {
   "name": "python"
  }
 },
 "nbformat": 4,
 "nbformat_minor": 2
}
