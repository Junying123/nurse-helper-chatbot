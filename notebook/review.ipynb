{
 "cells": [
  {
   "cell_type": "code",
   "execution_count": 2,
   "metadata": {},
   "outputs": [],
   "source": [
    "import os\n",
    "import sys\n",
    "\n",
    "\n",
    "os.chdir(\"/teamspace/studios/this_studio/nurse-helper-chatbot\")\n",
    "\n",
    "\n",
    "sys.path.append(os.getcwd())"
   ]
  },
  {
   "cell_type": "code",
   "execution_count": 35,
   "metadata": {},
   "outputs": [],
   "source": [
    "import streamlit as st\n",
    "from llm import llm, embeddings\n",
    "from graph import graph\n",
    "from langchain_community.vectorstores.neo4j_vector import Neo4jVector\n",
    "from langchain.chains.combine_documents import create_stuff_documents_chain\n",
    "from langchain.chains import create_retrieval_chain\n",
    "from langchain_core.prompts import ChatPromptTemplate\n",
    "\n",
    "\n",
    "neo4jvector = Neo4jVector.from_existing_index(\n",
    "    embedding=embeddings,\n",
    "    index_name=\"reviewEmbeddingIndex\",\n",
    "    node_label=\"review\",\n",
    "    text_node_property=\"Review\",\n",
    "    embedding_node_property=\"embedding\",   \n",
    ")\n",
    "\n",
    "\n",
    "retriever = neo4jvector.as_retriever(k=12)\n",
    "\n",
    "\n",
    "\n",
    "instructions = (\n",
    "    \"Your job is to use patient reviews to answer questions about their experience at a hospital. Use the following context to answer questions. Be as detailed as possible, but don't make up any information that's not from the context. If you don't know an answer, say you don't know.\"\n",
    "    \"If you don't know the answer, say you don't know.\"\n",
    "    \"Context: {context}\"\n",
    ")\n",
    "\n",
    "prompt = ChatPromptTemplate.from_messages(\n",
    "    [\n",
    "        (\"system\", instructions),\n",
    "        (\"human\", \"{input}\"),\n",
    "    ]\n",
    ")\n",
    "\n",
    "\n",
    "\n",
    "question_answer_chain = create_stuff_documents_chain(llm, prompt)\n",
    "review_retriever = create_retrieval_chain(\n",
    "    retriever, \n",
    "    question_answer_chain\n",
    ")\n",
    "\n",
    "\n",
    "\n",
    "def get_review(input):\n",
    "    return review_retriever.invoke({\"input\": input})\n"
   ]
  },
  {
   "cell_type": "code",
   "execution_count": 34,
   "metadata": {},
   "outputs": [
    {
     "name": "stdout",
     "output_type": "stream",
     "text": [
      "Review Result: {'input': \"How's the review of foods or cafeteria of hospitals?\", 'context': [Document(metadata={'Hospital_ID': 8, 'Patient_ID': 162, 'Checkup_ID': 259, 'Review_ID': 186}, page_content='I received outstanding care from the hospital staff. The facilities were state-of-the-art, but the cafeteria options were limited.'), Document(metadata={'Hospital_ID': 13, 'Patient_ID': 366, 'Checkup_ID': 254, 'Review_ID': 127}, page_content='The medical staff was efficient, and the hospital rooms were clean and comfortable. On the downside, the cafeteria food was bland, and the menu was repetitive.'), Document(metadata={'Hospital_ID': 9, 'Patient_ID': 423, 'Checkup_ID': 298, 'Review_ID': 115}, page_content='I had a positive experience overall at the hospital. The medical staff was skilled, and the facilities were modern. The only downside was the limited menu in the cafeteria.'), Document(metadata={'Hospital_ID': 6, 'Patient_ID': 613, 'Checkup_ID': 504, 'Review_ID': 230}, page_content='The cafeteria offered a good selection of healthy and fresh food options. Despite some challenges, the staff demonstrated a commitment to care.')], 'answer': 'The review of the hospital cafeteria presents a mixed experience. While some comments indicate that there were good selections of healthy and fresh food options, there were also criticisms regarding the cafeteria food being bland and the menu being repetitive. Additionally, it was noted that the cafeteria options were limited overall. So, while there are some positive aspects, the general sentiment points to dissatisfaction with the variety and taste of the food.'}\n"
     ]
    }
   ],
   "source": [
    "# Example input question\n",
    "input_question = \"How's the review of foods or cafeteria of hospitals?\"\n",
    "\n",
    "# Get the review result\n",
    "result = get_review(input_question)\n",
    "\n",
    "# Display the result\n",
    "print(\"Review Result:\", result)"
   ]
  },
  {
   "cell_type": "markdown",
   "metadata": {},
   "source": [
    "Creating Index pls dont run it"
   ]
  },
  {
   "cell_type": "code",
   "execution_count": 28,
   "metadata": {},
   "outputs": [],
   "source": [
    "db = Neo4jVector.from_existing_graph(\n",
    "    embedding=embeddings,\n",
    "    index_name=\"reviewEmbeddingIndex\",\n",
    "    node_label=\"review\",\n",
    "    text_node_properties=[\"Review\"],\n",
    "    embedding_node_property=\"embedding\",\n",
    ")"
   ]
  },
  {
   "cell_type": "code",
   "execution_count": 27,
   "metadata": {},
   "outputs": [
    {
     "name": "stdout",
     "output_type": "stream",
     "text": [
      "Review Result: {'input': \"How's the review of foods or cafeteria of hospitals?\", 'context': [], 'answer': \"I don't know.\"}\n"
     ]
    }
   ],
   "source": [
    "# Example input question\n",
    "input_question = \"How's the review of foods or cafeteria of hospitals?\"\n",
    "\n",
    "# Get the review result\n",
    "result = get_review(input_question)\n",
    "\n",
    "# Display the result\n",
    "print(\"Review Result:\", result)"
   ]
  }
 ],
 "metadata": {
  "language_info": {
   "name": "python"
  }
 },
 "nbformat": 4,
 "nbformat_minor": 2
}
