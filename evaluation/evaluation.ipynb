{
 "cells": [
  {
   "cell_type": "code",
   "execution_count": 1,
   "metadata": {},
   "outputs": [],
   "source": [
    "import os\n",
    "import sys\n",
    "\n",
    "\n",
    "os.chdir(\"/teamspace/studios/this_studio/nurse-helper-chatbot\")\n",
    "\n",
    "\n",
    "sys.path.append(os.getcwd())"
   ]
  },
  {
   "cell_type": "code",
   "execution_count": 2,
   "metadata": {},
   "outputs": [
    {
     "name": "stdout",
     "output_type": "stream",
     "text": [
      "Requirement already satisfied: pandas in /system/conda/miniconda3/envs/cloudspace/lib/python3.10/site-packages (2.1.4)\n",
      "Requirement already satisfied: ragas in /system/conda/miniconda3/envs/cloudspace/lib/python3.10/site-packages (0.2.10)\n",
      "Requirement already satisfied: numpy<2,>=1.22.4 in /system/conda/miniconda3/envs/cloudspace/lib/python3.10/site-packages (from pandas) (1.26.4)\n",
      "Requirement already satisfied: python-dateutil>=2.8.2 in /system/conda/miniconda3/envs/cloudspace/lib/python3.10/site-packages (from pandas) (2.9.0.post0)\n",
      "Requirement already satisfied: pytz>=2020.1 in /system/conda/miniconda3/envs/cloudspace/lib/python3.10/site-packages (from pandas) (2024.1)\n",
      "Requirement already satisfied: tzdata>=2022.1 in /system/conda/miniconda3/envs/cloudspace/lib/python3.10/site-packages (from pandas) (2024.1)\n",
      "Requirement already satisfied: datasets in /system/conda/miniconda3/envs/cloudspace/lib/python3.10/site-packages (from ragas) (3.2.0)\n",
      "Requirement already satisfied: tiktoken in /system/conda/miniconda3/envs/cloudspace/lib/python3.10/site-packages (from ragas) (0.7.0)\n",
      "Requirement already satisfied: langchain in /system/conda/miniconda3/envs/cloudspace/lib/python3.10/site-packages (from ragas) (0.3.14)\n",
      "Requirement already satisfied: langchain-core in /system/conda/miniconda3/envs/cloudspace/lib/python3.10/site-packages (from ragas) (0.3.29)\n",
      "Requirement already satisfied: langchain-community in /system/conda/miniconda3/envs/cloudspace/lib/python3.10/site-packages (from ragas) (0.3.14)\n",
      "Requirement already satisfied: langchain_openai in /system/conda/miniconda3/envs/cloudspace/lib/python3.10/site-packages (from ragas) (0.2.14)\n",
      "Requirement already satisfied: nest-asyncio in /system/conda/miniconda3/envs/cloudspace/lib/python3.10/site-packages (from ragas) (1.6.0)\n",
      "Requirement already satisfied: appdirs in /system/conda/miniconda3/envs/cloudspace/lib/python3.10/site-packages (from ragas) (1.4.4)\n",
      "Requirement already satisfied: pydantic>=2 in /system/conda/miniconda3/envs/cloudspace/lib/python3.10/site-packages (from ragas) (2.10.3)\n",
      "Requirement already satisfied: openai>1 in /system/conda/miniconda3/envs/cloudspace/lib/python3.10/site-packages (from ragas) (1.58.1)\n",
      "Requirement already satisfied: pysbd>=0.3.4 in /system/conda/miniconda3/envs/cloudspace/lib/python3.10/site-packages (from ragas) (0.3.4)\n",
      "Requirement already satisfied: diskcache>=5.6.3 in /system/conda/miniconda3/envs/cloudspace/lib/python3.10/site-packages (from ragas) (5.6.3)\n",
      "Requirement already satisfied: anyio<5,>=3.5.0 in /system/conda/miniconda3/envs/cloudspace/lib/python3.10/site-packages (from openai>1->ragas) (4.4.0)\n",
      "Requirement already satisfied: distro<2,>=1.7.0 in /system/conda/miniconda3/envs/cloudspace/lib/python3.10/site-packages (from openai>1->ragas) (1.9.0)\n",
      "Requirement already satisfied: httpx<1,>=0.23.0 in /system/conda/miniconda3/envs/cloudspace/lib/python3.10/site-packages (from openai>1->ragas) (0.27.0)\n",
      "Requirement already satisfied: jiter<1,>=0.4.0 in /system/conda/miniconda3/envs/cloudspace/lib/python3.10/site-packages (from openai>1->ragas) (0.8.0)\n",
      "Requirement already satisfied: sniffio in /system/conda/miniconda3/envs/cloudspace/lib/python3.10/site-packages (from openai>1->ragas) (1.3.1)\n",
      "Requirement already satisfied: tqdm>4 in /system/conda/miniconda3/envs/cloudspace/lib/python3.10/site-packages (from openai>1->ragas) (4.66.4)\n",
      "Requirement already satisfied: typing-extensions<5,>=4.11 in /system/conda/miniconda3/envs/cloudspace/lib/python3.10/site-packages (from openai>1->ragas) (4.12.2)\n",
      "Requirement already satisfied: annotated-types>=0.6.0 in /system/conda/miniconda3/envs/cloudspace/lib/python3.10/site-packages (from pydantic>=2->ragas) (0.7.0)\n",
      "Requirement already satisfied: pydantic-core==2.27.1 in /system/conda/miniconda3/envs/cloudspace/lib/python3.10/site-packages (from pydantic>=2->ragas) (2.27.1)\n",
      "Requirement already satisfied: six>=1.5 in /system/conda/miniconda3/envs/cloudspace/lib/python3.10/site-packages (from python-dateutil>=2.8.2->pandas) (1.16.0)\n",
      "Requirement already satisfied: filelock in /system/conda/miniconda3/envs/cloudspace/lib/python3.10/site-packages (from datasets->ragas) (3.15.4)\n",
      "Requirement already satisfied: pyarrow>=15.0.0 in /system/conda/miniconda3/envs/cloudspace/lib/python3.10/site-packages (from datasets->ragas) (16.1.0)\n",
      "Requirement already satisfied: dill<0.3.9,>=0.3.0 in /system/conda/miniconda3/envs/cloudspace/lib/python3.10/site-packages (from datasets->ragas) (0.3.8)\n",
      "Requirement already satisfied: requests>=2.32.2 in /system/conda/miniconda3/envs/cloudspace/lib/python3.10/site-packages (from datasets->ragas) (2.32.3)\n",
      "Requirement already satisfied: xxhash in /system/conda/miniconda3/envs/cloudspace/lib/python3.10/site-packages (from datasets->ragas) (3.5.0)\n",
      "Requirement already satisfied: multiprocess<0.70.17 in /system/conda/miniconda3/envs/cloudspace/lib/python3.10/site-packages (from datasets->ragas) (0.70.16)\n",
      "Requirement already satisfied: fsspec<=2024.9.0,>=2023.1.0 in /system/conda/miniconda3/envs/cloudspace/lib/python3.10/site-packages (from fsspec[http]<=2024.9.0,>=2023.1.0->datasets->ragas) (2024.6.1)\n",
      "Requirement already satisfied: aiohttp in /system/conda/miniconda3/envs/cloudspace/lib/python3.10/site-packages (from datasets->ragas) (3.9.5)\n",
      "Requirement already satisfied: huggingface-hub>=0.23.0 in /system/conda/miniconda3/envs/cloudspace/lib/python3.10/site-packages (from datasets->ragas) (0.24.5)\n",
      "Requirement already satisfied: packaging in /system/conda/miniconda3/envs/cloudspace/lib/python3.10/site-packages (from datasets->ragas) (23.2)\n",
      "Requirement already satisfied: pyyaml>=5.1 in /system/conda/miniconda3/envs/cloudspace/lib/python3.10/site-packages (from datasets->ragas) (6.0.1)\n",
      "Requirement already satisfied: SQLAlchemy<3,>=1.4 in /system/conda/miniconda3/envs/cloudspace/lib/python3.10/site-packages (from langchain->ragas) (2.0.32)\n",
      "Requirement already satisfied: async-timeout<5.0.0,>=4.0.0 in /system/conda/miniconda3/envs/cloudspace/lib/python3.10/site-packages (from langchain->ragas) (4.0.3)\n",
      "Requirement already satisfied: langchain-text-splitters<0.4.0,>=0.3.3 in /system/conda/miniconda3/envs/cloudspace/lib/python3.10/site-packages (from langchain->ragas) (0.3.4)\n",
      "Requirement already satisfied: langsmith<0.3,>=0.1.17 in /system/conda/miniconda3/envs/cloudspace/lib/python3.10/site-packages (from langchain->ragas) (0.1.147)\n",
      "Requirement already satisfied: tenacity!=8.4.0,<10,>=8.1.0 in /system/conda/miniconda3/envs/cloudspace/lib/python3.10/site-packages (from langchain->ragas) (8.5.0)\n",
      "Requirement already satisfied: jsonpatch<2.0,>=1.33 in /system/conda/miniconda3/envs/cloudspace/lib/python3.10/site-packages (from langchain-core->ragas) (1.33)\n",
      "Requirement already satisfied: dataclasses-json<0.7,>=0.5.7 in /system/conda/miniconda3/envs/cloudspace/lib/python3.10/site-packages (from langchain-community->ragas) (0.6.7)\n",
      "Requirement already satisfied: httpx-sse<0.5.0,>=0.4.0 in /system/conda/miniconda3/envs/cloudspace/lib/python3.10/site-packages (from langchain-community->ragas) (0.4.0)\n",
      "Requirement already satisfied: pydantic-settings<3.0.0,>=2.4.0 in /system/conda/miniconda3/envs/cloudspace/lib/python3.10/site-packages (from langchain-community->ragas) (2.7.1)\n",
      "Requirement already satisfied: regex>=2022.1.18 in /system/conda/miniconda3/envs/cloudspace/lib/python3.10/site-packages (from tiktoken->ragas) (2024.7.24)\n",
      "Requirement already satisfied: aiosignal>=1.1.2 in /system/conda/miniconda3/envs/cloudspace/lib/python3.10/site-packages (from aiohttp->datasets->ragas) (1.3.1)\n",
      "Requirement already satisfied: attrs>=17.3.0 in /system/conda/miniconda3/envs/cloudspace/lib/python3.10/site-packages (from aiohttp->datasets->ragas) (23.2.0)\n",
      "Requirement already satisfied: frozenlist>=1.1.1 in /system/conda/miniconda3/envs/cloudspace/lib/python3.10/site-packages (from aiohttp->datasets->ragas) (1.4.1)\n",
      "Requirement already satisfied: multidict<7.0,>=4.5 in /system/conda/miniconda3/envs/cloudspace/lib/python3.10/site-packages (from aiohttp->datasets->ragas) (6.0.5)\n",
      "Requirement already satisfied: yarl<2.0,>=1.0 in /system/conda/miniconda3/envs/cloudspace/lib/python3.10/site-packages (from aiohttp->datasets->ragas) (1.9.4)\n",
      "Requirement already satisfied: idna>=2.8 in /system/conda/miniconda3/envs/cloudspace/lib/python3.10/site-packages (from anyio<5,>=3.5.0->openai>1->ragas) (3.7)\n",
      "Requirement already satisfied: exceptiongroup>=1.0.2 in /system/conda/miniconda3/envs/cloudspace/lib/python3.10/site-packages (from anyio<5,>=3.5.0->openai>1->ragas) (1.2.1)\n",
      "Requirement already satisfied: marshmallow<4.0.0,>=3.18.0 in /system/conda/miniconda3/envs/cloudspace/lib/python3.10/site-packages (from dataclasses-json<0.7,>=0.5.7->langchain-community->ragas) (3.21.3)\n",
      "Requirement already satisfied: typing-inspect<1,>=0.4.0 in /system/conda/miniconda3/envs/cloudspace/lib/python3.10/site-packages (from dataclasses-json<0.7,>=0.5.7->langchain-community->ragas) (0.9.0)\n",
      "Requirement already satisfied: certifi in /system/conda/miniconda3/envs/cloudspace/lib/python3.10/site-packages (from httpx<1,>=0.23.0->openai>1->ragas) (2024.7.4)\n",
      "Requirement already satisfied: httpcore==1.* in /system/conda/miniconda3/envs/cloudspace/lib/python3.10/site-packages (from httpx<1,>=0.23.0->openai>1->ragas) (1.0.5)\n",
      "Requirement already satisfied: h11<0.15,>=0.13 in /system/conda/miniconda3/envs/cloudspace/lib/python3.10/site-packages (from httpcore==1.*->httpx<1,>=0.23.0->openai>1->ragas) (0.14.0)\n",
      "Requirement already satisfied: jsonpointer>=1.9 in /system/conda/miniconda3/envs/cloudspace/lib/python3.10/site-packages (from jsonpatch<2.0,>=1.33->langchain-core->ragas) (3.0.0)\n",
      "Requirement already satisfied: orjson<4.0.0,>=3.9.14 in /system/conda/miniconda3/envs/cloudspace/lib/python3.10/site-packages (from langsmith<0.3,>=0.1.17->langchain->ragas) (3.10.6)\n",
      "Requirement already satisfied: requests-toolbelt<2.0.0,>=1.0.0 in /system/conda/miniconda3/envs/cloudspace/lib/python3.10/site-packages (from langsmith<0.3,>=0.1.17->langchain->ragas) (1.0.0)\n",
      "Requirement already satisfied: python-dotenv>=0.21.0 in /system/conda/miniconda3/envs/cloudspace/lib/python3.10/site-packages (from pydantic-settings<3.0.0,>=2.4.0->langchain-community->ragas) (1.0.1)\n",
      "Requirement already satisfied: charset-normalizer<4,>=2 in /system/conda/miniconda3/envs/cloudspace/lib/python3.10/site-packages (from requests>=2.32.2->datasets->ragas) (3.3.2)\n",
      "Requirement already satisfied: urllib3<3,>=1.21.1 in /system/conda/miniconda3/envs/cloudspace/lib/python3.10/site-packages (from requests>=2.32.2->datasets->ragas) (2.2.2)\n",
      "Requirement already satisfied: greenlet!=0.4.17 in /system/conda/miniconda3/envs/cloudspace/lib/python3.10/site-packages (from SQLAlchemy<3,>=1.4->langchain->ragas) (3.0.3)\n",
      "Requirement already satisfied: mypy-extensions>=0.3.0 in /system/conda/miniconda3/envs/cloudspace/lib/python3.10/site-packages (from typing-inspect<1,>=0.4.0->dataclasses-json<0.7,>=0.5.7->langchain-community->ragas) (1.0.0)\n",
      "Note: you may need to restart the kernel to use updated packages.\n"
     ]
    }
   ],
   "source": [
    "pip install pandas ragas\n"
   ]
  },
  {
   "cell_type": "code",
   "execution_count": 22,
   "metadata": {},
   "outputs": [
    {
     "name": "stdout",
     "output_type": "stream",
     "text": [
      "['question', 'answer', 'contexts', 'ground_truths', 'reference']\n"
     ]
    },
    {
     "data": {
      "application/vnd.jupyter.widget-view+json": {
       "model_id": "b7861610adca4f71a9927561ea576bc7",
       "version_major": 2,
       "version_minor": 0
      },
      "text/plain": [
       "Evaluating:   0%|          | 0/12 [00:00<?, ?it/s]"
      ]
     },
     "metadata": {},
     "output_type": "display_data"
    },
    {
     "name": "stdout",
     "output_type": "stream",
     "text": [
      "                                          user_input  \\\n",
      "0          how's the reviews for food and cafeteria?   \n",
      "1  How are the reviews regarding the emotional su...   \n",
      "2  How do the reviews rate nurses' responsiveness...   \n",
      "\n",
      "                                  retrieved_contexts  \\\n",
      "0  [The cafeteria offered a good selection of hea...   \n",
      "1  [I respected that the nurse involved my family...   \n",
      "2  [The nurse responded to the call bell so quick...   \n",
      "\n",
      "                                            response  \\\n",
      "0  The cafeteria offers a good selection of healt...   \n",
      "1  Nurses are recognized for involving patients' ...   \n",
      "2  Patients report high levels of responsiveness ...   \n",
      "\n",
      "                                     reference  context_precision  \\\n",
      "0        The cafeteria offers healthy options.           1.000000   \n",
      "1  Nurses provide excellent emotional support.           0.638889   \n",
      "2                  Nurses are very responsive.           1.000000   \n",
      "\n",
      "   context_recall  faithfulness  answer_relevancy  \n",
      "0             1.0      0.333333          0.000000  \n",
      "1             1.0      0.636364          0.932657  \n",
      "2             1.0      0.777778          0.955777  \n"
     ]
    }
   ],
   "source": [
    "import pandas as pd\n",
    "from datasets import Dataset\n",
    "from ragas import evaluate\n",
    "from ragas.metrics import (\n",
    "    ContextPrecision,\n",
    "    ContextRecall,\n",
    "    Faithfulness,\n",
    "    AnswerRelevancy,\n",
    ")\n",
    "\n",
    "# Load your dataset from CSV\n",
    "dataset_df = pd.read_csv(\"evaluation/Evaluation and Testing - Reviews .csv\")\n",
    "\n",
    "# Ensure that contexts and ground_truths are treated as lists\n",
    "import ast\n",
    "\n",
    "# Convert contexts and ground_truths from string representation of lists to actual lists\n",
    "dataset_df['contexts'] = dataset_df['contexts'].apply(ast.literal_eval)\n",
    "dataset_df['ground_truths'] = dataset_df['ground_truths'].apply(ast.literal_eval)\n",
    "\n",
    "# Create a Hugging Face Dataset from the DataFrame\n",
    "dataset = Dataset.from_pandas(dataset_df)\n",
    "\n",
    "# Ensure the dataset columns are correct\n",
    "print(dataset.column_names)  # Use this to print column names\n",
    "\n",
    "# Instantiate the metrics\n",
    "metrics = [\n",
    "    ContextPrecision(),\n",
    "    ContextRecall(),\n",
    "    Faithfulness(),\n",
    "    AnswerRelevancy(),\n",
    "]\n",
    "\n",
    "# Perform the evaluation\n",
    "result = evaluate(\n",
    "    dataset=dataset,\n",
    "    metrics=metrics,\n",
    ")\n",
    "\n",
    "# Convert the results to a pandas DataFrame\n",
    "df_results = result.to_pandas()\n",
    "\n",
    "# Print evaluation results\n",
    "print(df_results)\n",
    "\n",
    "# Save evaluation results to CSV\n",
    "df_results.to_csv(\"evaluation_results_1.csv\", index=False)\n"
   ]
  },
  {
   "cell_type": "code",
   "execution_count": 33,
   "metadata": {},
   "outputs": [
    {
     "name": "stdout",
     "output_type": "stream",
     "text": [
      "['question', 'answer', 'contexts', 'ground_truths', 'reference']\n"
     ]
    },
    {
     "data": {
      "application/vnd.jupyter.widget-view+json": {
       "model_id": "0c6399c76f8f440882b8a3969ac57d3c",
       "version_major": 2,
       "version_minor": 0
      },
      "text/plain": [
       "Evaluating:   0%|          | 0/12 [00:00<?, ?it/s]"
      ]
     },
     "metadata": {},
     "output_type": "display_data"
    },
    {
     "name": "stdout",
     "output_type": "stream",
     "text": [
      "                                          user_input  \\\n",
      "0  What are my responsibilities when handing over...   \n",
      "1  What should I do to prepare patients to be dis...   \n",
      "2  What are the criteria for nurses providing car...   \n",
      "\n",
      "                                  retrieved_contexts  \\\n",
      "0  [Duties and responsibilities of each shift: Pr...   \n",
      "1  [Inform patients how to take care of themselve...   \n",
      "2  [Standard 1 nurses provide care for patients a...   \n",
      "\n",
      "                                            response  \\\n",
      "0  Based on the given scenario, when handing over...   \n",
      "1  To prepare patients for discharge from the hos...   \n",
      "2  Based on the information provided, here are th...   \n",
      "\n",
      "                                           reference  context_precision  \\\n",
      "0  Nurses must arrive 15 minutes early, review pa...                1.0   \n",
      "1  Assess patient readiness for self-care and pro...                1.0   \n",
      "2  Nurses must provide 24/7 care, ensure team lea...                0.0   \n",
      "\n",
      "   context_recall  faithfulness  answer_relevancy  \n",
      "0        1.000000       0.26087          0.914104  \n",
      "1        1.000000       0.40000          0.971241  \n",
      "2        0.666667       0.00000          0.891105  \n"
     ]
    }
   ],
   "source": [
    "import pandas as pd\n",
    "from datasets import Dataset\n",
    "from ragas import evaluate\n",
    "from ragas.metrics import (\n",
    "    ContextPrecision,\n",
    "    ContextRecall,\n",
    "    Faithfulness,\n",
    "    AnswerRelevancy,\n",
    ")\n",
    "\n",
    "# Load your dataset from CSV\n",
    "dataset_df = pd.read_csv(\"evaluation/Evaluation and Testing - Standards (1).csv\", encoding=\"ISO-8859-1\")\n",
    "\n",
    "# Ensure that contexts and ground_truths are treated as lists\n",
    "import ast\n",
    "\n",
    "# Convert contexts and ground_truths from string representation of lists to actual lists\n",
    "dataset_df['contexts'] = dataset_df['contexts'].apply(ast.literal_eval)\n",
    "dataset_df['ground_truths'] = dataset_df['ground_truths'].apply(ast.literal_eval)\n",
    "\n",
    "# Create a Hugging Face Dataset from the DataFrame\n",
    "dataset = Dataset.from_pandas(dataset_df)\n",
    "\n",
    "# Ensure the dataset columns are correct\n",
    "print(dataset.column_names)  # Use this to print column names\n",
    "\n",
    "# Instantiate the metrics\n",
    "metrics = [\n",
    "    ContextPrecision(),\n",
    "    ContextRecall(),\n",
    "    Faithfulness(),\n",
    "    AnswerRelevancy(),\n",
    "]\n",
    "\n",
    "# Perform the evaluation\n",
    "result = evaluate(\n",
    "    dataset=dataset,\n",
    "    metrics=metrics,\n",
    ")\n",
    "\n",
    "# Convert the results to a pandas DataFrame\n",
    "df_results = result.to_pandas()\n",
    "\n",
    "# Print evaluation results\n",
    "print(df_results)\n",
    "\n",
    "# Save evaluation results to CSV\n",
    "df_results.to_csv(\"standard_evaluation.csv\", index=False)"
   ]
  }
 ],
 "metadata": {
  "language_info": {
   "name": "python"
  }
 },
 "nbformat": 4,
 "nbformat_minor": 2
}
